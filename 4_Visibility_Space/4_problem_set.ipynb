{
 "cells": [
  {
   "cell_type": "markdown",
   "metadata": {},
   "source": [
    "***\n",
    "<a id='beginning'></a> <!--\\label{beginning}-->\n",
    "* [Outline](../0_Introduction/0_introduction.ipynb)\n",
    "* [Glossary](../0_Introduction/1_glossary.ipynb)\n",
    "* [4. The Visibility Space](4_0_introduction.ipynb)\n",
    "***"
   ]
  },
  {
   "cell_type": "markdown",
   "metadata": {},
   "source": [
    "Import standard modules:"
   ]
  },
  {
   "cell_type": "code",
   "execution_count": 1,
   "metadata": {},
   "outputs": [
    {
     "data": {
      "text/html": [
       "<style>\n",
       "\n",
       "p.prerequisites {\n",
       "    border:5px;\n",
       "    border-style:none;\n",
       "    background-color:#F0F0F0;\n",
       "    box-shadow: 5px 5px 2px #888888;\n",
       "    border-color:#FF0000;\n",
       "    padding: 1em;\n",
       "    }\n",
       "\n",
       "p.conclusion {\n",
       "    border:5px;\n",
       "    border-style:none;\n",
       "    background-color:#c8ebca;\n",
       "    box-shadow: 5px 5px 2px #888888;\n",
       "    border-color:#c8ebca;\n",
       "    padding: 1em;\n",
       "    }\n",
       "\n",
       "div.warn {    \n",
       "    background-color: #fcf2f2;\n",
       "    border-color: #dFb5b4;\n",
       "    border-left: 5px solid #dfb5b4;\n",
       "    padding: 0.5em;\n",
       "    }\n",
       "\n",
       "div.advice {    \n",
       "    background-color: #ecf8ed;\n",
       "    border-color: #a2dda5;\n",
       "    border-left: 5px solid #a2dda5;\n",
       "    padding: 0.5em;\n",
       "    }\n",
       "\n",
       "</style>\n",
       "\n"
      ],
      "text/plain": [
       "<IPython.core.display.HTML object>"
      ]
     },
     "execution_count": 1,
     "metadata": {},
     "output_type": "execute_result"
    }
   ],
   "source": [
    "import numpy as np\n",
    "import matplotlib.pyplot as plt\n",
    "%matplotlib inline\n",
    "from IPython.display import HTML \n",
    "HTML('../style/course.css') #apply general CSS"
   ]
  },
  {
   "cell_type": "markdown",
   "metadata": {},
   "source": [
    "Import section specific modules:"
   ]
  },
  {
   "cell_type": "code",
   "execution_count": 2,
   "metadata": {
    "collapsed": true
   },
   "outputs": [],
   "source": [
    "from IPython.display import Image"
   ]
  },
  {
   "cell_type": "code",
   "execution_count": 3,
   "metadata": {},
   "outputs": [
    {
     "data": {
      "text/html": [
       "<script>\n",
       "    code_show=false; \n",
       "    function code_toggle() {\n",
       "        if (code_show){\n",
       "            $('div.input').hide();\n",
       "        } else {\n",
       "            $('div.input').show();\n",
       "        }\n",
       "        code_show = !code_show\n",
       "    } \n",
       "    $( document ).ready(code_toggle);\n",
       "</script>\n",
       "\n",
       "The raw code for this notebook is by default hidden for easier reading. To toggle on/off the raw code, click <a href=\"javascript:code_toggle()\">here</a>.\n",
       "\n"
      ],
      "text/plain": [
       "<IPython.core.display.HTML object>"
      ]
     },
     "execution_count": 3,
     "metadata": {},
     "output_type": "execute_result"
    }
   ],
   "source": [
    "HTML('../style/code_toggle.html')"
   ]
  },
  {
   "cell_type": "markdown",
   "metadata": {},
   "source": [
    "## Visibility Space Problem Set"
   ]
  },
  {
   "cell_type": "markdown",
   "metadata": {},
   "source": [
    "### 1. Position of Orion\n",
    "\n",
    "下图给出了猎户座的恒星位置。\n",
    "\n",
    "The positions of the stars in the Orion constellation can be found in the figure below."
   ]
  },
  {
   "cell_type": "markdown",
   "metadata": {},
   "source": [
    "<img src='figures/orion_fig.png' width=300>"
   ]
  },
  {
   "cell_type": "markdown",
   "metadata": {},
   "source": [
    "**Figure:** 猎户座天空示意图  Schematic sky map of the Orion constellation."
   ]
  },
  {
   "cell_type": "markdown",
   "metadata": {},
   "source": [
    "Betelgeuse 和 Rigel 是猎户座最亮的两颗星，星座中心、Betelgeuse、Rigel的赤道坐标为：\n",
    "\n",
    "Betelgeuse and Rigel are the brightest stars in this constellation. The equatorial coordinates of the constellation's centre, Betelgeuse, and Rigel are:\n",
    "\n",
    "| Name | Right Ascension ($\\alpha$) | Declination ($\\delta$) |\n",
    "|:---:|:---:|:---:|\n",
    "| Center | 5h 30m $(\\alpha_0)$ | $0^{\\circ}$ $(\\delta_0)$ |\n",
    "| Betelgeuse | 5h 55m 10.3053s | $7^{\\circ}~24'~25.42''$ |\n",
    "| Rigel | 5h 14m 32.272s | $-8^{\\circ}~12'~5.898''$ |"
   ]
  },
  {
   "cell_type": "markdown",
   "metadata": {},
   "source": [
    "（1）计算猎户座中心、Betelgeuse 以及 Rigel 的$l$和 $m$ 坐标。假定视场中心正好就是猎户座中心。参考方向余弦坐标系[$\\S$ 3.4 &#10142;](../3_Positional_Astronomy/3_4_direction_cosine_coordinates.ipynb)\n",
    "\n",
    "(1) Calculate the $l$ and $m$ coordinates of Orion's center, Betelgeuse and Rigel? Assume that your field center was chosen to coincide with Orion's center. [specify your answers in degrees ($^{\\circ}$)]. [5] **Hint:**\n",
    "\\begin{eqnarray}\n",
    "    \\Delta \\alpha &=& \\alpha-\\alpha_0\\nonumber\\\\\n",
    "    l &=& \\cos \\delta \\sin \\Delta \\alpha \\nonumber\\\\\n",
    "    m &=& \\sin \\delta \\cos \\delta_0 - \\cos \\delta \\sin \\delta_0\\cos \\Delta \\alpha\\nonumber\n",
    "\\end{eqnarray}"
   ]
  },
  {
   "cell_type": "code",
   "execution_count": 4,
   "metadata": {},
   "outputs": [
    {
     "name": "stdout",
     "output_type": "stream",
     "text": [
      "RA (rad) of Sources and Field Center =  [1.43989663 1.54972913 1.37243035]\n",
      "DEC (rad) of Sources =  [ 0.          0.1292776  -0.13610709]\n",
      "l (degrees) =  [ 0.          6.22788696 -3.82687913]\n",
      "m (degrees) =  [ 0.          7.38644635 -7.77430634]\n"
     ]
    }
   ],
   "source": [
    "RA_rad = (np.pi/12) * np.array([5. + 30./60, 5 + 55./60 + 10.3053/3600, 5 + 14./60 + 32.272/3600])\n",
    "DEC_rad = (np.pi/180)*np.array([0., 7. + 24.0/60 + 25.42/3600, -8. + 12./60 + 5.898/3600])\n",
    "print(\"RA (rad) of Sources and Field Center = \", RA_rad)\n",
    "print(\"DEC (rad) of Sources = \", DEC_rad)\n",
    "\n",
    "RA_delta_rad = RA_rad-RA_rad[0] #calculating delta alpha\n",
    "\n",
    "l = np.cos(DEC_rad) * np.sin(RA_delta_rad)\n",
    "m = (np.sin(DEC_rad) * np.cos(DEC_rad[0]) - np.cos(DEC_rad) * np.sin(DEC_rad[0]) * np.cos(RA_delta_rad))\n",
    "print(\"l (degrees) = \", l*(180./np.pi))\n",
    "print(\"m (degrees) = \", m*(180./np.pi))"
   ]
  },
  {
   "cell_type": "markdown",
   "metadata": {},
   "source": [
    "（2）在投影$lm$平面上，场中到Betelgeuse的距离为多少？\n",
    "\n",
    "(2) What is the distance from the field center to Betelgeuse in the projected $lm$-plane? [1] **Hint:** $l^2+m^2 = d^2$. "
   ]
  },
  {
   "cell_type": "code",
   "execution_count": 6,
   "metadata": {},
   "outputs": [
    {
     "name": "stdout",
     "output_type": "stream",
     "text": [
      "the distance from the field center to Betelgeuse (rad) =  0.16862641579958426\n",
      "the distance from the field center to Betelgeuse (degrees) =  9.66158193973432\n"
     ]
    }
   ],
   "source": [
    "D_Betel = np.sqrt(l[1]**2+m[1]**2)\n",
    "\n",
    "print(\"the distance from the field center to Betelgeuse (rad) = \", D_Betel)\n",
    "print(\"the distance from the field center to Betelgeuse (degrees) = \", D_Betel*(180./np.pi))"
   ]
  },
  {
   "cell_type": "markdown",
   "metadata": {},
   "source": [
    "（3）天球上，场中到Betelgeuse的角距离为多少？\n",
    "\n",
    "(3) What is the angular distance from the field center to Betelgeuse on the celestial sphere? [1] **Hint:** $l^2+m^2 = \\sin^2 \\theta$."
   ]
  },
  {
   "cell_type": "code",
   "execution_count": 11,
   "metadata": {},
   "outputs": [
    {
     "name": "stdout",
     "output_type": "stream",
     "text": [
      "the angular distance from the field center to Betelgeuse on the celestial sphere (rad) =  0.16943596288833088\n",
      "the angular distance from the field center to Betelgeuse on the celestial sphere (degrees) =  9.707965571236604\n"
     ]
    }
   ],
   "source": [
    "D_Betel_celes = np.arcsin(D_Betel)\n",
    "print(\"the angular distance from the field center to Betelgeuse on the celestial sphere (rad) = \", D_Betel_celes)\n",
    "print(\"the angular distance from the field center to Betelgeuse on the celestial sphere (degrees) = \", 180./np.pi*D_Betel_celes)"
   ]
  },
  {
   "cell_type": "markdown",
   "metadata": {},
   "source": [
    "（4）直接用赤道坐标（置于天球上）检验上述问题？提示：用球面勾股定理。\n",
    "\n",
    "(4) Verify the previous question by using the equatorial coordinates directly (stay on the celestial sphere)? [1] **Hint:** Use the spherical Pythagorean theorem."
   ]
  },
  {
   "cell_type": "markdown",
   "metadata": {},
   "source": [
    "（5）我们为什么要用$^{\\circ}$来度量方向余弦的$l$和$m$，为什么都没有单位？提示：用上述三个结果来回答本题。\n",
    "\n",
    "(5) Why do we measure $l$ and $m$ in $^{\\circ}$ if they are direction cosines and therefore by definition unit-less? [1] **Hint:** Use the previous three results to answer this question."
   ]
  },
  {
   "cell_type": "markdown",
   "metadata": {},
   "source": [
    "（6）当猎户坐中心出现在地平线上时，其时角为多少？中心在哪个方向？提示：记住猎户坐的中心在$\\delta = 0^{\\circ}$，跟春分点的太阳的赤纬一样。\n",
    "\n",
    "(6) What will the hour angle of Orion's center be when it appear above the horizon? In which direction will Orion's center appear? [1] **Hint:** Remember Orion's center is at $\\delta = 0^{\\circ}$. It is the same declination the sun has when it lies on one of the equinoxes. "
   ]
  },
  {
   "cell_type": "markdown",
   "metadata": {},
   "source": [
    "**Subtotal 10**"
   ]
  },
  {
   "cell_type": "markdown",
   "metadata": {},
   "source": [
    "### 2. Papino and Paperino\n",
    "\n",
    "在后面的作业里，我们将用到一个只有两个射电源的虚拟天空，其赤道坐标为：\n",
    "\n",
    "We will be using a fictitious piece of sky (containing only two radio sources) in the remainder of the assignment. The equatorial coordinates of this fictitious sky are:\n",
    "\n",
    "| Name | Flux | Right Ascension ($\\alpha$) | Declination $\\delta$ |\n",
    "|:---:|:---:|:---:|:---:|\n",
    "| Papino | 1Jy | -4h 44m 6.686s $(\\alpha_0)$ | $-74^{\\circ}39'37.481''$ $(\\delta_0)$ |\n",
    "| Paperino | 0.2Jy | -4h 44m 6.686 | $-73^{\\circ}39'37.298''$ |"
   ]
  },
  {
   "cell_type": "markdown",
   "metadata": {},
   "source": [
    "（1）计算Papino 和 Paperino 的 $l$ 和 $m$ 坐标，结果用弧度表示。这里假设Papino为视场中心。\n",
    "\n",
    "(1) Calculate the $l$ and $m$ coordinates of Papino and Paperino? Assume Papino and the field-center coincide.  Express your answer in *radians*. [3]"
   ]
  },
  {
   "cell_type": "code",
   "execution_count": 21,
   "metadata": {},
   "outputs": [
    {
     "name": "stdout",
     "output_type": "stream",
     "text": [
      "RA (rad) of Sources =  [-0.85472511 -0.85472511]\n",
      "DEC (rad) of Sources =  [-1.28001729 -1.26256489]\n",
      "l (rad) of Sources =  [0. 0.]\n",
      "m (rad) of Sources =  [0.         0.01745152]\n"
     ]
    }
   ],
   "source": [
    "RA_rad = (np.pi/12) * np.array([ -4. + 44./60+6.686/3600, -4. + 44./60 + 6.686/3600])\n",
    "DEC_rad = (np.pi/180)*np.array([ -74. + 39.0/60 + 37.481/3600, -73. + 39./60 + 37.298/3600])\n",
    "Flux_sources = np.array([1., 0.2]) #in Janskys\n",
    "print(\"RA (rad) of Sources = \", RA_rad)\n",
    "print(\"DEC (rad) of Sources = \", DEC_rad)\n",
    "\n",
    "RA_delta_rad = RA_rad-RA_rad[0] #calculating delta alpha\n",
    "\n",
    "l = np.cos(DEC_rad) * np.sin(RA_delta_rad)\n",
    "m = (np.sin(DEC_rad) * np.cos(DEC_rad[0]) - np.cos(DEC_rad) * np.sin(DEC_rad[0]) * np.cos(RA_delta_rad))\n",
    "\n",
    "print(\"l (rad) of Sources = \", l)\n",
    "print(\"m (rad) of Sources = \", m)\n"
   ]
  },
  {
   "cell_type": "markdown",
   "metadata": {},
   "source": [
    "(2) 假定Papino 和 Paperino都是点源，写出虚拟天空的表达式，即$I(l,m)$。提示：点源可以用一个狄拉克函数（$\\delta$）函数表示，该$\\delta$函数的幅度等于点源的流量，平移参数描述点源的位置。\n",
    "\n",
    "(2) Write down an equation that completely describes this fictitious sky by assuming Papino and Paperino are perfect point sources (i.e. $I(l,m)$)? [3] **Hint:** A point source can be represented with a delta-function, the amplitude of the delta function is equal to the flux of the point source and the translation parameters describe the position of the point source."
   ]
  },
  {
   "cell_type": "code",
   "execution_count": 19,
   "metadata": {},
   "outputs": [
    {
     "name": "stdout",
     "output_type": "stream",
     "text": [
      "the virtual sky is:  [[1.         0.         0.        ]\n",
      " [0.2        0.         0.01745152]]\n"
     ]
    }
   ],
   "source": [
    "point_sources = np.zeros((len(RA_rad),3))\n",
    "point_sources[:,0] = Flux_sources\n",
    "point_sources[:,1] = l\n",
    "point_sources[:,2] = m\n",
    "\n",
    "print(\"the virtual sky is: \",point_sources)"
   ]
  },
  {
   "cell_type": "markdown",
   "metadata": {},
   "source": [
    "（3）写出用一个理想干涉仪（能对整个*uv*平面进行全采样）进行观测的复可见度$V(u,v)$。提示：对$I(l,m)$做傅立叶变换，$v$的单位为rad$^{-1}$。\n",
    "\n",
    "(3) Find the expression of the complex visibilities $V(u,v)$ that we would observe with an ideal interferometer (an interferometer that could sample the entire *uv*-plane). [2] **Hint:** Take the Fourier transform of $I(l,m)$. The unit of $v$ is rad$^{-1}$ (per radian). "
   ]
  },
  {
   "cell_type": "code",
   "execution_count": 19,
   "metadata": {},
   "outputs": [
    {
     "name": "stdout",
     "output_type": "stream",
     "text": [
      "the virtual sky is:  [[1.         0.         0.        ]\n",
      " [0.2        0.         0.01745152]]\n"
     ]
    }
   ],
   "source": [
    "point_sources = np.zeros((len(RA_rad),3))\n",
    "point_sources[:,0] = Flux_sources\n",
    "point_sources[:,1] = l\n",
    "point_sources[:,2] = m\n",
    "\n",
    "print(\"the virtual sky is: \",point_sources)"
   ]
  },
  {
   "cell_type": "markdown",
   "metadata": {},
   "source": [
    "（4）计算$V(v)=V(0,v)$，即$u=0$的平面上的$V(u,v)$。\n",
    "\n",
    "(4) Calculate $V(v)=V(0,v)$, i.e. the cross section of $V(u,v)$ with the plane $u=0$. [2]"
   ]
  },
  {
   "cell_type": "markdown",
   "metadata": {},
   "source": [
    "**Subtotal 10**"
   ]
  },
  {
   "cell_type": "markdown",
   "metadata": {},
   "source": [
    "### 3. 用KAT-7观测 Papino 和 Paperino    KAT-7 Observation of Papino and Paperino\n",
    "\n",
    "KAT-7位于南非的卡鲁，是由7面天线构成的干涉仪。下表给出了KAT-7的ENU(east-north-up)坐标。本节将假设用KAT-7观测问题2中的虚拟天空，导出干涉仪的uv轨迹，加深对可见度的理解。\n",
    "\n",
    "KAT-7 is a radio interferometer that consists out of 7 dishes and is located in the Karoo, South Africa. The ENU (east-north-up) coordinates of this telescope is listed in the table below. We will assume that we observed the fictitious field from the problem 2. The main aim of this section is to enable you to derive the *uv*-tracks of an interferometer and to improve your understanding of visibilities.\n",
    "\n",
    "KAT-7的ENU坐标：\n",
    "\n",
    "The ENU coordinates of KAT-7:\n",
    "\n",
    "| Antenna | E ($x$) | N ($y$) | U ($z$) |\n",
    "|:---:|:---:|:---:|:---:|\n",
    "| Antenna 1 | 25.095 m ($x_1$) | -9.095 m ($y_1$) | 0.045 m ($z_1$) |\n",
    "| Antenna 2 | 90.284 m | 26.380 m | -0.226 m |\n",
    "| Antenna 3 | 3.985 m | 26.893 m | 0.000 m |\n",
    "| Antenna 4 | -21.605 m | 25.494 m | 0.019 m |\n",
    "| Antenna 5 | -38.272 m | -2.592 m | 0.391 m |\n",
    "| Antenna 6 | -61.595 m | -79.699 m | 0.702 m |\n",
    "| Antenna 7 | -87.988 m | 75.754 m | 0.138\\m |\n",
    "\n",
    "观测参数：\n",
    "\n",
    "The observation parameters are:\n",
    "\n",
    "| Name | Value |\n",
    "|:---:|:---:|\n",
    "| Latitude $L$ | $-30^{\\circ}43'17.34''$ |\n",
    "| Starting hour angle $H_0$ | -4h |\n",
    "| Stopping hour angle $H_1$ | 4h |\n",
    "| Field center $\\delta_0$ | $-74^{\\circ}39'37.481''$ |\n",
    "| Field center $\\alpha_0$ | -4h~44m~6.686s |\n",
    "| Observational Frequency $\\nu$ | 1.4 GHz |\n",
    "\n"
   ]
  },
  {
   "cell_type": "code",
   "execution_count": 4,
   "metadata": {
    "collapsed": true
   },
   "outputs": [],
   "source": [
    "antennas = np.array([[ 25.095, -9.095,  0.045], #LOADING KAT7 ANTENNAS\n",
    "            [ 90.284, 26.380, -0.226],\n",
    "            [  3.985, 26.839,  0.000],\n",
    "            [-21.605, 25.494,  0.019],\n",
    "            [-38.272, -2.582,  0.391],\n",
    "            [-61.595,-79.699,  0.792],\n",
    "            [-87.988, 75.754,  0.138]])"
   ]
  },
  {
   "cell_type": "code",
   "execution_count": 5,
   "metadata": {},
   "outputs": [
    {
     "name": "stderr",
     "output_type": "stream",
     "text": [
      "/work/anaconda3/lib/python3.7/site-packages/matplotlib/cbook/deprecation.py:107: MatplotlibDeprecationWarning: Passing one of 'on', 'true', 'off', 'false' as a boolean is deprecated; use an actual boolean (True/False) instead.\n",
      "  warnings.warn(message, mplDeprecation, stacklevel=1)\n"
     ]
    },
    {
     "data": {
      "image/png": "[encoded data removed]",
      "text/plain": [
       "<Figure size 432x288 with 1 Axes>"
      ]
     },
     "metadata": {
      "needs_background": "light"
     },
     "output_type": "display_data"
    }
   ],
   "source": [
    "plt.scatter(antennas[:,0], antennas[:,1])\n",
    "plt.grid('on')\n",
    "plt.xlabel('E-W [m]')\n",
    "plt.ylabel('N-S [m]')\n",
    "plt.title('KAT7 Array Layout')\n",
    "plt.show()"
   ]
  },
  {
   "cell_type": "markdown",
   "metadata": {},
   "source": [
    "（1）计算ENU坐标系下的基线矢量$\\boldsymbol{b}_{12}^{xyz}$，提示：$\\boldsymbol{b}_{12}^{xyz} = (x_2-x_1,y_2-y_1,z_2-z_1)$。\n",
    "\n",
    "(1) Calculate the ENU baseline difference vector $\\boldsymbol{b}_{12}^{xyz}$ of baseline 12? [1] **Hint:** $\\boldsymbol{b}_{12}^{xyz} = (x_2-x_1,y_2-y_1,z_2-z_1)$."
   ]
  },
  {
   "cell_type": "code",
   "execution_count": 20,
   "metadata": {
    "collapsed": true
   },
   "outputs": [],
   "source": [
    "b_ENU = np.zeros([antennas.shape[0],antennas.shape[0],3], np.float)       # baseline\n",
    "for x in range(antennas.shape[0]):\n",
    "    b_ENU[x] = antennas-antennas[x]"
   ]
  },
  {
   "cell_type": "markdown",
   "metadata": {},
   "source": [
    "（2）计算投影基线长度$D_{12}$ of $\\boldsymbol{b}_{12}^{xyz}$\n",
    "\n",
    "(2) Calculate the length $D_{12}$ of $\\boldsymbol{b}_{12}^{xyz}$. [1]"
   ]
  },
  {
   "cell_type": "code",
   "execution_count": 19,
   "metadata": {
    "collapsed": true
   },
   "outputs": [],
   "source": [
    "D = np.zeros([antennas.shape[0]**2],np.float)\n",
    "# D = b_ENU[:,0,0]**2 + b_ENU[0,:,0]**2 + b_ENU[0,0:]**2"
   ]
  },
  {
   "cell_type": "markdown",
   "metadata": {},
   "source": [
    "（3）计算$\\boldsymbol{b}_{12}^{xyz}$的方位角$\\mathcal{A}_{12}$和高度角$\\mathcal{E}_{12}$，提示：方位角计算时，要按照从北往东的方向。\n",
    "\n",
    "(3) Calculate the azimuth angle $\\mathcal{A}_{12}$ and the elevation (altitude) angle $\\mathcal{E}_{12}$ of $\\boldsymbol{b}_{12}^{xyz}$? [2] **Hint:** Remember the azimuth angle is measured from the north towards the east. "
   ]
  },
  {
   "cell_type": "markdown",
   "metadata": {},
   "source": [
    "（4）由纬度、方位角、高度角计算$\\boldsymbol{b}_{12}^{XYZ}=\\begin{bmatrix}X_{12}\\\\Y_{12}\\\\Z_{12}\\end{bmatrix}$\n",
    "\n",
    "(4) Calculate $\\boldsymbol{b}_{12}^{XYZ}=\\begin{bmatrix}X_{12}\\\\Y_{12}\\\\Z_{12}\\end{bmatrix}$? [3] **Hint:** Recall that\n",
    "\\begin{equation}\n",
    "\\begin{bmatrix}X_{12}\\\\Y_{12}\\\\Z_{12}\\end{bmatrix}=D_{12}\n",
    " \\begin{bmatrix}\n",
    " \\cos L_a \\sin \\mathcal{E}_{12} - \\sin L_a \\cos \\mathcal{E}_{12} \\cos \\mathcal{A}_{12}\\nonumber\\\\ \n",
    " \\cos \\mathcal{E}_{12} \\sin \\mathcal{A}_{12} \\nonumber\\\\\n",
    " \\sin L_a \\sin \\mathcal{E}_{12} + \\cos L_a \\cos \\mathcal{E}_{12} \\cos \\mathcal{A}_{12}\n",
    " \\end{bmatrix}\n",
    " \\end{equation}"
   ]
  },
  {
   "cell_type": "markdown",
   "metadata": {},
   "source": [
    "（5）根据频率和光速，计算观测波长$\\lambda$?\n",
    "\n",
    "(5) Calculate the observational wavelength $\\lambda$? [1] **Hint:** $\\lambda f=c$."
   ]
  },
  {
   "cell_type": "markdown",
   "metadata": {},
   "source": [
    "(6) Calculate $\\sqrt{X_{12}^2 + Y_{12}^2}\\lambda^{-1}$, $|\\sin \\delta_0| \\sqrt{X_{12}^2 + Y_{12}^2}\\lambda^{-1}$ and $\\cos\\delta_0 Z_{12}\\lambda^{-1}$ [3]."
   ]
  },
  {
   "cell_type": "markdown",
   "metadata": {},
   "source": [
    "（7）画出24时内基线12和基线21的uv轨迹。提示：干涉仪基线矢量轨迹为椭圆，24时正好是一整个椭圆。上个问题中的计算结果决定了椭圆形状，同时，$\\boldsymbol{b}_{12}^{xyz}=-\\boldsymbol{b}_{21}^{xyz}$。\n",
    "\n",
    "(7) Draw the *uv*-tracks of baseline 12 and 21 that are generated; during a 24h observation? [2] **Hint:** The baseline vector of an interferometer trace out an elliptical locus (after 24 hours it will complete one entire revolution). The values calculated in the previous question determine the shape of the elliptical locus. Moreover, $\\boldsymbol{b}_{12}^{xyz}=-\\boldsymbol{b}_{21}^{xyz}$."
   ]
  },
  {
   "cell_type": "markdown",
   "metadata": {},
   "source": [
    "（8）生成基线12的(*u,v*)坐标，$H_0=$ -4h。提示：回忆：\n",
    "\n",
    "(8) Generate the coordinate pair (*u,v*) associated with baseline 12 and $H_0=$ -4h. [2] **Hint:** Recall that\n",
    " \\begin{equation}\n",
    " \\begin{bmatrix}\n",
    " u_{12}\\\\\n",
    " v_{12}\n",
    " \\end{bmatrix} =\\lambda^{-1}\n",
    " \\begin{bmatrix}\n",
    " \\sin H & \\cos H & 0\\\\\n",
    " -\\sin \\delta_0 \\cos H & \\sin \\delta_0 \\sin H & \\cos \\delta_0\n",
    " \\end{bmatrix}\n",
    " \\begin{bmatrix}\n",
    " X_{12}\\\\\n",
    " Y_{12}\\\\\n",
    " Z_{12}\n",
    "\\end{bmatrix}\n",
    "\\end{equation}"
   ]
  },
  {
   "cell_type": "markdown",
   "metadata": {},
   "source": [
    "（9）为什么*u* 和 *v* 没有单位呢？为什么我们用rad$^{-1}$来度量*u* 和 *v*呢？提示：长度和波长的单位是什么？这两个量的比值的单位是什么？\n",
    "\n",
    "(9)  Why is *u* and *v* unit-less? Why then do we measure *u* and *v* in rad$^{-1}$? [1] **Hint:** In what unit do we measure length and wavelength? What is the unit of the ratio of these two quantities?"
   ]
  },
  {
   "cell_type": "markdown",
   "metadata": {},
   "source": [
    "（10）生成基线(*u,v*)的坐标，$H_1=$ 4h。 [2]\n",
    "\n",
    "(10) Generate the coordinate pair (*u,v*) associated with baseline 12 and $H_1=$ 4h. [2]"
   ]
  },
  {
   "cell_type": "markdown",
   "metadata": {},
   "source": [
    "（11）画出-4h $\\leq H \\leq$ 4h，基线12和基线21的uv轨迹。 [2]\n",
    "\n",
    "(11) Draw the *uv*-tracks of baseline 12 and 21 for -4h $\\leq H \\leq$ 4h. [2]"
   ]
  },
  {
   "cell_type": "markdown",
   "metadata": {},
   "source": [
    "（12）对我们前面给出的天空进行观测，但是$\\delta_0 = 0^{\\circ}$（Papino位于天赤道），算出基线12在-4h < H < 4h区间的uv覆盖，按时间点出我们将要观测的600个不同的可见度[5]。\n",
    "\n",
    "(12) Assume we observe the exact same sky as we calculated in the previous section (i.e. the *l* and *m* coordinates of our skymodel stay the same), but now let $\\delta_0 = 0^{\\circ}$ (Papino lies on the celestial equator). Calculate the *uv*-coverage of baseline 12 with -4h < H < 4h. Also, plot the visibilities that we would observe as a function of timeslots - (we obtained the visibilities at 600 different (*u,v*) pairs on the elliptical locus)? [5]"
   ]
  },
  {
   "cell_type": "markdown",
   "metadata": {},
   "source": [
    "**Subtotal 25**"
   ]
  },
  {
   "cell_type": "markdown",
   "metadata": {},
   "source": [
    "### 4. 干涉阵的基本参数 Basic Properties of an Interferometric Array\n",
    "\n",
    "下表给出了一个干涉阵列的基本参数，在这些基本参数的基础上，可以得出阵列的二级参数。后面的问题里，假定我们观测频率为1.4 GHz* ($\\nu_0$)，给出公式里的角度单位为弧度，答案里的角请用度、角分、角秒进行描述。\n",
    "\n",
    "In the table below we have some of the basic properties of an interferometric array, with these basic properties we can determine some of the array's secondary properties. For all the questions that follow, assume we are *observing at 1.4 GHz* ($\\nu_0$). **Note:** Assume that all the angles in the formulae given are in *radians*. Express all your answers, those that are angles, in degrees, arcminutes and arcseconds.\n",
    "\n",
    "| Property | Value |\n",
    "|:---:|:---:|\n",
    "| Antennas $N_{\\textrm{ant}}$ | 7 |\n",
    "| Dish diameter $D$ | 12 m |\n",
    "| Longest baseline length $b_{\\textrm{max}}$ | 185 m |\n",
    "| Channel bandwidth $\\Delta \\nu$ | 92.9121 MHz |\n",
    "| Frequency range | 1.4 - 1.95 GHz |"
   ]
  },
  {
   "cell_type": "code",
   "execution_count": null,
   "metadata": {
    "collapsed": true
   },
   "outputs": [],
   "source": [
    "f0 = 1.4*10**9\n",
    "D = 12\n",
    "bmax = 185\n",
    "cB = 92.9121*10**6\n",
    "Na = 7"
   ]
  },
  {
   "cell_type": "markdown",
   "metadata": {},
   "source": [
    "（1）该干涉阵有多少基线？提示：$\\frac{N_{\\textrm{ant}}^2-N_{\\textrm{ant}}}{2}$。\n",
    "\n",
    "(1) How many baselines does the interferometric array have? [1] **Hint:** $\\frac{N_{\\textrm{ant}}^2-N_{\\textrm{ant}}}{2}$."
   ]
  },
  {
   "cell_type": "markdown",
   "metadata": {},
   "source": [
    "（2）如何确定干涉阵的主波束（半高全宽）？提示：$\\theta_p \\approx \\frac{\\lambda_0}{D}$。\n",
    "\n",
    "(2) Determine the approximate size of the primary beam (full width half maximum beamwidth) of the interferometric array. [2] **Hint:** $\\theta_p \\approx \\frac{\\lambda_0}{D}$."
   ]
  },
  {
   "cell_type": "markdown",
   "metadata": {},
   "source": [
    "（3）如何确定干涉阵的角分辨率？提示：$\\theta_s \\approx \\frac{\\lambda_0}{b_{\\textrm{max}}}$。\n",
    "\n",
    "(3) Determine the angular resolution of the interferometric array. [1] **Hint:** $\\theta_s \\approx \\frac{\\lambda_0}{b_{\\textrm{max}}}$."
   ]
  },
  {
   "cell_type": "markdown",
   "metadata": {},
   "source": [
    "（4）确定来自场中没有被条纹冲洗函数严重衰减的源的最大角度 $\\Delta \\theta$，提示：$\\Delta \\theta \\Delta \\nu << \\theta_s \\nu_0$。\n",
    "\n",
    "(4) Determine the maximum angular radius $\\Delta \\theta$ a source can be from the field center and not be heavily attenuated by the fringe washing function. [1] **Hint:** $\\Delta \\theta \\Delta \\nu << \\theta_s \\nu_0$."
   ]
  },
  {
   "cell_type": "markdown",
   "metadata": {},
   "source": [
    "（5）确定在可容忍时间拖尾（由条纹冲洗函数计算最大角度）范围内的最长积分时间$\\Delta t$，提示：$\\frac{2\\pi\\Delta \\theta\\Delta t}{P} <<\\theta_s$。\n",
    "\n",
    "(5) Determine the maximum integration time $\\Delta t$ length if you want to prevent time smearing (within the maximum angular radius given by your fringe washing function). [1] **Hint:** $\\frac{2\\pi\\Delta \\theta\\Delta t}{P} <<\\theta_s$."
   ]
  },
  {
   "cell_type": "markdown",
   "metadata": {},
   "source": [
    "（6）确定可忽略$w$项的视场$\\Delta \\theta_F$，提示：$\\Delta \\theta_F < \\frac{1}{3}\\sqrt{\\theta_s}$。\n",
    "\n",
    "(6) Determine the field of view $\\Delta \\theta_F$ in which we may assume that the $w$-term is negligible. [1] **Hint:** $\\Delta \\theta_F < \\frac{1}{3}\\sqrt{\\theta_s}$"
   ]
  },
  {
   "cell_type": "markdown",
   "metadata": {},
   "source": [
    "（7）在一张图中画出$\\theta_p$、 $\\theta_s$、$\\Delta \\theta$ 以及 $\\Delta \\theta_F$ ，提示：\n",
    "\n",
    "(7) Represent $\\theta_p$, $\\theta_s$, $\\Delta \\theta$ and $\\Delta \\theta_F$ graphically (in one figure). [3] **Hint:** Draw concentric circles and use the angles as radii or diameters."
   ]
  },
  {
   "cell_type": "markdown",
   "metadata": {},
   "source": [
    "**Subtotal 10**"
   ]
  },
  {
   "cell_type": "markdown",
   "metadata": {},
   "source": [
    "**Total Marks 55**  \n",
    "**Full Marks 50**"
   ]
  },
  {
   "cell_type": "markdown",
   "metadata": {},
   "source": [
    "***\n",
    "Return: [4. The Visibility Space](4_0_introduction.ipynb)"
   ]
  }
 ],
 "metadata": {
  "kernelspec": {
   "display_name": "Python 3",
   "language": "python",
   "name": "python3"
  },
  "language_info": {
   "codemirror_mode": {
    "name": "ipython",
    "version": 3
   },
   "file_extension": ".py",
   "mimetype": "text/x-python",
   "name": "python",
   "nbconvert_exporter": "python",
   "pygments_lexer": "ipython3",
   "version": "3.6.9"
  }
 },
 "nbformat": 4,
 "nbformat_minor": 2
}
