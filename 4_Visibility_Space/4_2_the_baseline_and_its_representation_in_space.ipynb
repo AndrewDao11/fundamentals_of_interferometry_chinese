{
 "cells": [
  {
   "cell_type": "markdown",
   "metadata": {},
   "source": [
    "#### ***\n",
    "\n",
    "* [Outline](../0_Introduction/0_introduction.ipynb)\n",
    "* [Glossary](../0_Introduction/1_glossary.ipynb)\n",
    "* [4. The Visibility Space](4_0_introduction.ipynb)\n",
    "    * Previous: [4.1 Periodic Functions and Fourier Analysis](4_1_periodic_functions_and_fourier_analysis.ipynb)\n",
    "    * Next: [4.3 The 2-element Interferometer](4_3_the_2-element_interferometer.ipynb)\n",
    "\n",
    "***"
   ]
  },
  {
   "cell_type": "markdown",
   "metadata": {},
   "source": [
    "Import standard modules:"
   ]
  },
  {
   "cell_type": "code",
   "execution_count": 1,
   "metadata": {},
   "outputs": [
    {
     "data": {
      "text/html": [
       "<style>\n",
       "\n",
       "p.prerequisites {\n",
       "    border:5px;\n",
       "    border-style:none;\n",
       "    background-color:#F0F0F0;\n",
       "    box-shadow: 5px 5px 2px #888888;\n",
       "    border-color:#FF0000;\n",
       "    padding: 1em;\n",
       "    }\n",
       "\n",
       "p.conclusion {\n",
       "    border:5px;\n",
       "    border-style:none;\n",
       "    background-color:#c8ebca;\n",
       "    box-shadow: 5px 5px 2px #888888;\n",
       "    border-color:#c8ebca;\n",
       "    padding: 1em;\n",
       "    }\n",
       "\n",
       "div.warn {    \n",
       "    background-color: #fcf2f2;\n",
       "    border-color: #dFb5b4;\n",
       "    border-left: 5px solid #dfb5b4;\n",
       "    padding: 0.5em;\n",
       "    }\n",
       "\n",
       "div.advice {    \n",
       "    background-color: #ecf8ed;\n",
       "    border-color: #a2dda5;\n",
       "    border-left: 5px solid #a2dda5;\n",
       "    padding: 0.5em;\n",
       "    }\n",
       "\n",
       "</style>\n",
       "\n"
      ],
      "text/plain": [
       "<IPython.core.display.HTML object>"
      ]
     },
     "execution_count": 1,
     "metadata": {},
     "output_type": "execute_result"
    }
   ],
   "source": [
    "import numpy as np\n",
    "import matplotlib.pyplot as plt\n",
    "%matplotlib inline\n",
    "from IPython.display import HTML \n",
    "HTML('../style/course.css') #apply general CSS"
   ]
  },
  {
   "cell_type": "markdown",
   "metadata": {},
   "source": [
    "Import section specific modules:"
   ]
  },
  {
   "cell_type": "code",
   "execution_count": 2,
   "metadata": {},
   "outputs": [
    {
     "data": {
      "text/html": [
       "<script>\n",
       "    code_show=false; \n",
       "    function code_toggle() {\n",
       "        if (code_show){\n",
       "            $('div.input').hide();\n",
       "        } else {\n",
       "            $('div.input').show();\n",
       "        }\n",
       "        code_show = !code_show\n",
       "    } \n",
       "    $( document ).ready(code_toggle);\n",
       "</script>\n",
       "\n",
       "The raw code for this notebook is by default hidden for easier reading. To toggle on/off the raw code, click <a href=\"javascript:code_toggle()\">here</a>.\n",
       "\n"
      ],
      "text/plain": [
       "<IPython.core.display.HTML object>"
      ]
     },
     "execution_count": 2,
     "metadata": {},
     "output_type": "execute_result"
    }
   ],
   "source": [
    "from IPython.display import HTML\n",
    "HTML('../style/code_toggle.html')"
   ]
  },
  {
   "cell_type": "markdown",
   "metadata": {},
   "source": [
    "# 4.2 基线及其空间表示\n",
    "# 4.2 The Baseline and Its Representation in Space"
   ]
  },
  {
   "cell_type": "markdown",
   "metadata": {},
   "source": [
    "本最后一节，我们将简单总结本节需要用到的数学工具。本节旨在解释干涉阵测量的物理基础。在深入了解我们真正感兴趣的东西（即物理）之前，需要更明确地描述干涉仪。\n",
    "\n",
    "在详细了解每个基线测量的可见度函数与天文学家感兴趣的天空亮度之间的关系之前，我们需要定义一些关键概念。 首先，基线（baseline）是干涉阵中两个天线单元之间的<span style=\"background-color:cyan\">分离向量</span>。 干涉阵测量的基本是：一组基线直接测量傅立叶空间中的一个点。\n",
    "\n",
    "干涉阵列由若干基线（由阵列中的每对天线形成）组成， 因此，基线由天线阵列的配置决定。 在本章中，我们将介绍*投影基线*，并在各种坐标系中导出基线向量的表达式。\n",
    "\n",
    "***\n",
    "In the last section, we briefly summarised the mathematical tools we will need in this section. This section is intended to explain the physics underpinning interferometry. Before we can dig into what actually interests us - i.e. **physics** - we will therefore have to describe interferometers more explicitly.\n",
    "\n",
    "Before we can get into the details of the relationship between the *visibilities* measured by each baseline and the *sky brightness* astronomers are interested in, we will need to define some key concepts. We will begin with the *baseline*: is the separation vector between two antenna elements in an interferometric array. It is a fundamental concept in interferometry: a baseline directly measures a point in Fourier space.\n",
    "\n",
    "An interferometric array consists of several baselines (formed by every pair of antennas in the array). The baselines are thus determined by the array's configuration. In this chapter, we will introduce *projected baselines*, and derive expressions for the baseline vector in various coordinate systems.\n",
    "\n",
    "<span style=\"background-color:cyan\">TLG:GM: Check if the italic words are in the glossary.</span>"
   ]
  },
  {
   "cell_type": "markdown",
   "metadata": {},
   "source": [
    "首先定义在本课程中将会使用的符号和向量，通过一系列坐标变化，可以从*本地*和*瞬时*观察者参考框架（地球上的本地 $x$，$y$，$z$）转到赤道框架中的天空坐标（$H$，$\\delta$）：\n",
    "\n",
    "1. From local ($x$,$y$,$z$) to the (**E**ast, **N**orth, **U**p) \n",
    "2. From local  **E**, **N**, **U** to local azimuth/elevation ($\\mathcal{A}$, $\\mathcal{E}$) \n",
    "3. From local ($\\mathcal{A}$, $\\mathcal{E}$) to equatorial (($H$, $\\delta$), or equivalently, ($X$, $Y$, $Z$)) \n",
    "4. From the equatorial ($X$, $Y$, $Z$) to the ($u$, $v$, $w$)-space\n",
    "\n",
    "***\n",
    "Let us start by defining the notation and vector definitions we will use throughout this course. They are designed to take us from the *local* and *instantaneous* observer frame of reference (local $x$,$y$, $z$ on Earth) to the sky coordinates in the equatorial frame ($H$, $\\delta$) through a series of coordinate changes:\n",
    "\n",
    "1. From local ($x$,$y$,$z$) to the (**E**ast, **N**orth, **U**p) \n",
    "2. From local  **E**, **N**, **U** to local azimuth/elevation ($\\mathcal{A}$, $\\mathcal{E}$) \n",
    "3. From local ($\\mathcal{A}$, $\\mathcal{E}$) to equatorial (($H$, $\\delta$), or equivalently, ($X$, $Y$, $Z$)) \n",
    "4. From the equatorial ($X$, $Y$, $Z$) to the ($u$, $v$, $w$)-space\n",
    "\n",
    "<span style=\"background-color:cyan\">TLG:GM: Check if the italic words are in the glossary.</span>"
   ]
  },
  {
   "cell_type": "markdown",
   "metadata": {},
   "source": [
    "<a id=\"vis:sec:421\"></a> <!---\\label{vis:sec:421}--->\n",
    "### 4.2.1 物理基线\n",
    "### 4.2.1 The physical baseline\n",
    "\n",
    "物理基线是基于三维空间中两个天线单元之间间隔的几何结构，而投影基线是该三维物理基线在二维平面上的投影（由观察方向确定）。虽然物理基线在地面参考系（常缩写为ITRF，In Terrestrial Reference Frame）中是常数，但投影基线会随着地球的旋转而变化（在天空中固定的源的参考系中， 也称为“天空参考框架”）。\n",
    "\n",
    "***\n",
    "The physical baseline is a geometric construct based on the separation between two antenna elements in 3-D space, whereas the projected baseline is the mapping of this 3-D physical baseline onto a 2-D plane (determined by the direction of the observation). While the physical baseline is a constant in the terrestrial reference frame (the acronym ITRF - In Terrestrial Reference Frame - is commonly used), the projected baseline changes as the Earth rotates (in the frame of reference of a source fixed in the sky - a.ka. the \"sky frame of reference\")."
   ]
  },
  {
   "cell_type": "markdown",
   "metadata": {},
   "source": [
    "#### 4.2.1.1 基线向量的定义（local）\n",
    "#### 4.2.1.1 Local definition of the baseline vector  <a id=\"vis:sec:4211\"></a> <!---\\label{vis:sec:4211}--->"
   ]
  },
  {
   "cell_type": "markdown",
   "metadata": {},
   "source": [
    "在三维空间中可以使用向量描述一个点。这里，我们定义原点 $O$ ，正交基 $\\mathcal{B}$ 以及地面局部笛卡尔参考系  $\\mathcal{R}$ ($O$, $\\mathcal{B}$($\\mathbf{\\hat{e}_x}, \\mathbf{\\hat{e}_y}, \\mathbf{\\hat{e}_z}$)) (见 [Fig. 4.2.1 &#10549;](#vis:fig:421)).\n",
    "\n",
    "在该参考系下定义两个天线，天线位置用正交基 $\\mathcal{B}$ 表示:\n",
    "\n",
    "$$\\textbf{a}_1=\\vec{OA}_1=x_1 \\mathbf{\\hat{e}_x} + y_1 \\mathbf{\\hat{e}_y} + z_1 \\mathbf{\\hat{e}_z}$$\n",
    "\n",
    "$$\\textbf{a}_2=\\vec{OA}_2=x_2\\mathbf{\\hat{e}_x} + y_2 \\mathbf{\\hat{e}_y} + z_2 \\mathbf{\\hat{e}_z}$$\n",
    "\n",
    "也就是说， ($x_1$,$y_1$,$z_1$) 和 ($x_2$,$y_2$,$z_2$) 在正交基  $\\mathcal{B}$ 的基础上定义，给出了天线位置的所有信息。\n",
    "\n",
    "假设天线之间的距离足够小，可以近似认为它们之间的地球曲线是平坦的。 在这种情况下，地球变成一个平面，基础矢量可以在没有任何旋转的情况下进行转换，笛卡尔坐标中的*局部物理基线*被定义为差矢量：\n",
    "\n",
    "$$\\mathbf{b} = \\mathbf{a}_2 - \\mathbf{a}_1 = \\vec{A_1A_2} $$\n",
    "\n",
    "需要强调的是，物理基线是**矢量**，它仅取决于两个天线单元的**相对位置**，并且**独立于参考系的原点**。"
   ]
  },
  {
   "cell_type": "markdown",
   "metadata": {},
   "source": [
    "\n",
    "***\n",
    "A position can be described in 3-D with a vector. Let us define an origin $O$, an orthogonal basis $\\mathcal{B}$ and a local Cartesian reference frame attached to the ground $\\mathcal{R}$ ($O$, $\\mathcal{B}$($\\mathbf{\\hat{e}_x}, \\mathbf{\\hat{e}_y}, \\mathbf{\\hat{e}_z}$)) (see [Fig. 4.2.1 &#10549;](#vis:fig:421)).\n",
    "\n",
    "\n",
    "Let us now consider two antennas in this frame of reference. They are defined by their position in  $\\mathcal{B}$:\n",
    "\n",
    "$$\\textbf{a}_1=\\vec{OA}_1=x_1 \\mathbf{\\hat{e}_x} + y_1 \\mathbf{\\hat{e}_y} + z_1 \\mathbf{\\hat{e}_z}$$\n",
    "\n",
    "$$\\textbf{a}_2=\\vec{OA}_2=x_2\\mathbf{\\hat{e}_x} + y_2 \\mathbf{\\hat{e}_y} + z_2 \\mathbf{\\hat{e}_z}$$\n",
    "\n",
    "In other words, all the information on the position of our antennas is given by ($x_1$,$y_1$,$z_1$) and ($x_2$,$y_2$,$z_2$), which are defined in the basis $\\mathcal{B}$.\n",
    "\n",
    "Let us assume that the distance between the antennas is small enough to consider the curve of the Earth between them to be flat. The Earth then becomes a plane, on which the basis vectors can be translated without any rotation. The *local physical baseline* in Cartesian coordinates is defined as the difference vector\n",
    "\n",
    "$$\\mathbf{b} = \\mathbf{a}_2 - \\mathbf{a}_1 = \\vec{A_1A_2} $$\n",
    "\n",
    "It is important to note that the physical baseline is a **vector**: it depends only on the **relative positions** of two antenna elements, and is **independent of the origin** of the reference frame."
   ]
  },
  {
   "cell_type": "markdown",
   "metadata": {},
   "source": [
    "<a id=\"vis:fig:421\"></a> <!---\\label{vis:fig:421}---> \n",
    "<img src='figures/vectorxyz.svg' width=30%>"
   ]
  },
  {
   "cell_type": "markdown",
   "metadata": {},
   "source": [
    "**图4.2.1:**  三维笛卡尔坐标系下的向量 $a_1$ 和 $a_2$。\n",
    "\n",
    "**Figure 4.2.1:** Vectors $a_1$ and $a_2$ in a local 3-dimensional Cartesian coordinate system."
   ]
  },
  {
   "cell_type": "markdown",
   "metadata": {},
   "source": [
    "<a id=\"vis:sec:4212\"></a> <!--\\label{vis:sec:4212}--></a>\n",
    "#### 4.2.1.2 （East, North, Up）参考系：基线向量的全局定义\n",
    "#### 4.2.1.2 The (East, North, Up) Reference Frame: A Global Definition of the Baseline Vector"
   ]
  },
  {
   "cell_type": "markdown",
   "metadata": {},
   "source": [
    "不幸的是，在公式中，$\\mathbf{\\hat{e}_x}, \\mathbf{\\hat{e}_y}, \\mathbf{\\hat{e}_z}$ 的方向是任意的。为了更好地表达，可以把坐标基附加到地球上的一个“绝对”参考点上。 为此，我们使用*地面参考框架*：由基点定义的一种新的笛卡尔基。 从而：\n",
    "\n",
    "* 我们在地球上的某个点定义原点 $O$，这个原点可以是任意的，但要方便选择数组的“中心”或其中一个数组元素的位置。\n",
    "* 一个全局右手正交系统，$\\mathcal{B}'$($\\mathbf{\\hat{e}_E}, \\mathbf{\\hat{e}_N}, \\mathbf{\\hat{e}_U}$)  分别指向地理东（**East**），地理北（**North**）以及当地垂直方向（指向天定方向，即 **Up**）。\n",
    "\n",
    "基线向量也可以再本地参考系中表示，坐标系在地理北部和东部重合（见 [Fig. 4.2.2 &#10549;](#vis:fig:422) ）\n",
    "\n",
    "***\n",
    "Unfortunately, in our formulation thus far, the directions of $\\mathbf{\\hat{e}_x}, \\mathbf{\\hat{e}_y}, \\mathbf{\\hat{e}_z}$ are arbitrary. We can do better: let us attach our coordinate basis to an \"absolute\" point of reference on Earth. To do this, we use a *terrestrial reference frame*: a new Cartesian basis defined by the cardinal points. Thus:\n",
    "\n",
    "* We define the origin $O$ at some point on Earth. This origin can be arbitrary, but it is convenient to choose either the 'centre' of the array or the position of one of the array elements.\n",
    "* A **global** right-handed orthonormal basis $\\mathcal{B}'$($\\mathbf{\\hat{e}_E}, \\mathbf{\\hat{e}_N}, \\mathbf{\\hat{e}_U}$) pointing, respectively, towards the geographical **East**, geographical **North**, and towards the local vertical (pointing to the Zenith away from the Earth, i.e. **Up**).\n",
    "\n",
    "The baseline vector is still expressed in a local reference frame, chosen to coincide with the geographical North and East (see [Fig. 4.2.2 &#10549;](#vis:fig:422)).\n",
    "<span style=\"background-color:cyan\">TLG:GM: Check if the italic words are in the glossary. Remember italic words can only be glossary definitions. </span>"
   ]
  },
  {
   "cell_type": "markdown",
   "metadata": {},
   "source": [
    "#### 4.2.1.3 基线向量在水平坐标系中的表示  ($\\mathcal{A}$, $\\mathcal{E}$)\n",
    "#### 4.2.1.3 Expression in Horizontal Coordinates ($\\mathcal{A}$, $\\mathcal{E}$)"
   ]
  },
  {
   "cell_type": "markdown",
   "metadata": {},
   "source": [
    "如  [$\\S$ 3.4 &#10142;](../3_Positional_Astronomy/3_3_horizontal_coordinates.ipynb) 中所示，位于地球某处的观察者可以根据局部**方位角   $\\mathcal{A}$ ** 和 **海拔高度 $\\mathcal{E}$** 定义天空中的方向，基线可以类似地在这些坐标系中表示。\n",
    "\n",
    "若将天线1设置为参考系在地面上的原点， North, East 和 Up 三个坐标轴的定义如 [$\\S$ 4.2.1.2 &#10549;](#vis:sec:4212)。\n",
    "\n",
    "*方位角*是在当地地面的平面上，从北向东按时钟方向测量的角度。 *海拔高度*是从地平线到天顶的角度。\n",
    "\n",
    "***\n",
    "As seen in [$\\S$ 3.4 &#10142;](../3_Positional_Astronomy/3_3_horizontal_coordinates.ipynb), an observer located somewhere on Earth can define a direction in the sky in terms of local *azimuth*  $\\mathcal{A}$ and *elevation*  $\\mathcal{E}$. A baseline can similarly be expressed in these coordinates.\n",
    "\n",
    "Let us set Antenna 1 as the origin of the reference frame on the ground. The North, East and Up axes are defined as per [$\\S$ 4.2.1.2 &#10549;](#vis:sec:4212).\n",
    "\n",
    "The *azimuth* is the angle contained in the plane of the local ground measured clock-wise from North to East. The *elevation* is the angle measured from the horizon to the local zenith.\n",
    "<span style=\"background-color:cyan\">TLG:GM: Check if the italic words are in the glossary. Remember italic words can only be glossary definitions. </span>"
   ]
  },
  {
   "cell_type": "markdown",
   "metadata": {},
   "source": [
    "<a id=\"vis:fig:422\"></a> <!--\\label{vis:fig:422}--></a>\n",
    "<img src='figures/enu_alt_az.svg' width=40%>"
   ]
  },
  {
   "cell_type": "markdown",
   "metadata": {},
   "source": [
    "**图4.2.2**：水平坐标系 ($\\mathcal{A}$, $\\mathcal{E}$) 与笛卡尔坐标系  ($E$, $N$, $U$) 的关系\n",
    "\n",
    "**Figure 4.2.2**: Relation between the horizontal frame ($\\mathcal{A}$, $\\mathcal{E}$) and the ($E$, $N$, $U$) Cartesian frame."
   ]
  },
  {
   "cell_type": "markdown",
   "metadata": {},
   "source": [
    "以 $\\mathcal{B}'$ 为基础表示的基线向量：\n",
    "\n",
    "The baseline vector is expressed in the basis $\\mathcal{B}'$:\n",
    "\n",
    "\\begin{equation}\n",
    "\\mathbf{b}_{\\text{ENU}}\n",
    "=\n",
    "\\lvert \\mathbf{b} \\rvert\n",
    "\\begin{bmatrix}\n",
    "\\sin \\mathcal{A} \\cos \\mathcal{E}\\\\\n",
    "\\cos \\mathcal{A} \\cos \\mathcal{E}\\\\\n",
    "\\sin \\mathcal{E}\n",
    "\\end{bmatrix}\n",
    "\\end{equation}\n",
    "\n",
    "**注意**：如果天线1和天线2在 $\\mathbf{\\hat{e}_U}$方向上的分量相同（例如，天线1、2都按照在地面上），则基线的海拔为  $\\mathcal{E}=0^\\circ$。\n",
    "\n",
    "\n",
    "<div class=warn>\n",
    "<b>警告：</b><br>\n",
    "<ul>\n",
    "<li> 地理学家和天文学家对方位角的原点和变化使用不同的约定。 我们将使用 [$\\S$ 3 &#10142;](../3_Positional_Astronomy/3_0_introduction.ipynb) 中定义的天文学惯例。\n",
    "<li>水平坐标系类似于二维球面坐标系，但在惯例约定略有不同（选择角度作为原点和变化的方向）。\n",
    "<li>在这里没有提到纬度 $L_a$，但在本章后面将是重要的内容。\n",
    "</ul>\n",
    "</div>"
   ]
  },
  {
   "cell_type": "markdown",
   "metadata": {},
   "source": [
    "<div class=advice>\n",
    "<b>Note:</b> If Antenna 2 and Antenna 1 share the same component along $\\mathbf{\\hat{e}_U}$ (e.g. Antenna 1 and Antenna 2 are lying on the ground plane), then the elevation of the baseline is $\\mathcal{E}=0^\\circ$.\n",
    "</div>\n",
    "\n",
    "<div class=warn>\n",
    "<b>Warnings:</b><br>\n",
    "<ul>\n",
    "<li>Geographers and the Astronomers use different conventions for the origin and variation of the azimuth. We will use the Astronomer convention as defined in [$\\S$ 3 &#10142;](../3_Positional_Astronomy/3_0_introduction.ipynb).</li>\n",
    "<li>The horizontal coordinate system behaves like a 2D spherical coordinates system, with a slight difference in convention choices (angle chosen as origin and direction of variation).</li>\n",
    "<li>The latitude $L_a$  was not expressed here but will become important later in the chapter.</li>\n",
    "</ul>\n",
    "</div>"
   ]
  },
  {
   "cell_type": "markdown",
   "metadata": {},
   "source": [
    "#### 4.2.1.4 基线在赤道坐标系中表示\n",
    "#### 4.2.1.4 Expression in the Equatorial (X,Y,Z) Frame"
   ]
  },
  {
   "cell_type": "markdown",
   "metadata": {},
   "source": [
    "在 $ENU$ 坐标系中，已经通过方位 $\\mathcal{A}$ 和 海拔 $\\mathcal{E}$ 给出了基线的完整描述。如  [$\\S$ 3.1 &#10142;](../3_Positional_Astronomy/3_1_equatorial_coordinates.ipynb) 中所示，对于在纬度为 $L_a$ 的观测者，基线的延长方向定义了天空中的位置，该位置可以和赤道坐标 ($H$, $\\delta$) 相关联，其中  $H$ 是时角，$\\delta$ 是赤纬。\n",
    "\n",
    "为了进一步泛化基线的描述（并简化后续推导），我们需要定义一组参考框架，将基线映射到天空的球面坐标上。为此，我们使用 ($\\mathbf{\\hat{e}_X}$,$\\mathbf{\\hat{e}_Y}$,$\\mathbf{\\hat{e}_Z}$) 定义了中间框架，并把这个参考系附加到地球上。现在，我们可以在赤道坐标系 $(H; \\delta)$ 下 定位这些轴，$XYZ$框架的轴可以定义为：\n",
    "\n",
    "* the $X$-axis points towards $(H=0^\\textrm{h}, \\delta = 0^{\\circ})$ ($\\gamma$ is the point where the vernal equinox crosses the local meridian)\n",
    "* the $Y$-axis towards $(H=-6^\\textrm{h}, \\delta = 0^{\\circ})$ (East)\n",
    "* the $Z$-axis towards the North Celestial Pole (NCP).\n",
    "\n",
    "[Fig. 4.2.3 &#10549;](#vis:fig:413) 表明与数组元素（红色）相关联的平面可以通过坐标变换与天球平面（蓝色）相关联。\n",
    "\n",
    "***\n",
    "The baseline is fully described in the $ENU$ system using the azimuth $\\mathcal{A}$ and elevation $\\mathcal{E}$. As shown in [$\\S$ 3.1 &#10142;](../3_Positional_Astronomy/3_1_equatorial_coordinates.ipynb), for an observer located at latitude $L_a$, the extension of the direction of the baseline defines a position on the sky. This position can be associated with Equatorial coordinates ($H$, $\\delta$), where $H$ is the hour angle and $\\delta$ the declination.\n",
    "\n",
    "To generalize the baseline further (and to ease subsequent derivations), we need to define a set of reference frames which will map the baseline onto sky coordinates on the celestial sphere. To do so, we define an intermediate frame of reference $XYZ$ with basis ($\\mathbf{\\hat{e}_X}$,$\\mathbf{\\hat{e}_Y}$,$\\mathbf{\\hat{e}_Z}$). We attach this frame of reference to the Earth. We can now position these axes with respect to the Equatorial coordinates $(H; \\delta)$. Let us define the axes of the $XYZ$ frame as:\n",
    "\n",
    "* the $X$-axis points towards $(H=0^\\textrm{h}, \\delta = 0^{\\circ})$ ($\\gamma$ is the point where the vernal equinox crosses the local meridian)\n",
    "* the $Y$-axis towards $(H=-6^\\textrm{h}, \\delta = 0^{\\circ})$ (East)\n",
    "* the $Z$-axis towards the North Celestial Pole (NCP).\n",
    "\n",
    "[Fig. 4.2.3 &#10549;](#vis:fig:413) shows that the plane associated with the array elements (red) can be related to the plane of the celestial sphere (blue) via a coordinate transformation."
   ]
  },
  {
   "cell_type": "markdown",
   "metadata": {},
   "source": [
    "<a id=\"vis:fig:413\"></a> <!--\\label{vis:fig:413}--></a>\n",
    "<img src='figures/conversion.svg' width=30%>"
   ]
  },
  {
   "cell_type": "markdown",
   "metadata": {},
   "source": [
    "\n",
    "**图 4.2.3**：(X,Y,Z) 参考框架。其中，$T$ 为当地天顶，($X$,$Y$) 为天球平面（蓝色），垂直于NCP。($N$,$S$,$E$,$W$) 为天线平面（红色），垂直于当地天顶方向。\n",
    "\n",
    "**Figure 4.2.3**: The (X,Y,Z) Reference frame. $T$: local zenith. ($X$,$Y$) = Celestial plane (blue) $\\perp$ to the NCP. ($N$,$S$,$E$,$W$) Antenna plane (red) $\\perp$ to the local zenith (T)."
   ]
  },
  {
   "cell_type": "markdown",
   "metadata": {},
   "source": [
    "警告：\n",
    "\n",
    "<ul>\n",
    "<li>虽然我们采用赤道坐标系来定义 $XYZ$ 坐标系统, 由于$X$, $Y$，$Z$ 轴不会改变地球上的观测者的方向，该坐标系统仅代表地面参考系。\n",
    "<li>但是，由于赤纬是指天体赤道，因此还需要观测者的纬度 $L_a$ 。</li>\n",
    "</ul>\n",
    "\n",
    "我们可以将 ($\\mathcal{A}$, $\\mathcal{E}$, $L_a$) 转化到 $(H, \\delta)$：\n",
    "\n",
    "\\begin{equation}\n",
    "\\begin{bmatrix}\n",
    "X\\\\\n",
    "Y\\\\\n",
    "Z\n",
    "\\end{bmatrix}\n",
    "=\n",
    "\\begin{bmatrix}\n",
    "\\lvert \\mathbf{b} \\rvert \\cos \\delta \\cos H\\\\\n",
    "-\\lvert \\mathbf{b} \\rvert \\cos \\delta \\sin H\\\\\n",
    "\\lvert \\mathbf{b} \\rvert \\sin \\delta\n",
    "\\end{bmatrix}\n",
    "= \\lvert \\mathbf{b} \\rvert\n",
    "\\begin{bmatrix}\n",
    "\\cos L_a \\sin \\mathcal{E} - \\sin L_a \\cos \\mathcal{E} \\cos \\mathcal{A}\\nonumber\\\\ \n",
    "\\cos \\mathcal{E} \\sin \\mathcal{A} \\nonumber\\\\\n",
    "\\sin L_a \\sin \\mathcal{E} + \\cos L_a \\cos \\mathcal{E} \\cos \\mathcal{A}\\\\\n",
    "\\end{bmatrix}\n",
    "\\end{equation}\n",
    "<a id=\"vis:eq:3_1\"></a> <!---<a id=\"vis:eq:3_1\"></a>--->\n",
    "\n",
    "**公式 3.1**：基线向量由$\\mathcal{E},\\mathcal{A}$ 转换到 $XYZ$ 坐标系。其中，$\\mathbf{b}$ 为基线向量的幅值，$H$ 为时角，$\\delta$ 为赤纬，$L_a$ 为阵列的维度。\n",
    "\n",
    "<div class=advice>\n",
    "<b>注意:</b> 由球面三角形推导出公式 [Eq. 3.1 &#10142;](#vis:eq:3_1) 的完整过程见 [$\\S$ A.1 &#10142;](../0_Introduction/2_Appendix.ipynb)。\n",
    "</div>"
   ]
  },
  {
   "cell_type": "markdown",
   "metadata": {},
   "source": [
    "<div class=warn>\n",
    "<b>Warning:</b>\n",
    "<ul>\n",
    "<li>Although we use Equatorial coordinates to define the $XYZ$-coordinate system, it represents a <em>terrestrial</em> reference frame, as the $X$, $Y$ and $Z$ axes never change orientation for a local observer on Earth.</li>\n",
    "<li>However, as the declination refers to the celestial equator, the latitude of the observer $L_a$ is required.</li>\n",
    "</ul>\n",
    "</div>\n",
    "\n",
    "We can convert ($\\mathcal{A}$, $\\mathcal{E}$, $L_a$) into $(H, \\delta)$ in this new frame:\n",
    "\n",
    "\\begin{equation}\n",
    "\\begin{bmatrix}\n",
    "X\\\\\n",
    "Y\\\\\n",
    "Z\n",
    "\\end{bmatrix}\n",
    "=\n",
    "\\begin{bmatrix}\n",
    "\\lvert \\mathbf{b} \\rvert \\cos \\delta \\cos H\\\\\n",
    "-\\lvert \\mathbf{b} \\rvert \\cos \\delta \\sin H\\\\\n",
    "\\lvert \\mathbf{b} \\rvert \\sin \\delta\n",
    "\\end{bmatrix}\n",
    "= \\lvert \\mathbf{b} \\rvert\n",
    "\\begin{bmatrix}\n",
    "\\cos L_a \\sin \\mathcal{E} - \\sin L_a \\cos \\mathcal{E} \\cos \\mathcal{A}\\nonumber\\\\ \n",
    "\\cos \\mathcal{E} \\sin \\mathcal{A} \\nonumber\\\\\n",
    "\\sin L_a \\sin \\mathcal{E} + \\cos L_a \\cos \\mathcal{E} \\cos \\mathcal{A}\\\\\n",
    "\\end{bmatrix}\n",
    "\\end{equation}\n",
    "<a id=\"vis:eq:3_1\"></a> <!---<a id=\"vis:eq:3_1\"></a>--->\n",
    "\n",
    "**Equation 3.1**: Conversion from baseline vector $\\mathcal{E},\\mathcal{A}$ to $XYZ$ . $\\mathbf{b}$: amplitude of baseline vector. $H$: Hour angle, $\\delta$: Declination, $L_a$: latitude of the array. \n",
    "\n",
    "<div class=advice>\n",
    "<b>Note:</b> The complete derivation of [Eq. 3.1 &#10142;](#vis:eq:3_1)  from the spherical triangle <b>ZTS</b> can be found in [$\\S$ A.1 &#10142;](../0_Introduction/2_Appendix.ipynb).\n",
    "</div>"
   ]
  },
  {
   "cell_type": "markdown",
   "metadata": {},
   "source": [
    "### 4.2.2 ($u$,$v$,$w$) 空间\n",
    "### 4.2.2 The ($u$,$v$,$w$) Space"
   ]
  },
  {
   "cell_type": "markdown",
   "metadata": {},
   "source": [
    "我们已经在XYZ坐标系中定义了基线，并可以最终转换到球面 *UVW* 坐标系，假设 ($H_0$, $\\delta_0$) 是球面上源 $\\mathbf{s_0}$ 方向上的一点。一下定义了一组新的坐标轴：\n",
    "\n",
    "* $u$ 轴位于天球赤道平面，指向时角 $H_0-6^\\text{h}$ 方向.\n",
    "* $v$ 轴在时角  $H_0$ 的大圆平面上, 指向赤纬 $\\frac{\\pi}{2}-\\delta_0$ 方向.\n",
    "* $w$ 轴指向源 $\\mathbf{s_0}$ 的方向.\n",
    "\n",
    "($u$,$v$) 轴形成一个垂直于源的二维平面。\n",
    "\n",
    "***\n",
    "Now that we have defined a baseline in a terrestrial XYZ frame we are ready for the final transformation to the celestial *uvw* reference frame. Let ($H_0$, $\\delta_0$) be the point on the celestial sphere in the direction of a source $\\mathbf{s_0}$. We now define a new set of axes:\n",
    "\n",
    "* the $u$-axis lies in the celestial equatorial plane, and points toward the hour angle $H_0-6^\\text{h}$.\n",
    "* the $v$-axis lies in the plane of the great circle with hour angle $H_0$, and points toward the declination $\\frac{\\pi}{2}-\\delta_0$.\n",
    "* the $w$-axis points in the direction of $\\mathbf{s_0}$.\n",
    "\n",
    "\n",
    "The ($u$,$v$) axes form a 2-D plane perpendicular to $\\mathbf{s_0}$."
   ]
  },
  {
   "cell_type": "markdown",
   "metadata": {},
   "source": [
    "将 ($X$,$Y$,$Z$) 坐标系转换到 ($u$, $v$, $w$) 坐标系需要对基线的赤道坐标做两次连续的旋转：\n",
    "\n",
    "1. $\\mathcal{R}_\\text{Z}^{\\frac{\\pi}{2}-H_0}$:  $X$, $Y$ 轴围绕 $Z=Z'$ 旋转 $\\frac{\\pi}{2}-H_0$ 的角度，得到 $X'$, $Y'$ 轴（图  [Fig. 4.2.4 &#10549;](#vis:fig:414) 中绿色部分）。\n",
    "2. $\\mathcal{R}_\\text{X'}^{\\frac{\\pi}{2}-\\delta_0}$: $Y'$,$Z'$ 轴绕 $X'=u$ 旋转  $\\frac{\\pi}{2}-\\delta_0$ 的角度，得到  $u$, $v$ 轴 （图 [Fig. 4.2.4 &#10549;](#vis:fig:414) 中的红色部分）。\n",
    "\n",
    "***\n",
    "The transformation from the ($X$,$Y$,$Z$) frame to the ($u$, $v$, $w$) frame requires two succesive rotations applied to the equatorial coordinates of the baseline:\n",
    "\n",
    "1. $\\mathcal{R}_\\text{Z}^{\\frac{\\pi}{2}-H_0}$:  the rotation of the $X$,$Y$ axes around the $Z=Z'$ axis of angle $\\frac{\\pi}{2}-H_0$ making the new axes $X'$, $Y'$ (Green axes in [Fig. 4.2.4 &#10549;](#vis:fig:414))\n",
    "2. $\\mathcal{R}_\\text{X'}^{\\frac{\\pi}{2}-\\delta_0}$:  the rotation of the $Y'$,$Z'$ axes around the $X'=u$ axis of angle $\\frac{\\pi}{2}-\\delta_0$ making the new axes $u$, $v$ (red axes in [Fig. 4.2.4 &#10549;](#vis:fig:414)).\n",
    "\n"
   ]
  },
  {
   "cell_type": "markdown",
   "metadata": {},
   "source": [
    "<a id=\"vis:fig:414\"></a> <!--\\label{vis:fig:414}--></a>\n",
    "<img src='figures/coordinates2b.svg' width=50%>"
   ]
  },
  {
   "cell_type": "markdown",
   "metadata": {},
   "source": [
    "**图 4.2.4**： (X,Y,Z) 坐标系与 ($u$,$v$,$w$) 坐标系的关系。其中  $Z$ 为当地天顶方向， ($X$,$Y$) 是与NCP垂直的天球平面。\n",
    "\n",
    "**Figure 4.2.4**: Relation of the (X,Y,Z) frame to the ($u$,$v$,$w$) frame. $Z$: local zenith. ($X$,$Y$)  = Celestial plane $\\perp$ to the NCP."
   ]
  },
  {
   "cell_type": "markdown",
   "metadata": {},
   "source": [
    "由 $XYZ$ 转换到 $uvw$ 公式如下：\n",
    "\n",
    "The conversion from $XYZ$ to $uvw$ is expressed as following:\n",
    "\\begin{equation}\n",
    "\\begin{pmatrix}\n",
    "u\\\\\n",
    "v\\\\\n",
    "w\n",
    "\\end{pmatrix}\n",
    "=\n",
    "\\mathcal{R}_\\text{X'}^{\\frac{\\pi}{2}-\\delta_0}\n",
    "\\mathcal{R}_\\text{Z}^{\\frac{\\pi}{2}-H_0}\n",
    "\\begin{pmatrix}\n",
    "X\\\\\n",
    "Y\\\\\n",
    "Z\n",
    "\\end{pmatrix}\n",
    "\\end{equation}\n",
    "\n"
   ]
  },
  {
   "cell_type": "markdown",
   "metadata": {},
   "source": [
    "where\n",
    "\\begin{equation}\n",
    "\\mathcal{R}_\\text{X'}^{\\frac{\\pi}{2}-\\delta_0}\n",
    "=\n",
    "\\begin{pmatrix}\n",
    "1& 0& 0\\\\\n",
    "0 & \\cos (\\frac{\\pi}{2}- \\delta_0) & \\sin (\\frac{\\pi}{2}- \\delta_0)  \\\\\n",
    "0 &-\\sin (\\frac{\\pi}{2}- \\delta_0) & \\cos (\\frac{\\pi}{2}- \\delta_0) \\\\\n",
    "\\end{pmatrix} \n",
    "=\n",
    "\\begin{pmatrix}\n",
    "1& 0& 0\\\\\n",
    "0 & \\sin \\delta_0 & \\cos \\delta_0  \\\\\n",
    "0 &-\\cos \\delta_0 & \\sin \\delta_0 \\\\\n",
    "\\end{pmatrix} \n",
    "\\end{equation}"
   ]
  },
  {
   "cell_type": "markdown",
   "metadata": {},
   "source": [
    "and \\begin{equation}\n",
    "\\mathcal{R}_\\text{Z}^{\\frac{\\pi}{2}-H_0}\n",
    "=\n",
    "\\begin{pmatrix}\n",
    "\\cos (\\frac{\\pi}{2}- H_0) & \\sin (\\frac{\\pi}{2}- H_0) & 0 \\\\\n",
    "-\\sin (\\frac{\\pi}{2}- H_0) & \\cos (\\frac{\\pi}{2}- H_0) & 0 \\\\\n",
    "0 & 0 & 1\n",
    "\\end{pmatrix} \n",
    "=\n",
    "\\begin{pmatrix}\n",
    "\\sin H_0 & \\cos H_0 & 0 \\\\\n",
    "-\\cos H_0 & \\sin H_0 & 0 \\\\\n",
    "0 & 0 & 1\n",
    "\\end{pmatrix} \n",
    "\\end{equation}"
   ]
  },
  {
   "cell_type": "markdown",
   "metadata": {},
   "source": [
    "<div class=warn>\n",
    "<b>Warning:</b> The sequence of operations applied to vectors should be read from right to left, as is the rule in linear algebra.\n",
    "    \n",
    "    注：应该从右到左读取应用于向量的操作序列，与线性代数中的规则一样。\n",
    "</div>"
   ]
  },
  {
   "cell_type": "markdown",
   "metadata": {},
   "source": [
    "因此，可以得到以下的转换矩阵：\n",
    "\n",
    "This results in the following transformation matrix:\n",
    "\\begin{equation}\n",
    "\\begin{pmatrix}\n",
    "u\\\\\n",
    "v\\\\\n",
    "w\n",
    "\\end{pmatrix}\n",
    "=\n",
    "\\begin{pmatrix}\n",
    "\\sin H_0 & \\cos H_0 & 0\\\\ \n",
    "-\\sin \\delta_0 \\cos H_0 & \\sin\\delta_0\\sin H_0 & \\cos\\delta_0\\\\\n",
    "\\cos \\delta_0 \\cos H_0 & -\\cos\\delta_0\\sin H_0 & \\sin\\delta_0\\\\\n",
    "\\end{pmatrix} \n",
    "\\begin{pmatrix}\n",
    "X\\\\\n",
    "Y\\\\\n",
    "Z\n",
    "\\end{pmatrix}\n",
    "\\end{equation}\n",
    "\n"
   ]
  },
  {
   "cell_type": "markdown",
   "metadata": {},
   "source": [
    "<div class=warn>\n",
    "<b>Warning:</b>\n",
    "We usually express the components ($u$, $v$, $w$) in units of wavelength (of the observation) by dividing the baseline vector by $\\lambda$:<br>\n",
    "    \n",
    "    注意：我们常将基线向量除以 $\\lambda$，从而以波长来表示  ($u$, $v$, $w$) 三个分量。\n",
    "\n",
    "\\begin{equation}\n",
    "\\mathbf{b_\\lambda}\n",
    "= \n",
    "\\frac{\\mathbf{b}}{\\lambda}\n",
    "= \n",
    "\\begin{pmatrix}\n",
    "u\\\\\n",
    "v\\\\\n",
    "w\n",
    "\\end{pmatrix}\n",
    "=\n",
    "\\frac{1}{\\lambda}\n",
    "\\begin{pmatrix}\n",
    "\\sin H_0 & \\cos H_0 & 0\\\\ \n",
    "-\\sin \\delta_0 \\cos H_0 & \\sin\\delta_0\\sin H_0 & \\cos\\delta_0\\\\\n",
    "\\cos \\delta_0 \\cos H_0 & -\\cos\\delta_0\\sin H_0 & \\sin\\delta_0\\\\\n",
    "\\end{pmatrix} \n",
    "\\begin{pmatrix}\n",
    "X\\\\\n",
    "Y\\\\\n",
    "Z\n",
    "\\end{pmatrix}\n",
    "\\end{equation}\n",
    "\n",
    "在接下来的章节中，我们将省略下标 $\\lambda$，默认 $u$, $v$, $w$ 的单位为波长。\n",
    "\n",
    "In the following sections and chapters, we will drop the $\\lambda$ subscript, as we will always assume that the $u$, $v$, $w$ components are given in units of wavelengths.\n",
    "\n",
    "</div>"
   ]
  },
  {
   "cell_type": "markdown",
   "metadata": {},
   "source": [
    "### 4.2.3 Conclusion"
   ]
  },
  {
   "cell_type": "markdown",
   "metadata": {},
   "source": [
    "本节致力于在天文学友好的参考框架中实现基线矢量的数学表达式。这项工作允许我们快速将两个接收器之间的基线的物理长度链接到天球上测量的量。\n",
    "\n",
    "在 [$\\S$ 4.3 &#10142;](4_3_the_2-element_interferometer.ipynb) 中，我们将专注于一个简单的一维二元干涉仪。 我们将解决从远程点源收集的两个信号的相关性，并构建相应的可见度函数（将在 [$\\S$ 4.4 &#10142;](4_4_the_visibility_function.ipynb) 有更详细的描述）。\n",
    "\n",
    "<div class=advice>\n",
    "不要太担心 $uvw$ 空间的关联性，关于这一点将在 [$\\S$4.4](4_Visibility_Space/4_4_the_visibility_function.ipynb) 有更清晰的描述。现在，只能说这些推导对于后续的理解很有帮助。\n",
    "</div>\n",
    "\n",
    "***\n",
    "This section was dedicated to writing a mathematical expression the baseline vector in astronomy-friendly reference frames. This will later allow us to quickly link the physical length of a baseline between two receivers to a quantity measured on the celestial sphere. \n",
    "In [$\\S$ 4.3 &#10142;](4_3_the_2-element_interferometer.ipynb), we will focus on a simple one dimensional 2-element interferometer. We will address the correlation of two signals collected from a remote point source, and construct the corresponding visibility function which will be described in greater detail in [$\\S$ 4.4 &#10142;](4_4_the_visibility_function.ipynb).\n",
    "\n",
    "<div class=advice>\n",
    "Do not worry too much about the relevance of $uvw$ space - it will be made clear in [$\\S$4.4](4_Visibility_Space/4_4_the_visibility_function.ipynb). For now, suffice to say that this derivation will be useful to us later on.\n",
    "</div>"
   ]
  },
  {
   "cell_type": "markdown",
   "metadata": {},
   "source": [
    "#### Format status:\n",
    "* <span style=\"background-color:green\">&nbsp;&nbsp;&nbsp;&nbsp;</span> : LF: 2017/02/06\n",
    "* <span style=\"background-color:green\">&nbsp;&nbsp;&nbsp;&nbsp;</span> : NC: 2017/02/06\n",
    "* <span style=\"background-color:green\">&nbsp;&nbsp;&nbsp;&nbsp;</span> : RF: 2017/02/06\n",
    "* <span style=\"background-color:green\">&nbsp;&nbsp;&nbsp;&nbsp;</span> : HF: 2017/02/06\n",
    "* <span style=\"background-color:green\">&nbsp;&nbsp;&nbsp;&nbsp;</span> : GM: 2017/02/06\n",
    "* <span style=\"background-color:green\">&nbsp;&nbsp;&nbsp;&nbsp;</span> : CL: 2017/02/06\n",
    "* <span style=\"background-color:green\">&nbsp;&nbsp;&nbsp;&nbsp;</span> : ST: 2017/02/06\n",
    "* <span style=\"background-color:green\">&nbsp;&nbsp;&nbsp;&nbsp;</span> : FN: 2017/02/06\n",
    "* <span style=\"background-color:green\">&nbsp;&nbsp;&nbsp;&nbsp;</span> : SP: 2017/02/06\n",
    "* <span style=\"background-color:red\">&nbsp;&nbsp;&nbsp;&nbsp;</span> : TC: Date\n",
    "* <span style=\"background-color:green\">&nbsp;&nbsp;&nbsp;&nbsp;</span> : XX: 2017/02/06"
   ]
  },
  {
   "cell_type": "markdown",
   "metadata": {},
   "source": [
    "***\n",
    "\n",
    "* Next: [4.3 The 2-element Interferometer](4_3_the_2-element_interferometer.ipynb)"
   ]
  }
 ],
 "metadata": {
  "kernelspec": {
   "display_name": "Python 3",
   "language": "python",
   "name": "python3"
  },
  "language_info": {
   "codemirror_mode": {
    "name": "ipython",
    "version": 3
   },
   "file_extension": ".py",
   "mimetype": "text/x-python",
   "name": "python",
   "nbconvert_exporter": "python",
   "pygments_lexer": "ipython3",
   "version": "3.7.3"
  }
 },
 "nbformat": 4,
 "nbformat_minor": 1
}
