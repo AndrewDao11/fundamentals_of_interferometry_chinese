{
 "cells": [
  {
   "cell_type": "markdown",
   "metadata": {},
   "source": [
    "***\n",
    "<a id='beginning'></a> <!--label{beginning}-->\n",
    "   * [Outline](../0_Introduction/0_introduction.ipynb)\n",
    "   * [Glossary](../0_Introduction/1_glossary.ipynb)\n",
    "   * [4. The Visibility space](#)\n",
    "       * Previous Chapter: [3. Positional Astronomy](../3_Positional_Astronomy/3_0_introduction.ipynb)\n",
    "    \n",
    "       * Next: [4.1 Periodic Functions and Fourier Analysis](4_1_periodic_functions_and_fourier_analysis.ipynb)\n",
    "    \n",
    "***"
   ]
  },
  {
   "cell_type": "markdown",
   "metadata": {},
   "source": [
    "导入标准模块：\n",
    "Import standard modules:"
   ]
  },
  {
   "cell_type": "code",
   "execution_count": 10,
   "metadata": {},
   "outputs": [
    {
     "data": {
      "text/html": [
       "<style>\n",
       "\n",
       "p.prerequisites {\n",
       "    border:5px;\n",
       "    border-style:none;\n",
       "    background-color:#F0F0F0;\n",
       "    box-shadow: 5px 5px 2px #888888;\n",
       "    border-color:#FF0000;\n",
       "    padding: 1em;\n",
       "    }\n",
       "\n",
       "p.conclusion {\n",
       "    border:5px;\n",
       "    border-style:none;\n",
       "    background-color:#c8ebca;\n",
       "    box-shadow: 5px 5px 2px #888888;\n",
       "    border-color:#c8ebca;\n",
       "    padding: 1em;\n",
       "    }\n",
       "\n",
       "div.warn {    \n",
       "    background-color: #fcf2f2;\n",
       "    border-color: #dFb5b4;\n",
       "    border-left: 5px solid #dfb5b4;\n",
       "    padding: 0.5em;\n",
       "    }\n",
       "\n",
       "div.advice {    \n",
       "    background-color: #ecf8ed;\n",
       "    border-color: #a2dda5;\n",
       "    border-left: 5px solid #a2dda5;\n",
       "    padding: 0.5em;\n",
       "    }\n",
       "\n",
       "</style>\n",
       "\n"
      ],
      "text/plain": [
       "<IPython.core.display.HTML object>"
      ]
     },
     "execution_count": 10,
     "metadata": {},
     "output_type": "execute_result"
    }
   ],
   "source": [
    "import numpy as np\n",
    "import matplotlib.pyplot as plt\n",
    "%matplotlib inline\n",
    "from IPython.display import HTML\n",
    "HTML('../style/course.css') #apply general CSS"
   ]
  },
  {
   "cell_type": "markdown",
   "metadata": {},
   "source": [
    "Import section specific modules:"
   ]
  },
  {
   "cell_type": "markdown",
   "metadata": {},
   "source": [
    "# 第四章 可见度函数空间<a id='visibility:sec:intro'></a>\n",
    "# Chapter 4: The Visibility Space<a id='visibility:sec:intro'></a>"
   ]
  },
  {
   "cell_type": "markdown",
   "metadata": {},
   "source": [
    "干涉测量阵列由一系列独立的单元组成，每一对干涉单元交叉相关以进行基线测量。干涉测量是一种强大的技术，因为它使我们能够间接和准确地测量天空中的天体位置，并解决提供天空成分的空间特征信息。 使用孔径观测，可以对干涉测量结果进行综合孔径成像。\n",
    "\n",
    "在本章中，我们定义了干涉仪测量的量以及它与我们观察到的源之间的关系。\n",
    "我们要在本章中讨论的问题是：\n",
    "\n",
    "  * 射电干涉阵可以观测到哪些值？\n",
    "  * 如何确定干涉仪基线测量的量 (quantity?)？\n",
    "  * 如何使用干涉测量来确定观测天空的结构？\n",
    "  \n",
    " \n",
    " <img src='figures/basic_block.svg' width=60%>\n",
    " \n",
    "在解决这些问题之前，需要花时间在[$\\S$ 4.1 &#10142;](4_1_periodic_functions_and_fourier_analysis.ipynb)，即理解干涉测量的基础——图像平面和傅立叶平面之间的关系。并在[$\\S$ 4.2 &#10142;](4_2_the_baseline_and_its_representation_in_space.ipynb) 中对不同参考框架下的基线及其表示进行定义。\n",
    " \n",
    "有必要在基线的概念中充分描述二元素干涉仪，如 [$\\S$ 4.3 &#10142;](4_3_the_2-element_interferometer.ipynb) 所述。 这个简单的干涉仪可以看作是对可见度函数 [$\\S$ 4.4 &#10142;](4_4_the_visibility_function.ipynb) 进行采样的工具，它与天空的强度分布有关。 根据干涉阵在地球上的位置，可以由 [$\\S$ 4.5.1 &#10142;](4_5_1_uv_Coverage_uv_tracks.ipynb) 中定义的 $uv$ 轨迹确定可见度函数。 在 [$\\S$ 4.5.2 &#10142;](4_5_2_uv_coverage_improving_your_coverage.ipynb) 中，我们研究了如何提高干涉阵列的 $uv$ 覆盖以更好地对可见度函数进行采样。\n",
    "\n",
    "在最后一节 [$\\S$ 4.6 &#10142;](4_6_The_Fourier_Approximation_VanCittert-Zernike_Theorem.ipynb) 中，我们描述了van Cittert-Zernike定理，该定理通过傅里叶关系将天空的强度分布与干涉阵测量联系起来。\n",
    "\n",
    "\n",
    "***\n",
    "An interferometric array consists of a collection of individual elements, each pair of elements is cross-correlated to make a baseline measurement. Interferometry is a powerful technique as it enables us to indirectly and accurately measure astrometric positions of the components in the sky. Interferometeters also indirectly provide us with information about the spatial characteristics of sky components. Using aperture synthesis, one can perform synthesis imaging from these measurements.\n",
    "\n",
    "In this chapter, we define the quantities that are measured by an interferometer and how it relates to the original that we observed.\n",
    "The questions we want to address in this chapter are:\n",
    "\n",
    "  * What is measured in radio interferometry?\n",
    "  * How can I determine what quantity I measure with a baseline of an interferometer?,\n",
    "  * How the interferometric measurements can be used to determine the structure of the observed sky?\n",
    "  \n",
    "<img src='figures/basic_block.svg' width=60%>\n",
    "   \n",
    "Before addressing these questions, we will spend some time in [$\\S$ 4.1 &#10142;](4_1_periodic_functions_and_fourier_analysis.ipynb) discussing the relationship between the image plane and the Fourier plane: this is fundamental to understanding interferometry. Then, in [$\\S$ 4.2 &#10142;](4_2_the_baseline_and_its_representation_in_space.ipynb), we will define the *baseline* and its representation in various reference frames.\n",
    "\n",
    "The notion of baseline is necessary to adequately describe the 2-element interferometer, as done in [$\\S$ 4.3 &#10142;](4_3_the_2-element_interferometer.ipynb). This simple interferometer can be seen as a tool that samples the visibility function [$\\S$ 4.4 &#10142;](4_4_the_visibility_function.ipynb), which is associated with the intensity distribution of the sky. Depending on the location of the interferometer on Earth, this function can be probed along $uv$ tracks defined in [$\\S$ 4.5.1 &#10142;](4_5_1_uv_Coverage_uv_tracks.ipynb). In [$\\S$ 4.5.2 &#10142;](4_5_2_uv_coverage_improving_your_coverage.ipynb), we investigate how the $uv$ coverage of an interferometric array can be improved to better sample the visibility function.\n",
    "\n",
    "In the final section [$\\S$ 4.6 &#10142;](4_6_The_Fourier_Approximation_VanCittert-Zernike_Theorem.ipynb), we describe the van Cittert-Zernike theorem, which, given some assertions, links the intensity distribution of the sky to the interforometric measurements by a Fourier relationship. "
   ]
  },
  {
   "cell_type": "markdown",
   "metadata": {},
   "source": [
    "### 章节大纲\n",
    "\n",
    "1. <span style=\"background-color:red\">&nbsp;&nbsp;&nbsp;&nbsp;</span>[周期函数与傅里叶分析](4_1_periodic_functions_and_fourier_analysis.ipynb)\n",
    "2. <span style=\"background-color:yellow\">&nbsp;&nbsp;&nbsp;&nbsp;</span> [基线及其中间表示](4_2_the_baseline_and_its_representation_in_space.ipynb)\n",
    "3. <span style=\"background-color:yellow\">&nbsp;&nbsp;&nbsp;&nbsp;</span> [二元干涉仪](4_3_the_2-element_interferometer.ipynb)\n",
    "4. <span style=\"background-color:yellow\">&nbsp;&nbsp;&nbsp;&nbsp;</span>[可见度函数](4_4_the_visibility_function.ipynb)\n",
    "5. <span style=\"background-color:yellow\">&nbsp;&nbsp;&nbsp;&nbsp;</span>UV 覆盖\n",
    "    1. [$uv$ 轨迹跟踪](4_5_1_uv_coverage_uv_tracks.ipynb)\n",
    "    2. [提高$uv$覆盖](4_5_2_uv_coverage_improving_your_coverage.ipynb)\n",
    "6. <span style=\"background-color:red\">&nbsp;&nbsp;&nbsp;&nbsp;</span>[范·希特-泽尼克定理](4_6_the_fourier_approximation_van_cittert-zernike_theorem.ipynb)\n",
    "7. <span style=\"background-color:red\">&nbsp;&nbsp;&nbsp;&nbsp;</span>[进一步阅读和参考资料](4_x_further_reading_and_references.ipynb)\n",
    "\n",
    "***\n",
    "\n",
    "#### Chapter Outline\n",
    "\n",
    "1. <span style=\"background-color:red\">&nbsp;&nbsp;&nbsp;&nbsp;</span>[Periodic Functions and Fourier Analysis](4_1_periodic_functions_and_fourier_analysis.ipynb)\n",
    "2. <span style=\"background-color:yellow\">&nbsp;&nbsp;&nbsp;&nbsp;</span> [The Baseline and Its Representation in Space](4_2_the_baseline_and_its_representation_in_space.ipynb)\n",
    "3. <span style=\"background-color:yellow\">&nbsp;&nbsp;&nbsp;&nbsp;</span> [The 2-element Interferometer](4_3_the_2-element_interferometer.ipynb)\n",
    "4. <span style=\"background-color:yellow\">&nbsp;&nbsp;&nbsp;&nbsp;</span>[The Visibility Function](4_4_the_visibility_function.ipynb)\n",
    "5. <span style=\"background-color:yellow\">&nbsp;&nbsp;&nbsp;&nbsp;</span>UV Coverage\n",
    "    1. [$uv$ Tracks](4_5_1_uv_coverage_uv_tracks.ipynb)\n",
    "    2. [Improving Your Coverage](4_5_2_uv_coverage_improving_your_coverage.ipynb)\n",
    "6. <span style=\"background-color:red\">&nbsp;&nbsp;&nbsp;&nbsp;</span>[The Van Cittert-Zernike Theorem](4_6_the_fourier_approximation_van_cittert-zernike_theorem.ipynb)\n",
    "7. <span style=\"background-color:red\">&nbsp;&nbsp;&nbsp;&nbsp;</span>[Further Reading and References](4_x_further_reading_and_references.ipynb)"
   ]
  },
  {
   "cell_type": "markdown",
   "metadata": {},
   "source": [
    "#### Chapter Editors\n",
    "\n",
    "* Landman Bester (2016)\n",
    "* Griffin Foster (2016)\n",
    "* Trienko Grobler (2016, 2017)\n",
    "* Modhurita Mitra (2016)"
   ]
  },
  {
   "cell_type": "markdown",
   "metadata": {},
   "source": [
    "#### Chapter Contributors"
   ]
  },
  {
   "cell_type": "markdown",
   "metadata": {},
   "source": [
    "* Julien Girard (**4.0**, 4.1, **4.2**, **4.3**, **4.4**, **4.5**,**4.6**)\n",
    "* Etienne Bonnassieux (4.0, **4.1**, 4.2, 4.3, 4.4, 4.5, 4.6)"
   ]
  },
  {
   "cell_type": "markdown",
   "metadata": {},
   "source": [
    "#### Format status:\n",
    "* <span style=\"background-color:green\">&nbsp;&nbsp;&nbsp;&nbsp;</span> : LF: Date\n",
    "* <span style=\"background-color:green\">&nbsp;&nbsp;&nbsp;&nbsp;</span> : NC: Date\n",
    "* <span style=\"background-color:green\">&nbsp;&nbsp;&nbsp;&nbsp;</span> : RF: Date\n",
    "* <span style=\"background-color:green\">&nbsp;&nbsp;&nbsp;&nbsp;</span> : HF: Date\n",
    "* <span style=\"background-color:green\">&nbsp;&nbsp;&nbsp;&nbsp;</span> : GM: Date\n",
    "* <span style=\"background-color:green\">&nbsp;&nbsp;&nbsp;&nbsp;</span> : CC: Date\n",
    "* <span style=\"background-color:green\">&nbsp;&nbsp;&nbsp;&nbsp;</span> : CL: Date\n",
    "* <span style=\"background-color:green\">&nbsp;&nbsp;&nbsp;&nbsp;</span> : ST: Date\n",
    "* <span style=\"background-color:green\">&nbsp;&nbsp;&nbsp;&nbsp;</span> : FN: Date\n",
    "* <span style=\"background-color:green\">&nbsp;&nbsp;&nbsp;&nbsp;</span> : TC: Date\n",
    "* <span style=\"background-color:green\">&nbsp;&nbsp;&nbsp;&nbsp;</span> : XX: Date"
   ]
  }
 ],
 "metadata": {
  "kernelspec": {
   "display_name": "Python 3",
   "language": "python",
   "name": "python3"
  },
  "language_info": {
   "codemirror_mode": {
    "name": "ipython",
    "version": 3
   },
   "file_extension": ".py",
   "mimetype": "text/x-python",
   "name": "python",
   "nbconvert_exporter": "python",
   "pygments_lexer": "ipython3",
   "version": "3.7.3"
  }
 },
 "nbformat": 4,
 "nbformat_minor": 1
}
