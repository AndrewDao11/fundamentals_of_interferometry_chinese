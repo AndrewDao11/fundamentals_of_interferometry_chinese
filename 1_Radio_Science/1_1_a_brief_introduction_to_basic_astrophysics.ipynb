{
 "cells": [
  {
   "cell_type": "markdown",
   "metadata": {},
   "source": [
    "***\n",
    "\n",
    "* [Outline](../0_Introduction/0_introduction.ipynb)\n",
    "* [Glossary](../0_Introduction/1_glossary.ipynb)\n",
    "* [1. Radio Science using Interferometric Arrays](1_0_introduction.ipynb)  \n",
    "    * Previous: [1.0 Introduction](../1_Radio_Science/1_0_introduction.ipynb)\n",
    "    * Next: [1.2 Electromagnetic radiation and astronomical quantities](../1_Radio_Science/1_2_electromagnetic_radiation_and_astronomical_quantities.ipynb)\n",
    "\n",
    "***"
   ]
  },
  {
   "cell_type": "markdown",
   "metadata": {},
   "source": [
    "文稿状态: <span style=\"background-color:green\">&nbsp;&nbsp;&nbsp;&nbsp;</span>\n",
    "\n",
    "导入标准模块:"
   ]
  },
  {
   "cell_type": "code",
   "execution_count": null,
   "metadata": {},
   "outputs": [],
   "source": [
    "import numpy as np\n",
    "import matplotlib.pyplot as plt\n",
    "%matplotlib inline\n",
    "from IPython.display import HTML \n",
    "HTML('../style/course.css') #apply general CSS"
   ]
  },
  {
   "cell_type": "markdown",
   "metadata": {},
   "source": [
    "导入本节特定模块："
   ]
  },
  {
   "cell_type": "code",
   "execution_count": null,
   "metadata": {
    "collapsed": true
   },
   "outputs": [],
   "source": [
    "pass"
   ]
  },
  {
   "cell_type": "markdown",
   "metadata": {},
   "source": [
    "## 1.1 基础天体物理简述<a id='science:sec:astro'></a>"
   ]
  },
  {
   "cell_type": "markdown",
   "metadata": {},
   "source": [
    "虽然本书关注于射电技术中一个非常专业的领域，但我们仍希望通过此书，通过我们的努力，给读者以更宽的视野（高专业的射电技术人员除外），毕竟天文学家的梦想，就是希望通过研究地外的现象能找出宇宙的规律。"
   ]
  },
  {
   "cell_type": "markdown",
   "metadata": {},
   "source": [
    "天体物理学是物理学或天文学中的一个学科，通过利用基础物理的理论或手段来解释地外现象，验证物理学中的基本理论。其与地球上物理学研究的区别，就是地球上物理学经常可以在实验室中直接触及研究目标，但天体物理学家从没有办法与他们的研究对象交互。天文实验室的一部分是自然界建立起来的，其它仅有的就是能够在技术上优化，更好地指向观测目标的观测设备。实验天体物理完全不象普通物理一样可以从始至终止（或一定程度上）控制实验设置，更多的是找到一个合适目标验证某种假说的运气。"
   ]
  },
  {
   "cell_type": "markdown",
   "metadata": {},
   "source": [
    "（实测）天体物理从来就没有成为基础物理不可或缺部分的原因，就是在地球上根本无法达到我们我们可以验证一些广泛理论所需要的宇宙中的极端条件。很多高能粒子并非来自于地球，而是来自于宇宙空间。粒子密度在$10^4 - 10^6$ atoms cm$^{-3}$的致密分子云，往往是恒星的形成区，这归功于这一区域周围 环绕的介质的引力塌陷，以及远远超过了螺旋星系普通星际间气体密度(1 atom cm$^{-3}$）。真空泵只可以产生100 atoms cm$^{-3}$的真空度，根本无法在地球上达到分子云中的粒子密度。同样，中子星中部约10$^{17}$ kg m$^{-3}$的巨大密度，在地球上更是不可能达到的。只有宇宙才能给予了我们在大尺度上研究物理基本定律，以及研究宏观黑洞的能力。只有对宇宙的观测，才让我们通过宇宙微波背景，看到了宇宙变得透明那一时刻所记录下来的基础物理关键信息的不均一性。事实上，没有天体物理学，就不会关注到暗物质，更不会观测到我们的宇宙正在加速膨胀。这些发现不断地推进了我们对宇宙和其基本规律的认知。\n"
   ]
  },
  {
   "cell_type": "markdown",
   "metadata": {},
   "source": [
    "天体物理学研究的对象一般在事件不同的维度和频率上展开，包括："
   ]
  },
  {
   "cell_type": "markdown",
   "metadata": {},
   "source": [
    "* The sun\n",
    "* Objects in the solar system\n",
    "* Stars\n",
    "* Extrasolar planets\n",
    "* Neutron stars\n",
    "* Small black holes\n",
    "* Magnetic fields\n",
    "* Interplanetary and interstellar gas\n",
    "* Interplanetary and interstellar dust\n",
    "* The Milky Way\n",
    "* Galaxies\n",
    "* Quasars and active galaxies\n",
    "* Super massive black holes\n",
    "* Clustering of galaxies\n",
    "* Cosmic structure\n",
    "* The cosmic microwave background"
   ]
  },
  {
   "cell_type": "markdown",
   "metadata": {},
   "source": [
    "要观测天文现象离不开探测器，但通常可以观测这些现象（目标）所利用的介质只有电磁辐射。 因此，天文台一般都会配备各类望远镜与探测器，用于对准和探测来自宇宙的电磁辐射。射电望远镜是这些探测器的一种。"
   ]
  },
  {
   "cell_type": "markdown",
   "metadata": {
    "collapsed": true
   },
   "source": [
    "***\n",
    "\n",
    "* 下一节: [1.2 Electromagnetic radiation and astronomical quantities](../1_Radio_Science/1_2_electromagnetic_radiation_and_astronomical_quantities.ipynb)"
   ]
  }
 ],
 "metadata": {
  "kernelspec": {
   "display_name": "Python 3",
   "language": "python",
   "name": "python3"
  },
  "language_info": {
   "codemirror_mode": {
    "name": "ipython",
    "version": 3
   },
   "file_extension": ".py",
   "mimetype": "text/x-python",
   "name": "python",
   "nbconvert_exporter": "python",
   "pygments_lexer": "ipython3",
   "version": "3.7.2"
  }
 },
 "nbformat": 4,
 "nbformat_minor": 1
}
