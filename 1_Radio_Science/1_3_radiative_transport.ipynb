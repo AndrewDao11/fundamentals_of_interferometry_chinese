{
 "cells": [
  {
   "cell_type": "markdown",
   "metadata": {},
   "source": [
    "***\n",
    "\n",
    "* [Outline](../0_Introduction/0_introduction.ipynb)\n",
    "* [Glossary](../0_Introduction/1_glossary.ipynb)\n",
    "* [1. Radio Science](1_0_introduction.ipynb)  \n",
    "    * Previous: [1.2 Electromagnetic radiation and astronomical quantities](1_2_electromagnetic_radiation_and_astronomical_quantities.ipynb)\n",
    "    * Next: [1.4 Radio regime](1_4_radio_regime.ipynb)\n",
    "\n",
    "***"
   ]
  },
  {
   "cell_type": "markdown",
   "metadata": {},
   "source": [
    "Section status: <span style=\"background-color:orange\">&nbsp;&nbsp;&nbsp;&nbsp;</span>\n",
    "\n",
    "Import standard modules:"
   ]
  },
  {
   "cell_type": "code",
   "execution_count": 2,
   "metadata": {},
   "outputs": [
    {
     "data": {
      "text/html": [
       "<style>\n",
       "\n",
       "p.prerequisites {\n",
       "    border:5px;\n",
       "    border-style:none;\n",
       "    background-color:#F0F0F0;\n",
       "    box-shadow: 5px 5px 2px #888888;\n",
       "    border-color:#FF0000;\n",
       "    padding: 1em;\n",
       "    }\n",
       "\n",
       "p.conclusion {\n",
       "    border:5px;\n",
       "    border-style:none;\n",
       "    background-color:#c8ebca;\n",
       "    box-shadow: 5px 5px 2px #888888;\n",
       "    border-color:#c8ebca;\n",
       "    padding: 1em;\n",
       "    }\n",
       "\n",
       "div.warn {    \n",
       "    background-color: #fcf2f2;\n",
       "    border-color: #dFb5b4;\n",
       "    border-left: 5px solid #dfb5b4;\n",
       "    padding: 0.5em;\n",
       "    }\n",
       "\n",
       "div.advice {    \n",
       "    background-color: #ecf8ed;\n",
       "    border-color: #a2dda5;\n",
       "    border-left: 5px solid #a2dda5;\n",
       "    padding: 0.5em;\n",
       "    }\n",
       "\n",
       "</style>\n",
       "\n"
      ],
      "text/plain": [
       "<IPython.core.display.HTML object>"
      ]
     },
     "execution_count": 2,
     "metadata": {},
     "output_type": "execute_result"
    }
   ],
   "source": [
    "import numpy as np\n",
    "import matplotlib.pyplot as plt\n",
    "%matplotlib inline\n",
    "from IPython.display import HTML \n",
    "HTML('../style/course.css') #apply general CSS"
   ]
  },
  {
   "cell_type": "markdown",
   "metadata": {},
   "source": [
    "Import section specific modules:"
   ]
  },
  {
   "cell_type": "code",
   "execution_count": 1,
   "metadata": {
    "collapsed": true
   },
   "outputs": [],
   "source": [
    "from IPython.display import Image"
   ]
  },
  {
   "cell_type": "markdown",
   "metadata": {},
   "source": [
    "## 1.3. 辐射传输Radiative transport<a id='science:sec:radiative_transport'></a>"
   ]
  },
  {
   "cell_type": "markdown",
   "metadata": {},
   "source": [
    "在射电干涉领域，辐射传输是一个非常基础不容忽视的概念。在本节，我们将简要回顾电磁辐射在有吸收和发射的非空空间的传播。简单起见，我们将避免进行细节讨论。\n",
    "\n",
    "In this section we briefly review how electromagnetic radiation propagates through non-empty space in which radiation may be absorbed or generated. To keep things simple we will refrain from going too far into the details. However the concept of radiative transport plays a fundamental role in interferometry and therefore cannot be omitted. "
   ]
  },
  {
   "cell_type": "markdown",
   "metadata": {},
   "source": [
    "前一节我们已经讨论了，在没有辐射生成也没有被吸收的情况下，比强度跟源的距离没有关系。事实上，在源和观测设备之间的传输路径 $s$上，辐射强度总是会有所增强或者减弱。强度损失通常跟辐射强度本身成比例（想象一下辐射的吸收率），我们在这里采用线性模型并假定，当电磁波通过传播介质，每经过无穷小长度$ds$，强度 $I_\\nu$ 损失为\n",
    "\n",
    "In the previous section we discussed the fact that specific intensity is independent of the distance to a source as long as no emission is generated and nothing is absorbed. In reality a ray bundle may gain or lose intensity on its way to the observer, along a path $s$ say. The *loss* of intensity is generally proportional to the intensity itself (imagine an absorption probability for radiation). We will adopt a linear model and assume that, as the ray bundle propagates through a medium along an infinitesimal path length $ds$, $I_\\nu$ loses a fraction \n",
    "\n",
    "$$ -\\kappa_\\nu(s)\\,I_\\nu \\,ds $$\n",
    "\n",
    "这里$\\kappa_\\nu(s)$是线性吸收系数。同时，在传输路径上，还会生成跟入射辐射无关的强度，且每经过无穷小距离 $ds$，获得强度$\\varepsilon_\\nu \\,ds$，这里$\\varepsilon_\\nu $是发射系数。一般来说，$\\kappa_\\nu$ 和 $\\varepsilon_\\nu$ 可能是 $I$ 的函数，但是后面我们会忽略这一效应，而假设它们只跟路径$s$有关。基于上述讨论，我们得到一个辐射传输的简化方程，也就是：\n",
    "\n",
    "Here $\\kappa_\\nu(s)$ is called the linear absorption coefficient. Furthermore, intensity will be *generated* independently of the incoming radiation in such a way that the intensity will increase by a constant amount of $\\varepsilon_\\nu \\,ds$ along the infinitesimal path length $ds$. Here $\\varepsilon_\\nu $ is called the emission coefficient. Note that, in general, $\\kappa_\\nu$ and $\\varepsilon_\\nu$ may be functions of $I$. In what follows we will neglect this effect and assume that they only depend on $s$. From above, we can write down a simplified version of the equation describing radiative transfer i.e."
   ]
  },
  {
   "cell_type": "markdown",
   "metadata": {},
   "source": [
    "<a id='science:eq:03_001'></a><!--\\label{science:eq:03_001}-->$$\n",
    "\\begin{align}\n",
    "    dI_\\nu \\,&= -\\kappa_\\nu\\,I_\\nu\\,ds+\\varepsilon_\\nu\\,ds\\\\\n",
    "    &\\Leftrightarrow\\\\\n",
    "    \\frac{dI_\\nu}{ds} \\,&= -\\kappa_\\nu\\,I_\\nu+\\varepsilon_\\nu \\\\\n",
    "\\end{align}\n",
    "$$\n",
    "\n",
    "<span style=\"background-color:red\">HLB:IC: Pretty much all the calculations below this comment seems unnecessarily convoluted and needs to be revised. In particular many of the integrations seem unnecessary, work with the differentials where possible. Moreover there is undefined notation. What is $\\tau_n u(s)$ in the integrals below the figure? </span>"
   ]
  },
  {
   "cell_type": "markdown",
   "metadata": {},
   "source": [
    "令$\\kappa_\\nu\\,=\\,0$ ，或者 $\\varepsilon_\\nu\\,=\\,0$，得到辐射传输方程的简单解：\n",
    "\n",
    "The equation of radiative transfer has simple solutions for $\\kappa_\\nu\\,=\\,0$ or $\\varepsilon_\\nu\\,=\\,0$:"
   ]
  },
  {
   "cell_type": "markdown",
   "metadata": {},
   "source": [
    "<a id='science:eq:03_002'></a><!--\\label{science:eq:03_002}-->$$\n",
    "\\begin{align}\n",
    "     \\kappa_\\nu\\,&=\\,0 &\\Rightarrow\\quad& I_\\nu(s)\\,=\\,I_\\nu(s_0)+\\int_{s_0}^{s}\\varepsilon_\\nu(t)\\,dt\\\\\n",
    "     \\varepsilon_\\nu\\,&=\\,0 &\\Rightarrow\\quad& I_\\nu(s)\\,=\\,I_\\nu(s_0)\\,e^{-\\int_{s_0}^{s}\\kappa_\\nu(t)\\,dt} \\\\\n",
    "\\end{align}\n",
    "$$"
   ]
  },
  {
   "cell_type": "markdown",
   "metadata": {},
   "source": [
    "为了得到辐射传递方程的通解，定义了光学深度$\\tau_\\nu$：\n",
    "\n",
    "To proceed to the *general solution* of the equation of radiative transfer, one defines the optical depth $\\tau_\\nu$ via"
   ]
  },
  {
   "cell_type": "markdown",
   "metadata": {},
   "source": [
    "<a id='science:eq:03_003'></a><!--\\label{science:eq:03_003}-->\n",
    "$$ d\\tau_\\nu \\underset{def}{=} -\\kappa_\\nu ds \\quad \\Rightarrow \\quad \\tau_\\nu = \\int_s^{s_0}\\kappa_\\nu(t) dt $$"
   ]
  },
  {
   "cell_type": "markdown",
   "metadata": {},
   "source": [
    "观测位置在$s_0$，观测位置的$\\tau_\\nu\\,=\\,0$，在此基础上，引入一个比实际路径长度更具相关性的量作为参数\n",
    "，通过链规则替换得到：\n",
    "\n",
    "Here the observer is at the position $s_0$ and $\\tau_\\nu\\,=\\,0$ at the position of the observer. With that, one basically introduces a more relevant quantity than the actual path length as a parameter. Substituting via the chain rule"
   ]
  },
  {
   "cell_type": "markdown",
   "metadata": {},
   "source": [
    "<a id='science:eq:03_004'></a><!--\\label{science:eq:03_004}-->$$\n",
    "\\begin{align}\n",
    "    \\frac{dI_\\nu}{ds} \\,&= \\,\\frac{dI_\\nu}{d\\tau_\\nu}\\frac{d\\tau_\\nu}{ds}\\\\\n",
    "    &=\\, -\\kappa_\\nu\\frac{dI_\\nu}{d\\tau_\\nu}\\\\\n",
    "    &=\\, -\\kappa_\\nu\\,I_\\nu+\\varepsilon_\\nu \\\\\n",
    "\\end{align}\n",
    "$$"
   ]
  },
  {
   "cell_type": "markdown",
   "metadata": {
    "collapsed": true
   },
   "source": [
    "下图展示了辐射传输的过程。\n",
    "\n",
    "The figure below shows the radiative transport process in a pictorial form. "
   ]
  },
  {
   "cell_type": "code",
   "execution_count": 3,
   "metadata": {},
   "outputs": [
    {
     "data": {
      "image/png": "[encoded data removed]",
      "text/plain": [
       "<IPython.core.display.Image object>"
      ]
     },
     "execution_count": 3,
     "metadata": {
      "image/png": {
       "width": 800
      }
     },
     "output_type": "execute_result"
    }
   ],
   "source": [
    "Image(filename='figures/radiative_transport.png', width=800)"
   ]
  },
  {
   "cell_type": "markdown",
   "metadata": {},
   "source": [
    "定义源函数或者效率为$s_\\nu$（同样的富豪也用于定义流量密度）：\n",
    "\n",
    "By defining the source function or efficiency $s_\\nu$ (note that, unfortunately, the same symbol $S_\\nu$ as for the flux density is often used for $s_\\nu$) as"
   ]
  },
  {
   "cell_type": "markdown",
   "metadata": {},
   "source": [
    "<a id='science:eq:03_005'></a><!--\\label{science:eq:03_005}-->$$\n",
    "\\begin{align}\n",
    "    s_\\nu\\,&\\underset{def}{=}\\,\\frac{\\varepsilon_\\nu}{\\kappa_\\nu}\\\\\n",
    "\\end{align}\n",
    "$$"
   ]
  },
  {
   "cell_type": "markdown",
   "metadata": {},
   "source": [
    "得到\n",
    "\n",
    "we get"
   ]
  },
  {
   "cell_type": "markdown",
   "metadata": {},
   "source": [
    "<a id='science:eq:03_005'></a><!--\\label{science:eq:03_005}-->$$\n",
    "\\begin{align}\n",
    "    \\frac{dI_\\nu}{d\\tau_\\nu}\\,=\\,I_\\nu-s_\\nu \n",
    "\\end{align}\n",
    "$$"
   ]
  },
  {
   "cell_type": "markdown",
   "metadata": {},
   "source": [
    "上式乘以$e^{-\\tau_\\nu}$ 并积分：\n",
    "\n",
    "which can be solved via multiplication with $e^{-\\tau_\\nu}$ and integration (i.e. using an integrating factor)"
   ]
  },
  {
   "cell_type": "markdown",
   "metadata": {},
   "source": [
    "<a id='science:eq:03_006'></a><!--\\label{science:eq:03_006}-->$$\n",
    "\\begin{align}\n",
    "    \\frac{d\\left(I_\\nu \\,e^{-\\tau_\\nu}\\right)}{d\\tau_\\nu}\\,&=\\,\\frac{dI_\\nu}{d\\tau_\\nu}\\,e^{-\\tau_\\nu}-I_\\nu\\,e^{-\\tau_\\nu}\\\\\n",
    "    &=\\,-s_\\nu\\,e^{-\\tau_nu}\\\\\n",
    "    &\\Rightarrow\\\\\n",
    "    \\int_0^{\\tau_\\nu(s)} \\frac{d\\left(I_\\nu \\,e^{-\\tau_\\nu}\\right)}{d\\tau_\\nu}\\,d\\tau_\\nu\\,&=\\,I_\\nu(\\tau_\\nu(s))\\,e^{-\\tau_nu(s)}-I_\\nu(0)e^{0}\\\\\n",
    "    &=\\,I_\\nu(\\tau_\\nu(s))\\,e^{-\\tau_nu(s)}-I_\\nu(0)\\\\\n",
    "    \\\\&=\\,-\\int_0^{\\tau_\\nu(s)}s_\\nu\\,e^{-\\tau_\\nu}\\,d\\tau_\\nu\\\\\n",
    "    &\\Leftrightarrow\\\\\n",
    "    I_\\nu(0)\\,&=\\, I_\\nu(s_0)\\\\\n",
    "    &=\\, I_\\nu\\left(\\tau_\\nu(s)\\right)\\,e^{-\\tau_\\nu(s)}+\\int_0^{\\tau_\\nu(s)}s_\\nu\\,e^{-\\tau_\\nu}\\,d\\tau_\\nu\n",
    "\\end{align}\n",
    "$$"
   ]
  },
  {
   "cell_type": "markdown",
   "metadata": {},
   "source": [
    "根据基尔霍夫Kirchhoff热辐射定律（参见  [here](https://en.wikipedia.org/wiki/Kirchhoff's_law_of_thermal_radiation)，在局部热力学平衡（LTE）系统中，温度为$T$时，系统发射和吸收的辐射相等，因此有：\n",
    "\n",
    "Kirchhoff's law of thermal radiation (see [here](https://en.wikipedia.org/wiki/Kirchhoff's_law_of_thermal_radiation) for example) implies that, in a local thermodynamical equilibrium (LTE), at temperature $T$, the emissivity equals the absorbed radiation. Thus we have that"
   ]
  },
  {
   "cell_type": "markdown",
   "metadata": {},
   "source": [
    "<a id='science:eq:03_007'></a><!--\\label{science:eq:03_007}-->$$\n",
    "\\begin{align}\n",
    "    \\varepsilon_\\nu\\,&\\underset{LTE}{=}\\,\\kappa_\\nu\\,B(T)\\\\\n",
    "    s_\\nu\\,&=\\,B(T)\n",
    "\\end{align}\n",
    "$$"
   ]
  },
  {
   "cell_type": "markdown",
   "metadata": {},
   "source": [
    "$B(T)$ 表示温度为$T$ ([see section 1.5.1 &#10142;](1_5_black_body_radiation.ipynb#science:sec:blackbody_emission) <!--\\ref{science:sec:blackbody_emission}--> )的黑体释放的辐射 。\n",
    "\n",
    "where $B(T)$ is the radiation emitted by a black body of temperature $T$ ([see section 1.5.1 &#10142;](1_5_black_body_radiation.ipynb#science:sec:blackbody_emission) <!--\\ref{science:sec:blackbody_emission}--> ). "
   ]
  },
  {
   "cell_type": "markdown",
   "metadata": {},
   "source": [
    "因此，从任意位置开始，我们有\n",
    "\n",
    "Thus, starting at any position s, we have that"
   ]
  },
  {
   "cell_type": "markdown",
   "metadata": {},
   "source": [
    "<a id='science:eq:03_008'></a><!--\\label{science:eq:03_008}-->$$\n",
    "\\begin{align}\n",
    "    I_\\nu(0)\\,&=\\, I_\\nu(s_0)\\\\\n",
    "    &=I_\\nu\\left(\\tau_\\nu(s)\\right)\\,e^{-\\tau_\\nu(s)}+\\int_0^{\\tau(s)}s_\\nu\\,e^{-\\tau_\\nu}\\,d\\tau_\\nu\\\\\n",
    "    &=I_\\nu\\left(\\tau_\\nu(s)\\right)\\,e^{-\\tau_\\nu(s)}+\\int_0^{\\tau(s)}B_\\nu(T)\\,e^{-\\tau_\\nu}\\,d\\tau_\\nu\n",
    "\\end{align}\n",
    "$$"
   ]
  },
  {
   "cell_type": "markdown",
   "metadata": {},
   "source": [
    "如果温度 $T$ 是常数, $B_\\nu(T)$ 是常数, 则\n",
    "\n",
    "If the temperature $T$ is constant, $B_\\nu(T)$ is constant, and"
   ]
  },
  {
   "cell_type": "markdown",
   "metadata": {},
   "source": [
    "<a id='science:eq:03_009'></a><!--\\label{science:eq:03_009}-->$$\n",
    "\\begin{align}\n",
    "    I_\\nu(0)\\,&=\\, I_\\nu(s_0)\\\\\n",
    "    &=I_\\nu\\left(\\tau_\\nu(s)\\right)\\,B_\\nu(T)\\,e^{-\\tau_\\nu(s)}+\\int_0^{\\tau(s)}B_\\nu(T)\\,e^{-\\tau_\\nu}\\,d\\tau_\\nu\\\\\n",
    "    &=I_\\nu\\left(\\tau_\\nu(s)\\right)\\,B_\\nu(T)\\,e^{-\\tau_\\nu(s)}+B_\\nu(T)\\left(1-e^{-\\tau_\\nu(s_0)}\\right)\n",
    "\\end{align}\n",
    "$$"
   ]
  },
  {
   "cell_type": "markdown",
   "metadata": {},
   "source": [
    "容易看出，对于一个非透明源来讲\n",
    "\n",
    "It is easy to see that for an opaque source"
   ]
  },
  {
   "cell_type": "markdown",
   "metadata": {},
   "source": [
    "<a id='science:eq:03_009'></a><!--\\label{science:eq:03_009}-->$$\n",
    "\\begin{align}\n",
    " \\tau(s) \\,&=\\, \\infty\\\\\n",
    " &\\Rightarrow\\\\\n",
    " I_\\nu(s_0) \\,&=\\, B_\\nu(T)\n",
    " \\end{align}\n",
    " $$"
   ]
  },
  {
   "cell_type": "markdown",
   "metadata": {},
   "source": [
    "一般情况下，如果源函数为常量 ( 用 $B_\\nu$ 而非 $S_\\nu$ 来表示 LTE)\n",
    "\n",
    "Generally, if the source function is constant (substitute $B_\\nu$ for $S_\\nu$ for LTE)"
   ]
  },
  {
   "cell_type": "markdown",
   "metadata": {},
   "source": [
    "<a id='science:eq:03_010'></a><!--\\label{science:eq:03_010}-->$$\n",
    "\\begin{align}\n",
    "    s_\\nu \\,&=\\, s_\\nu^0 = const.\\\\\n",
    "    &\\Rightarrow\\\\\n",
    "    I_\\nu(0)\\,&=\\, I_\\nu(s_0)\\\\\n",
    "    &=I_\\nu\\left(\\tau_\\nu(s)\\right)\\,s_\\nu\\,e^{-\\tau_\\nu(s)}+\\int_0^{\\tau(s)}s_\\nu\\,e^{-\\tau_\\nu}\\,d\\tau_\\nu\\\\\n",
    "    &=I_\\nu\\left(\\tau_\\nu(s)\\right)\\,s_\\nu\\,e^{-\\tau_\\nu(s)}+s_\\nu\\left(1-e^{-\\tau_\\nu(s_0)}\\right) \n",
    "\\end{align}\n",
    "$$"
   ]
  },
  {
   "cell_type": "markdown",
   "metadata": {},
   "source": [
    "由此可见，当所有发射都来自光学薄层时，得到\n",
    "\n",
    "From this it follows that, when all emission comes from an optically thin slab of material, we have"
   ]
  },
  {
   "cell_type": "markdown",
   "metadata": {},
   "source": [
    "<a id='science:eq:03_011'></a><!--\\label{science:eq:03_011}-->$$\n",
    "\\begin{align}\n",
    "    s_\\nu \\,&=\\, s_\\nu^0 = const.\\\\\n",
    "    I_\\nu(\\tau_\\nu(s)) \\,&=\\, 0\\\\\n",
    "    \\tau_\\nu(s) \\,&\\ll\\, 1\\\\\n",
    "    &\\Rightarrow\\\\\n",
    "    I_\\nu(0)\\,&=\\, I_\\nu(s_0)\\,=\\, s_\\nu^0\\,\\tau_\\nu(s) \\\\\n",
    "\\end{align}\n",
    "$$"
   ]
  },
  {
   "cell_type": "markdown",
   "metadata": {},
   "source": [
    "如果吸收系数$\\kappa_\\nu$为常数，则跟$\\kappa_\\nu$成比例。因此，对于一个背景源（处于光学薄层），我们得到\n",
    "\n",
    "which is proportional to $\\kappa_\\nu$ if $\\kappa_\\nu$ is constant. Thus, for a background source (in the optically thin case), we have"
   ]
  },
  {
   "cell_type": "markdown",
   "metadata": {},
   "source": [
    "<a id='science:eq:03_011'></a><!--\\label{science:eq:03_011}-->$$\n",
    "\\begin{align}\n",
    "    s_\\nu \\,&=\\, s_\\nu^0 = const.\\\\\n",
    "    I_\\nu(\\tau_\\nu(s)) \\,&\\neq\\, 0\\\\\n",
    "    \\tau_\\nu(s) \\,&\\ll\\, 1\\\\\n",
    "    &\\Rightarrow\\\\\n",
    "    I_\\nu(0)\\,&=\\, I_\\nu(s_0)\\,=\\, I_\\nu(\\tau(s))-\\tau_\\nu(s)(I_\\nu(\\tau(s))-s_\\nu^0) \\\\\n",
    "\\end{align}\n",
    "$$"
   ]
  },
  {
   "cell_type": "markdown",
   "metadata": {},
   "source": [
    "注意，当背景强度 $I_\\nu(\\tau(s))$ 高于源函数 $s_\\nu^0$ 时，发射将变小（吸收）；反之，当背景强度 $I_\\nu(\\tau(s))$ 低于源函数，我们看到源变亮（发射）。因为温度越高，黑体辐射越强，所以，当某温度的背景源被较低温度的薄光学空气层遮挡时，会发生吸收现象，所以看上去会比实际暗；反之，当源的温度低于空间介质时，增加的辐射会使得源看上去比实际更亮。\n",
    "\n",
    "Note that, if the background intensity $I_\\nu(\\tau(s))$ is larger than the source function $s_\\nu^0$, the emission gets reduced (absorption). On the other hand, if $I_\\nu(\\tau(s))$ is lower than the source function, we witness an increase in brightness (emission case). As the blackbody radiation is always larger for a larger temperature, we can say that absorption occurs when a background source of a certain temperature is obscured by an optically thin slab of gas of lower temperature. On the contrary, when the source is colder than the medium in propagates through, the additional emission makes the source look brighter than it really is. \n",
    "\n",
    "<span style=\"background-color:yellow\">HLB:IC: Is all of this really necessary to show that a source will appear brighter when it's light passes through a hotter medium and dimmer when it passes through a cold absorbing medium?</span>"
   ]
  },
  {
   "cell_type": "code",
   "execution_count": null,
   "metadata": {
    "collapsed": true
   },
   "outputs": [],
   "source": []
  }
 ],
 "metadata": {
  "kernelspec": {
   "display_name": "Python 3",
   "language": "python",
   "name": "python3"
  },
  "language_info": {
   "codemirror_mode": {
    "name": "ipython",
    "version": 3
   },
   "file_extension": ".py",
   "mimetype": "text/x-python",
   "name": "python",
   "nbconvert_exporter": "python",
   "pygments_lexer": "ipython3",
   "version": "3.6.9"
  }
 },
 "nbformat": 4,
 "nbformat_minor": 1
}
