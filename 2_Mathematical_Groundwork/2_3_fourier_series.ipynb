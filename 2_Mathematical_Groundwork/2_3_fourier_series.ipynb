{
 "cells": [
  {
   "cell_type": "markdown",
   "metadata": {},
   "source": [
    "***\n",
    "\n",
    "* [Outline](../0_Introduction/0_introduction.ipynb)\n",
    "* [Glossary](../0_Introduction/1_glossary.ipynb)\n",
    "* [2. Mathematical Groundwork](2_0_introduction.ipynb)\n",
    "    * Previous: [2.2 Important functions](2_2_important_functions.ipynb)\n",
    "    * Next: [2.4 The Fourier Transform](2_4_the_fourier_transform.ipynb)\n",
    "\n",
    "***"
   ]
  },
  {
   "cell_type": "markdown",
   "metadata": {},
   "source": [
    "Import standard modules:"
   ]
  },
  {
   "cell_type": "code",
   "execution_count": 2,
   "metadata": {},
   "outputs": [
    {
     "data": {
      "text/html": [
       "<style>\n",
       "\n",
       "p.prerequisites {\n",
       "    border:5px;\n",
       "    border-style:none;\n",
       "    background-color:#F0F0F0;\n",
       "    box-shadow: 5px 5px 2px #888888;\n",
       "    border-color:#FF0000;\n",
       "    padding: 1em;\n",
       "    }\n",
       "\n",
       "p.conclusion {\n",
       "    border:5px;\n",
       "    border-style:none;\n",
       "    background-color:#c8ebca;\n",
       "    box-shadow: 5px 5px 2px #888888;\n",
       "    border-color:#c8ebca;\n",
       "    padding: 1em;\n",
       "    }\n",
       "\n",
       "div.warn {    \n",
       "    background-color: #fcf2f2;\n",
       "    border-color: #dFb5b4;\n",
       "    border-left: 5px solid #dfb5b4;\n",
       "    padding: 0.5em;\n",
       "    }\n",
       "\n",
       "div.advice {    \n",
       "    background-color: #ecf8ed;\n",
       "    border-color: #a2dda5;\n",
       "    border-left: 5px solid #a2dda5;\n",
       "    padding: 0.5em;\n",
       "    }\n",
       "\n",
       "</style>\n",
       "\n"
      ],
      "text/plain": [
       "<IPython.core.display.HTML object>"
      ]
     },
     "execution_count": 2,
     "metadata": {},
     "output_type": "execute_result"
    }
   ],
   "source": [
    "import numpy as np\n",
    "import matplotlib.pyplot as plt\n",
    "%matplotlib inline\n",
    "from IPython.display import HTML \n",
    "HTML('../style/course.css') #apply general CSS"
   ]
  },
  {
   "cell_type": "markdown",
   "metadata": {},
   "source": [
    "Import section specific modules:"
   ]
  },
  {
   "cell_type": "code",
   "execution_count": 3,
   "metadata": {},
   "outputs": [
    {
     "data": {
      "text/html": [
       "<script>\n",
       "    code_show=false; \n",
       "    function code_toggle() {\n",
       "        if (code_show){\n",
       "            $('div.input').hide();\n",
       "        } else {\n",
       "            $('div.input').show();\n",
       "        }\n",
       "        code_show = !code_show\n",
       "    } \n",
       "    $( document ).ready(code_toggle);\n",
       "</script>\n",
       "\n",
       "The raw code for this notebook is by default hidden for easier reading. To toggle on/off the raw code, click <a href=\"javascript:code_toggle()\">here</a>.\n",
       "\n"
      ],
      "text/plain": [
       "<IPython.core.display.HTML object>"
      ]
     },
     "execution_count": 3,
     "metadata": {},
     "output_type": "execute_result"
    }
   ],
   "source": [
    "from IPython.display import HTML\n",
    "from ipywidgets import interact\n",
    "HTML('../style/code_toggle.html')"
   ]
  },
  {
   "cell_type": "markdown",
   "metadata": {},
   "source": [
    "## 2.3. Fourier Series傅里叶级数<a id='math:sec:fourier_series'></a>\n",
    "\n",
    "While Fourier series are not immediately required to understand the required calculus for this book, they are closely connected to the Fourier transform, which is an essential tool. Moreover, we noticed a few times that the principle of the harmonic analysis or harmonic decomposition is essential and, despite its simplicity, often not well understood. We hence give a very brief summary, not caring about existence questions.\n",
    "\n",
    "虽然傅里叶级数不需要马上理解本书所要求的微积分，但它们与傅里叶变换密切相关，而傅里叶变换是一个必不可少的工具。此外，我们注意到几次谐波分析或谐波分解的原则是必不可少的，尽管它很简单，但往往没有很好地理解。因此，我们做了一个非常简短的总结，不关心存在的问题。\n"
   ]
  },
  {
   "cell_type": "markdown",
   "metadata": {},
   "source": [
    "### 2.3.1 Definition定义 <a id='math:sec:fourier_series_definition'></a>"
   ]
  },
  {
   "cell_type": "markdown",
   "metadata": {},
   "source": [
    "The Fourier series of a function $f: \\mathbb{R} \\rightarrow \\mathbb{R}$ with real coefficients is defined as"
   ]
  },
  {
   "cell_type": "markdown",
   "metadata": {},
   "source": [
    "<a id='math:eq:3_001'></a><!--\\label{math:eq:3_001}-->$$\n",
    "    f_{\\rm F}(x) \\,=\\, \\frac{1}{2}c_0+\\sum_{m = 1}^{\\infty}c_m \\,\\cos(mx)+\\sum_{m = 1}^{\\infty}s_m \\,\\sin(mx),\n",
    "$$"
   ]
  },
  {
   "cell_type": "markdown",
   "metadata": {},
   "source": [
    "with the Fourier coefficients $c_m$ and $s_m$\n",
    "\n",
    "傅里叶系数$c_m$ 和 $s_m$"
   ]
  },
  {
   "cell_type": "markdown",
   "metadata": {},
   "source": [
    "<a id='math:eq:3_002'></a><!--\\label{math:eq:3_002}-->$$\n",
    "    \\left( c_0 \\,=\\,\\frac{1}{\\pi}\\int_{-\\pi}^{\\pi}f(x)\\,dx \\right)\\\\\n",
    "    c_m \\,=\\,\\frac{1}{\\pi}\\int_{-\\pi}^{\\pi}f(x)\\,\\cos(mx)\\,dx \\qquad m \\in \\mathbb{N_0}\\\\\n",
    "    s_m \\,=\\,\\frac{1}{\\pi}\\int_{-\\pi}^{\\pi}f(x)\\,\\sin(mx)\\,dx \\qquad m \\in \\mathbb{N_0}.\\\\{\\rm }\n",
    "$$"
   ]
  },
  {
   "cell_type": "markdown",
   "metadata": {},
   "source": [
    "If $f_{\\rm F}$ exists, it is identical to $f$ in all points of continuity. For functions which are periodic with a period of $2\\pi$ the Fourier series converges. Hence, for continuous periodic function with a period of $2\\pi$ the Fourier series converges and $f_{\\rm F}=f$.\n",
    "\n",
    "如果$f_{\\rm F}$存在,与所有$f$点的连续相等价。周期函数$2\\pi$傅里叶级数是收敛的。因此,连续周期函数$2\\pi$傅里叶级数收敛和$f_{\\rm F}=f$"
   ]
  },
  {
   "cell_type": "markdown",
   "metadata": {},
   "source": [
    "The Fourier series of a function $f: \\mathbb{R} \\rightarrow \\mathbb{R}$ with complex coefficients is defined as\n",
    "\n",
    "傅里叶级数的复系数定义为"
   ]
  },
  {
   "cell_type": "markdown",
   "metadata": {},
   "source": [
    "<a id='math:eq:3_003'></a><!--\\label{math:eq:3_003}-->$$\n",
    "    f_{\\rm IF}(x) \\,=\\, \\sum_{m = -\\infty}^{\\infty}a_m \\,e^{\\imath mx},$$"
   ]
  },
  {
   "cell_type": "markdown",
   "metadata": {},
   "source": [
    "with the Fourier coefficients $a_m$\n",
    "\n",
    "$a_m$为傅里叶系数"
   ]
  },
  {
   "cell_type": "markdown",
   "metadata": {},
   "source": [
    "<a id='math:eq:3_004'></a><!--\\label{math:eq:3_004}-->$$\n",
    "     a_m \\,=\\, \\frac{1}{2\\pi}\\int_{-\\pi}^{\\pi}f(x)e^{-\\imath mx}\\,dx\\qquad \\forall m\\in\\mathbb{Z}.$$"
   ]
  },
  {
   "cell_type": "markdown",
   "metadata": {},
   "source": [
    "The same convergence criteria apply and one realisation can be transformed to the other. Making use of [Euler's formula &#10142;](2_1_complex_numbers.ipynb#math:sec:eulers_formula) <!--\\ref{math:sec:eulers_formula}-->, one gets\n",
    "\n",
    "应用相同的收敛准则，可以将一种实现转换为另一种实现。使用欧拉公式，可以得到："
   ]
  },
  {
   "cell_type": "markdown",
   "metadata": {},
   "source": [
    "<a id='math:eq:3_005'></a><!--\\label{math:eq:3_005}-->$$\n",
    "\\begin{split}\n",
    "a_m   \\,&=\\, \\frac{1}{2\\pi}\\int_{-\\pi}^{\\pi}f(x)\\,[\\cos(mx)-\\imath \\,\\sin(mx)]\\,dx\n",
    "&=\\,\\left \\{\n",
    "     \\begin{array}{lll}\n",
    "    \\frac{1}{2} (c_m+\\imath s_m) & {\\rm for} & m < 0\\\\\n",
    "    \\frac{1}{2} c_m & {\\rm for} & m = 0\\\\\n",
    "    \\frac{1}{2} (c_m-\\imath\\,s_m) & {\\rm for} & m > 0\\\\\n",
    "\\end{array} \\right. \n",
    "\\end{split},\n",
    "$$"
   ]
  },
  {
   "cell_type": "markdown",
   "metadata": {},
   "source": [
    "and accordingly, $\\forall m \\in \\mathbb{N_0}$, \n",
    "\n",
    "相应的，$\\forall m \\in \\mathbb{N_0}$"
   ]
  },
  {
   "cell_type": "markdown",
   "metadata": {},
   "source": [
    "<a id='math:eq:2_006'></a><!--\\label{math:eq:2_006}-->$$\n",
    "\\\\\n",
    "\\begin{split}\n",
    "c_m  \\,&=\\, a_m+a_{-m}\\\\\n",
    "s_m  \\,&=\\, \\imath\\,(a_m-a_{-m})\\\\\n",
    "\\end{split}.\n",
    "$$"
   ]
  },
  {
   "cell_type": "markdown",
   "metadata": {},
   "source": [
    "The concept Fourier series can be expanded to a base interval of a period T instead of $2\\pi$ by substituting $x$ with $x = \\frac{2\\pi}{T}t$.\n",
    "\n",
    "傅里叶级数的概念可以扩展到一个周期的基区间 T：用$x = \\frac{2\\pi}{T}t$取代$2\\pi$"
   ]
  },
  {
   "cell_type": "markdown",
   "metadata": {},
   "source": [
    "<a id='math:eq:3_007'></a><!--\\label{math:eq:3_007}-->$$\n",
    "    g_{\\rm F}(t) = f_{\\rm F}(\\frac{2\\pi}{T}t) \\,=\\, \\frac{1}{2}c_0+\\sum_{m = 1}^{\\infty}c_m \\,\\cos(m\\frac{2\\pi}{T}t)+\\sum_{m = 1}^{\\infty}s_m \\,\\sin(m\\frac{2\\pi}{T}t)\n",
    "$$"
   ]
  },
  {
   "cell_type": "markdown",
   "metadata": {},
   "source": [
    "where \n",
    "<a id='math:eq:3_008'></a><!--\\label{math:eq:3_008}-->$$\n",
    "     c_0 \\,=\\,\\frac{1}{\\pi}\\int_{-\\pi}^{\\pi}f(\\frac{2\\pi}{T}t)\\,dx \\,=\\, \\frac{2}{T}\\int_{-\\frac{T}{2}}^{\\frac{T}{2}}g(t)\\,dt. \\\\    \n",
    "c_m \\,=\\,\\frac{1}{\\pi}\\int_{-\\pi}^{\\pi}f(\\frac{2\\pi}{T}t)\\,\\cos(m\\frac{2\\pi}{T}t)\\,dx \\,=\\, \\frac{2}{T}\\int_{-\\frac{T}{2}}^{\\frac{T}{2}}g(t)\\,\\cos(m\\frac{2\\pi}{T}t)\\,dt \\qquad m \\in \\mathbb{N_0}\\\\\n",
    "s_m \\,=\\,\\frac{1}{\\pi}\\int_{-\\pi}^{\\pi}f(\\frac{2\\pi}{T}t)\\,\\sin(m\\frac{2\\pi}{T}t)\\,dx \\,=\\, \\frac{2}{T}\\int_{-\\frac{T}{2}}^{\\frac{T}{2}}g(t)\\,\\sin(m\\frac{2\\pi}{T}t)\\,dt \\qquad m \\in \\mathbb{N_0}\\\\\n",
    "$$"
   ]
  },
  {
   "cell_type": "markdown",
   "metadata": {},
   "source": [
    "or"
   ]
  },
  {
   "cell_type": "markdown",
   "metadata": {},
   "source": [
    "<a id='math:eq:3_009'></a><!--\\label{math:eq:3_010}-->$$\n",
    "    g_{\\rm IF}(t) = f_{\\rm IF}(\\frac{2\\pi}{T}t) \\,=\\, \\sum_{m = -\\infty}^{\\infty}a_m \\,e^{\\imath m\\frac{2\\pi}{T}t}\n",
    "$$"
   ]
  },
  {
   "cell_type": "markdown",
   "metadata": {},
   "source": [
    "<a id='math:eq:3_011'></a><!--\\label{math:eq:3_011}-->$$\n",
    "    a_m \\,=\\, \\frac{1}{2\\pi}\\int_{-\\pi}^{\\pi}f(\\frac{2\\pi}{T}t)e^{-\\imath m\\frac{2\\pi}{T}t}\\,dx\\,=\\,\\frac{1}{T}\\int_{-\\frac{T}{2}}^{\\frac{T}{2}}g(t)e^{-\\imath m\\frac{2\\pi}{T}t}\\,dt \\qquad\\forall m\\in\\mathbb{Z}.$$"
   ]
  },
  {
   "cell_type": "markdown",
   "metadata": {},
   "source": [
    "The series again converges under the same criteria as before and the relations between the coefficients of the complex or real Fourier coefficients from equation [equation](#math:eq:3_005) <!--\\ref{math:eq:3_005}-->stay valid.\n",
    "\n",
    "该级数在相同的条件下再次收敛，方程的傅里叶系数的实部和复部的关系保持有效。"
   ]
  },
  {
   "cell_type": "markdown",
   "metadata": {},
   "source": [
    "One nice example is the complex, scaled Fourier series of the scaled [shah function &#10142;](2_2_important_functions.ipynb#math:sec:shah_function) <!--\\ref{math:sec:shah_function}--> $III_{T^{-1}}(x)\\,=III\\left(\\frac{x}{T}\\right)\\,=\\sum_{l=-\\infty}^{+\\infty} T \\delta\\left(x-l T\\right)$. Obviously, the period of this function is $T$. The Fourier coefficients (matched to a period of $T$) is calculated as\n",
    "\n",
    "梳状函数的傅里叶级数："
   ]
  },
  {
   "cell_type": "markdown",
   "metadata": {},
   "source": [
    "<a id='math:eq:3_012'></a><!--\\label{math:eq:3_012}-->$$\n",
    "\\begin{split}\n",
    "    a_m \\,&= \\,\\frac{1}{T}\\int_{-\\frac{T}{2}}^{\\frac{T}{2}}\\left(\\sum_{l=-\\infty}^{+\\infty}T\\delta\\left(x-l T\\right)\\right)e^{-\\imath m \\frac{2\\pi}{T} x}\\,dx\\\\\n",
    "    &=\\,\\frac{1}{T} \\int_{-\\frac{T}{2}}^{\\frac{T}{2}} T \\delta\\left(x\\right)e^{-\\imath m \\frac{2\\pi}{T} x}\\,dx\\\\\n",
    "    &=\\,1\n",
    "    \\end{split}\n",
    "    \\forall m\\in\\mathbb{Z}.$$"
   ]
  },
  {
   "cell_type": "markdown",
   "metadata": {},
   "source": [
    "It follows that"
   ]
  },
  {
   "cell_type": "markdown",
   "metadata": {},
   "source": [
    "<a id='math:eq:3_013'></a><!--\\label{math:eq:3_013}-->$$\n",
    "\\begin{split}\n",
    "    III_{T^{-1}}(x)\\,=III\\left(\\frac{x}{T}\\right)\\,=\\,\\sum_{m=-\\infty}^{+\\infty} e^{\\imath m\\frac{2\\pi}{T} x t}\n",
    "    \\end{split}\n",
    "    .$$"
   ]
  },
  {
   "cell_type": "markdown",
   "metadata": {},
   "source": [
    "### 2.3.2 Example <a id='math:sec:fourier_series_example'></a>"
   ]
  },
  {
   "cell_type": "markdown",
   "metadata": {},
   "source": [
    "We demonstrate how to decompose a signal into its Fourier series. An easy way to implement this numerically is to use the trapezoidal rule to approximate the integral. Thus we start by defining a function that computes the coefficients of the Fourier series using the complex [definition](#math:eq:3_011) <!--\\ref{math:eq:3_011}-->\n",
    "\n",
    "我们演示了如何将一个信号分解成它的傅里叶级数。一个简单的方法来实现这个数字是使用梯形规则来近似积分。因此，我们首先定义一个函数，它使用复定义计算傅里叶级数的系数"
   ]
  },
  {
   "cell_type": "code",
   "execution_count": 4,
   "metadata": {},
   "outputs": [],
   "source": [
    "def FS_coeffs(x, m, func, T=2.0*np.pi):\n",
    "    \"\"\"\n",
    "    Computes Fourier series (FS) coeffs of func\n",
    "    Input: \n",
    "        x = input vector at which to evaluate func\n",
    "        m = the order of the coefficient\n",
    "        func = the function to find the FS of\n",
    "        T = the period of func (defaults to 2 pi)\n",
    "    \"\"\"\n",
    "    # Evaluate the integrand\n",
    "    am_int = func(x)*np.exp(-1j*2.0*m*np.pi*x/T)\n",
    "    # Use trapezoidal integration to get the coefficient\n",
    "    am = np.trapz(am_int,x) #求积分\n",
    "    return am/T"
   ]
  },
  {
   "cell_type": "markdown",
   "metadata": {},
   "source": [
    "That should be good enough for our purposes here. Next we create a function to sum the Fourier series. \n",
    "\n",
    "对于我们这里的目的，这应该足够好了。接下来我们创建一个函数来对傅立叶级数求和。"
   ]
  },
  {
   "cell_type": "code",
   "execution_count": 5,
   "metadata": {},
   "outputs": [],
   "source": [
    "def FS_sum(x, m, func, period=None):\n",
    "    # If no period is specified use entire domain\n",
    "    if period is None:\n",
    "        period = np.abs(x.max() - x.min())\n",
    "    \n",
    "    # Evaluate the coefficients and sum the series\n",
    "    f_F = np.zeros(x.size, dtype=np.complex128)\n",
    "    for i in range(-m,m+1):\n",
    "        am = FS_coeffs(x, i, func, T=period)\n",
    "        f_F += am*np.exp(2.0j*np.pi*i*x/period) \n",
    "    return f_F  "
   ]
  },
  {
   "cell_type": "markdown",
   "metadata": {},
   "source": [
    "Let's see what happens if we decompose a square wave. "
   ]
  },
  {
   "cell_type": "code",
   "execution_count": 6,
   "metadata": {},
   "outputs": [
    {
     "data": {
      "text/plain": [
       "<matplotlib.legend.Legend at 0x7fb8a78587f0>"
      ]
     },
     "execution_count": 6,
     "metadata": {},
     "output_type": "execute_result"
    },
    {
     "data": {
      "image/png": "[encoded data removed]",
      "text/plain": [
       "<Figure size 1080x360 with 1 Axes>"
      ]
     },
     "metadata": {
      "needs_background": "light"
     },
     "output_type": "display_data"
    }
   ],
   "source": [
    "# define square wave function\n",
    "def square_wave(x):\n",
    "    I = np.argwhere(np.abs(x) <= 0.5)\n",
    "    tmp = np.zeros(x.size)\n",
    "    tmp[I] = 1.0\n",
    "    return tmp\n",
    "\n",
    "# Set domain and compute square wave\n",
    "N = 250\n",
    "x = np.linspace(-1.0,1.0,N)\n",
    "\n",
    "# Compute the FS up to order m\n",
    "m = 10\n",
    "sw_F = FS_sum(x, m, square_wave, period=2.0)\n",
    "# Plot result\n",
    "plt.figure(figsize=(15,5))\n",
    "plt.plot(x, sw_F.real, 'g', label=r'$ Fourier \\ series $')\n",
    "plt.plot(x, square_wave(x), 'b', label=r'$ Square \\ wave $')\n",
    "plt.title(r\"$FS \\ decomp \\ of \\ square \\ wave$\",fontsize=20)\n",
    "plt.xlabel(r'$x$',fontsize=18)\n",
    "plt.ylim(-0.05,1.5)\n",
    "plt.legend()\n",
    "# <a id='math:fig:fou_decomp'></a><!--\\label{math:fig:fou_decomp}-->"
   ]
  },
  {
   "cell_type": "markdown",
   "metadata": {},
   "source": [
    "**Figure 2.8.1:** *Approximating a function with a finite number of Fourier series coefficients.*"
   ]
  },
  {
   "cell_type": "markdown",
   "metadata": {},
   "source": [
    "As can be seen from the figure, the Fourier series approximates the square wave. However at such a low order (i.e. $m = 10$) it doesn't do a very good job. Actually an infinite number of Fourier series coefficients are required to fully capture a square wave. Below is an interactive demonstration that allows you to vary the parameters on the Fourier series decomposition. Note, in particular, what happens if we make the period too small. Also feel free to apply it to functions other than the square wave (but make sure to adjust the domain accordingly.\n",
    "\n",
    "从图中可以看出，傅里叶级数近似于方波。然而在这样一个低阶(例如$m = 10$)没有一个很好的近似。实际上，要完全捕捉一个方波，需要无穷多个傅里叶级数系数。下面是一个交互式演示，允许您更改傅立叶级数分解的参数。特别要注意的是，如果我们让周期太小会发生什么。也可以自由地将其应用于方波以外的函数(但要确保相应地调整域)。"
   ]
  },
  {
   "cell_type": "code",
   "execution_count": 7,
   "metadata": {},
   "outputs": [
    {
     "data": {
      "application/vnd.jupyter.widget-view+json": {
       "model_id": "0008831ae8ac4662a4428d20fba48450",
       "version_major": 2,
       "version_minor": 0
      },
      "text/plain": [
       "interactive(children=(IntSlider(value=52, description='m', min=5), FloatSlider(value=3.0, description='T', max…"
      ]
     },
     "metadata": {},
     "output_type": "display_data"
    }
   ],
   "source": [
    "def inter_FS(x,m,func,T):\n",
    "    f_F = FS_sum(x, m, func, period=T)\n",
    "    plt.plot(x,f_F.real,'b')\n",
    "    plt.plot(x,func(x),'g')\n",
    "    \n",
    "\n",
    "interact(lambda m,T:inter_FS(x=np.linspace(-1.0,1.0,N),m=m,func=square_wave,T=T),\n",
    "                m=(5,100,1),T=(0,2*np.pi,0.5)) and None\n",
    "# <a id='math:fig:fou_decomp_inter'></a><!--\\label{math:fig:fou_decomp_inter}-->"
   ]
  },
  {
   "cell_type": "markdown",
   "metadata": {},
   "source": [
    "**Figure 2.8.2:** *This demo illustrates the effect of varying the number of Fourier series components as well as the period $T$ used to compute them.*\n",
    "\n",
    "这个演示说明了不同数量的傅里叶级数以及周期$T$影响计算。"
   ]
  },
  {
   "cell_type": "markdown",
   "metadata": {},
   "source": [
    "***\n",
    "\n",
    "* Next: [2.4 The Fourier Transform](2_4_the_fourier_transform.ipynb)"
   ]
  }
 ],
 "metadata": {
  "kernelspec": {
   "display_name": "Python 3",
   "language": "python",
   "name": "python3"
  },
  "language_info": {
   "codemirror_mode": {
    "name": "ipython",
    "version": 3
   },
   "file_extension": ".py",
   "mimetype": "text/x-python",
   "name": "python",
   "nbconvert_exporter": "python",
   "pygments_lexer": "ipython3",
   "version": "3.7.0"
  }
 },
 "nbformat": 4,
 "nbformat_minor": 1
}
