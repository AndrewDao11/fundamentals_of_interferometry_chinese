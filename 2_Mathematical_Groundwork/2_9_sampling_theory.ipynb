{
 "cells": [
  {
   "cell_type": "markdown",
   "metadata": {},
   "source": [
    "***\n",
    "\n",
    "* [Outline](../0_Introduction/0_introduction.ipynb)\n",
    "* [Glossary](../0_Introduction/1_glossary.ipynb)\n",
    "* [2. Mathematical Groundwork](2_0_introduction.ipynb)\n",
    "    * Previous: [2.8 The Discrete Fourier Transform (DFT) and the Fast Fourier Transform (FFT)](2_8_the_discrete_fourier_transform.ipynb)\n",
    "    * Next: [2.10 Linear Algrebra](2_10_linear_algebra.ipynb)\n",
    "\n",
    "***"
   ]
  },
  {
   "cell_type": "markdown",
   "metadata": {},
   "source": [
    "Import standard modules:"
   ]
  },
  {
   "cell_type": "code",
   "execution_count": null,
   "metadata": {},
   "outputs": [],
   "source": [
    "import numpy as np\n",
    "import matplotlib.pyplot as plt\n",
    "%matplotlib inline\n",
    "from IPython.display import HTML \n",
    "HTML('../style/course.css') #apply general CSS"
   ]
  },
  {
   "cell_type": "markdown",
   "metadata": {},
   "source": [
    "Import section specific modules:"
   ]
  },
  {
   "cell_type": "code",
   "execution_count": null,
   "metadata": {},
   "outputs": [],
   "source": [
    "from IPython.display import HTML, display\n",
    "from ipywidgets import interact\n",
    "HTML('../style/code_toggle.html')"
   ]
  },
  {
   "cell_type": "markdown",
   "metadata": {},
   "source": [
    "## 2.9 Sampling Theory<a id='math:sec:sampling_theory'></a>"
   ]
  },
  {
   "cell_type": "markdown",
   "metadata": {},
   "source": [
    "Our goal in radio interferometry is to produce a map of the sky by sampling a finite number of spatial frequency modes present in its spectrum (this will become clearer as the course unfolds). By sampling only a discrete number of frequency modes we are effectively turning a continuous problem into a discrete one. Recall that at the end of the last section we saw some peculiarities in the output of the discrete Fourier transform (DFT). In particular we note the following features:\n",
    "\n",
    "我们在无线电干涉测量中的目标是通过对天空频谱中有限数量的空间频率模式进行采样，从而绘制出一张天空图(随着过程的展开，这将变得更加清晰)。通过只对离散的频率模态进行采样，我们可以有效地将一个连续问题转化为一个离散问题。回想一下，在上一节的最后，我们看到了离散傅里叶变换(DFT)输出中的一些特性。我们特别注意到以下特点:\n",
    "\n",
    "\n",
    "   * That there were non-zero components $Y_k$ at frequencies which were not present in the input signal.在输入信号中不存在频率为$Y_k$的非零分量\n",
    "   * That the amplitudes of the $Y_k$ corresponding to the frequencies present in the input signal were not all equal dispite the fact that they are the same in the input signal.与输入信号中出现的频率相对应的$Y_k$的振幅并不都是相等的，尽管它们在输入信号中是相同的。\n",
    "   * That is was not possible to find the frequencies present in the input signal when $N$ (the number of samples) was below a certain number. 当$N$(样本数)低于某个数字时，就不可能找到输入信号中出现的频率。\n",
    "\n",
    "These features will, in some form or another, also be present in radio interferometry. The aim of this section is to develop an intuitive understanding of why the above features are present in the discrete spectrum. This requires discussing aliasing and the Nyquist-Shannon sampling theorem (or just sampling theorem for short) which will allow us to answer questions such as:\n",
    "\n",
    "这些特征将以某种形式出现在无线电干涉测量中。本节的目的是对上述特性为何出现在离散谱中有一个直观的理解。这需要讨论混叠和Nyquist-Shannon采样定理(或简称采样定理)，这将允许我们回答以下问题\n",
    "\n",
    "* Given the (effective) diameter of a telescope, what is the maximum pixel size we can choose for the reconstructed image?给定望远镜的有效直径，我们可以为重建图像选择的最大像素大小是多少\n",
    "* Which of the features in the reconstructed image are real features corresponding to the sky and which are artificial features introduced by sampling only a limited number of frequency modes?重建图像中的哪些特征是与天空对应的真实特征，哪些是通过采样有限的频率模式引入的人工特征\n",
    "\n",
    "Note that, in interferometry, we are sampling in the spatial frequency domain. Unfortunately, our intuition does not extend as easily to this domain. We are more inclined to think of the world in terms of a sequence of events i.e. in the time domain. A similar statement is true in interferometry. Our intuition extends more easily to the image domain than to its spectral dual. In this section, for simplicity, we will use time series to get a feeling for what is going on in the dual Fourier space viz. the frequency domain. \n",
    "\n",
    "注意，在干涉测量中，我们是在空间频域进行采样。不幸的是，我们的直觉没有那么容易地扩展到这个领域。我们更倾向于从一系列事件的角度来思考世界，即在时域。在干涉测量中也有类似的说法。我们的直觉更容易扩展到图像域而不是它的光谱对偶。在本节中，为了简单起见，我们将使用时间序列来了解对偶傅里叶空间中发生了什么，即频域。"
   ]
  },
  {
   "cell_type": "markdown",
   "metadata": {},
   "source": [
    "### 2.9.1 Sampling a Continuous Function 连续函数的采样 <a id='math:sec:sampling_continuous_function'></a>"
   ]
  },
  {
   "cell_type": "markdown",
   "metadata": {},
   "source": [
    "Intuitively we can think of the act of sampling simply as selecting a number of points of a continuous function. For simplicity let's start by considering a real valued function \n",
    "\n",
    "直观地说，我们可以把采样简单地看作是选择连续函数的若干个点。为了简单起见，我们先考虑实值函数\n",
    "\n",
    "$$ f:\\mathbb{R} \\rightarrow \\mathbb{R}. $$\n",
    "\n",
    "The mathematical equivalent of selecting an infinite number of equally spaced samples can be expressed as \n",
    "\n",
    "选择无限个等间距样本的数学等价关系可以表示为\n",
    "\n",
    "$$ f(t_n) = \\sum_{n = -\\infty}^{\\infty} f(t) \\delta(t - n\\Delta t) = f(t)\\frac{1}{\\Delta t}III(\\frac{t}{\\Delta t}), $$\n",
    "\n",
    "where $\\Delta t$ is the sampling interval, the index $n$ labels the samples and $III(\\cdot)$ is the Dirac comb (Shah function). Obviously it is not possible to sample a function at an infinite number of points in practice. Suppose we sample a function at $N$ points in a finite domain, $t_0 \\leq t \\leq t_f$ say. This can be achieved as follows\n",
    "\n",
    "其中$\\Delta t$是采样间隔，序列$n$标记采样样本，$III(\\cdot)$ 是Dirac comb函数（梳状函数）。显然，在实践中不可能在无穷多个点上采样一个函数。假设我们在有限域中的$N$点上采样一个函数$t_0 \\leq t_f $。这可以按照如下方式达到\n",
    "\n",
    "$$ f(t_n) = \\sum_{n = 0}^{N-1} f(t) \\delta(t - n\\Delta t - t_0), \\quad \\mbox{where} \\quad \\Delta t = \\frac{t_f - t_0}{N-1}, \\quad \\mbox{and} \\quad t_n = t_0 + n\\Delta t. $$\n",
    "\n",
    "So far we have done nothing fancy, we have just expressed the act of sampling in terms of a continuous mathematical function. We can go a step further and write it purely in terms of the special functions introduced in ([$\\S$ 2.2](2_2_important_functions.ipynb)) as\n",
    "\n",
    "到目前为止，我们还没有做什么奇特的事情，我们只是用一个连续的数学函数来表示采样行为。我们可以更进一步，完全用引入的特殊函数来表示\n",
    "\n",
    "$$f(t_n)= f(t)\\frac{1}{\\Delta t}III(\\frac{t}{\\Delta t})\\sqcap_{t_0,t_f}(t), $$\n",
    "\n",
    "where $\\sqcap_{a,b}(\\cdot)$ is the boxcar function. The sampling function can therefore be expressed as\n",
    "\n",
    "其中$\\sqcap_{a,b}(\\cdot)$是窗函数。所以采样函数可以被表述为：\n",
    "\n",
    "$$ s_{t_0,\\Delta t, N} = \\frac{1}{\\Delta t}III(\\frac{t}{\\Delta t})\\sqcap_{t_0,t_f}(t),   $$\n",
    "\n",
    "where it should be understood that the function $s_{t_0,\\Delta t, N} $ implies a sampling of $N$ points in the interval $t_0 \\leq t \\leq t_f$ where $t_f = (N-1)\\Delta t$. \n",
    "\n",
    "其中这也可以理解为函数$s_{t_0,\\Delta t, N}$表明采样间隔$t_0 \\leq t \\leq t_f$ 的$N$个样本点，其中 $t_f = (N-1)\\Delta t$。"
   ]
  },
  {
   "cell_type": "markdown",
   "metadata": {},
   "source": [
    "At this stage you might be rolling your eyes at this seemingly cumbersome notation but it does serve a purpose. Consider what happens when we take the Fourier transform of the sampled function $f(t_n)$. First, recall the definition of the 1-D Fourier transform\n",
    "\n",
    "在这个阶段，您可能会对这个看起来很麻烦的符号翻白眼，但它确实有一定的用途。考虑会发生什么当我们采取抽样函数的傅里叶变换$f(t_n)$。首先，回忆一下一维傅里叶变换的定义\n",
    "\n",
    "$$ \\mathscr{F}\\{f(t)\\}(s) = \\int_{-\\infty}^{\\infty} f(t)e^{-2\\pi\\imath t s} dt. $$\n",
    "\n",
    "Substituting in the sampled function we get  代入，我们得到的抽样函数\n",
    "\n",
    "$$ \\mathscr{F}\\{f(t_n)\\}(s) = \\int_{-\\infty}^{\\infty} f(t)\\frac{1}{\\Delta t}III(\\frac{t}{\\Delta t})\\sqcap_{t_0,t_f}(t)e^{-2\\pi\\imath t s} dt. $$\n",
    "\n",
    "Next the Dirac comb changes the continuous integral into a discrete sum i.e.接下来Dirac comb函数将连续积分变为离散和\n",
    "\n",
    "$$ \\mathscr{F}\\{f(t_n)\\}(s) = \\sum_{n = -\\infty}^{\\infty} f(t_n) \\sqcap_{t_0,t_f}(t)e^{-2\\pi\\imath t_n s}. $$\n",
    "\n",
    "The boxcar function sets at the terms for which $n \\notin [0,\\cdots,N-1]$ to zero. Thus we have窗函数将$n \\notin [0,\\cdots,N-1]$置为零。所以我们有：\n",
    "\n",
    "$$ \\mathscr{F}\\{f(t_n)\\}(s) = \\sum_{n = 0}^{N-1} f(t_n) e^{-2\\pi\\imath t_n s}.  $$\n",
    "\n",
    "At this stage you can probably spot where we are going with this. Defining在这个阶段，你可能会发现我们要做什么。定义\n",
    "\n",
    "$$ y_n = e^{-2\\pi\\imath t_0}f(t_n) \\quad \\mbox{where} \\quad t_n = t_0 + n\\Delta t, $$\n",
    "\n",
    "we see that可以看到\n",
    "\n",
    "$$ \\mathscr{F}\\{f(t_n)\\}(s) = \\sum_{n = 0}^{N-1} f(t_n) e^{-2\\pi\\imath t_n s} = \\sum_{n = 0}^{N-1} y_n e^{-2\\pi\\imath n\\Delta t s}. $$\n",
    "\n",
    "Finally, defining 最后定义\n",
    "\n",
    "$$ s_k = \\frac{k}{\\Delta t N}, $$\n",
    "\n",
    "gives考虑到\n",
    "\n",
    "$$ \\mathscr{F}\\{y_n\\}(s)_k = Y_k = \\sum_{n = 0}^{N-1} y_n e^{-2\\pi\\imath \\frac{n k}{N}}. $$\n",
    "\n",
    "Note that, if $t_0 = 0$, we recover the Discrete Fourier Transform (DFT) as the Fourier transform of a sampled function $f(t_n)$. The factor $e^{-2\\pi\\imath t_0}$ is just a phase shift, it does not alter the amplitude of the components $Y_k$ at all (for a fixed time interval)\n",
    "\n",
    "注意到，如果$t_0 = 0$，将离散傅里叶变换(DFT)恢复为采样函数$f(t_n)$的傅里叶变换。因子$e^{-2\\pi\\imath t_0}$仅仅是一个相位移动，并不会改变元素的振幅。"
   ]
  },
  {
   "cell_type": "markdown",
   "metadata": {},
   "source": [
    "Writing the DFT as the Fourier transform of a sampled signal allows us to understand some of the peculiarities we noted about the DFT in the introduction. To see this, recall that multiplication in the time domain is the same as convolution in the frequency domain i.e.\n",
    "\n",
    "把离散傅里叶变换写成采样信号的傅里叶变换可以让我们理解一些我们在介绍中提到的关于离散傅里叶变换的特性。要看到这一点，回想一下时域的乘法和频域的卷积是一样的。\n",
    "\n",
    "$$ z(t) = f(t)g(t) \\quad \\Rightarrow \\quad \\mathscr{F}\\{z\\}(s) = \\mathscr{F}\\{f\\}(s) \\circ \\mathscr{F}\\{g\\}(s). $$\n",
    "\n",
    "Applying this result to our sampled function we see that 把这个结果应用到我们的采样函数中，我们看到\n",
    "\n",
    "$$ \\mathscr{F}\\{f(t_n)\\}(s) =  \\mathscr{F}\\{f(t)\\frac{1}{\\Delta t}III(\\frac{t}{\\Delta t})\\} \\circ  \\mathscr{F}\\{\\sqcap_{t_0,t_f}(t)\\}. $$\n",
    "\n",
    "If we also use the fact that the Fourier transform of the boxcar function is given by (might be a good idea for you to verify this)如果我们也用boxcar函数的傅里叶变换\n",
    "$$ \\mathscr{F}\\{\\sqcap_{t_0,t_f}(t)\\} = (N-1)\\Delta t ~ \\text{sinc} ((N-1)\\Delta t s), $$\n",
    "\n",
    "then we have established that我们已经确定了\n",
    "\n",
    "$$ \\mathscr{F}\\{f(t_n)\\}(s) =  \\mathscr{F}\\{f(t)\\frac{1}{\\Delta t}III(\\frac{t}{\\Delta t})\\} \\circ  (N-1)\\Delta t ~ \\text{sinc} ((N-1)\\Delta t s). $$\n",
    "\n",
    "We see here that the output of the DFT is the convolution of a sinc function with the Fourier transform of an infinitely sampled function. This explains why there are non-zero components of $Y_k$ even at frequencies which do not correspond to any of the frequencies in the input signal. It is caused by the fact that, in practice, we can only compute the DFT of a limited number of samples. Before we discuss the concept of aliasing, use the interactive demo below to convince yourself (by adjusting the $N$ slider from the far left to the far right) that the width of the sinc function decreases with increased number of samples (for a fixed time interval). Also check that, for a fixed total time interval and as long as we have a sufficient number of samples, the starting value $t_0$ only changes the phase of $Y_k$ but not its amplitude. Note we are only plotting the components of $Y_k$ corresponding to frequencies below $f_k \\leq 5$Hz. \n",
    "\n",
    "我们在这里看到DFT的输出是一个sinc函数与一个无限采样函数的傅里叶变换的卷积。这就解释了为什么$Y_k$即使在与输入信号中的任何频率不对应的频率上也有非零分量。这是因为在实际应用中，我们只能计算有限数量样本的DFT。在讨论混叠的概念之前，使用下面的交互式演示来说服您自己(通过将$N$ slider从最左边调整到最右边)，sinc函数的宽度会随着样本数量的增加而减小(在固定的时间间隔内)。还要检查，对于固定的总时间间隔，只要我们有足够数量的样本，初始值$t_0$只改变$Y_k$的相位，而不改变其振幅。注意，我们只绘制了$Y_k$对应于$f_k \\leq 5$Hz以下频率的分量。"
   ]
  },
  {
   "cell_type": "code",
   "execution_count": null,
   "metadata": {},
   "outputs": [],
   "source": [
    "def inter_DFT(N,t0,tf,f1=1,f2=2,f3=3,plot_interval=5.0,plot_phase=True,show_Nyquist=False):\n",
    "    \"\"\"\n",
    "    Interactive DFT visualizer\n",
    "    \"\"\"\n",
    "    #set time domain\n",
    "    t = np.linspace(t0,tf,N)\n",
    "    #Get the signal\n",
    "    y = np.sin(2.0*np.pi*f1*t) + np.sin(2.0*np.pi*f2*t) + np.sin(2.0*np.pi*f3*t)\n",
    "    #Take the DFT (here we use FFT for speed)\n",
    "    Y = np.fft.fft(y)\n",
    "    #Get sampling interval\n",
    "    delt = (tf - t0)/(N-1)\n",
    "    #Sampling rate\n",
    "    fs = 1.0/delt\n",
    "    #Covert k to frequency\n",
    "    k = np.arange(N)\n",
    "    fk = k*fs/N    \n",
    "    #Plot amplitude and phase\n",
    "    plt.figure(figsize=(15, 6))\n",
    "    plt.subplot(121)\n",
    "    absY = abs(Y)\n",
    "    Ymax = np.unique(absY.max())[0]\n",
    "    plt.stem(fk,absY)\n",
    "    plt.xlabel('$f_k$',fontsize=18)\n",
    "    plt.ylabel(r'$|Y_k|$',fontsize=18)\n",
    "    plt.xlim(0,plot_interval)\n",
    "    #Compute Nyquist freq\n",
    "    f_N = (N-1)/(2*(tf - t0))\n",
    "    if show_Nyquist and f_N < plot_interval:\n",
    "        arrow = plt.arrow(f_N, 0, 0, Ymax, head_width=0.5, head_length=3.0, fc='r', ec='k')\n",
    "    plt.subplot(122)\n",
    "    if plot_phase:\n",
    "        plt.stem(fk,np.angle(Y))\n",
    "        plt.xlabel('$f_k$',fontsize=18)\n",
    "        plt.ylabel(r'phase$(Y_k)$',fontsize=18)\n",
    "        plt.xlim(0,plot_interval)\n",
    "        plt.show()\n",
    "    else:\n",
    "        #Here we plot the theoretical spectrum\n",
    "        ft = np.array([f1,f2,f3])\n",
    "        Ymax = absY.max()\n",
    "        Yt = np.array([Ymax,Ymax,Ymax])\n",
    "        plt.stem(ft,Yt)\n",
    "        plt.xlabel('$f_k$',fontsize=18)\n",
    "        plt.ylabel('$|Y_k|$',fontsize=18)\n",
    "        plt.xlim(0,plot_interval)\n",
    "        plt.arrow(f_N, 0, 0, Ymax, head_width=0.5, head_length=3.0, fc='r', ec='k')\n",
    "        "
   ]
  },
  {
   "cell_type": "code",
   "execution_count": null,
   "metadata": {},
   "outputs": [],
   "source": [
    "i = interact(lambda N,t0:inter_DFT(N=N,t0=t0,tf=t0+10),\n",
    "                    N=(50,512,1),t0=(0,5,0.01)) and None"
   ]
  },
  {
   "cell_type": "markdown",
   "metadata": {},
   "source": [
    "**Figure 2.9.1:** *This demo illustrates the effect that finite sampling has on the DFT. As the number $N$ is increased you should see that the peaks in $|Y_k|$ get sharper (because the convolving sinc function gets narrower). Moreover, the value of $t_0$ only affects the phase of $Y_k$ and not its amplitude.*\n",
    "\n",
    "这个演示演示了有限采样对DFT的影响。𝑁数量增加您应该看到的山峰|𝑌𝑘|得到更清晰的(因为sinc函数卷积变得非常窄)。此外,𝑡0仅影响的价值阶段𝑌𝑘而不是其振幅。"
   ]
  },
  {
   "cell_type": "markdown",
   "metadata": {},
   "source": [
    "Can you explain what happens to the $|Y_k|$ as $N \\rightarrow 0$? Why do the amplitudes change? \n",
    "\n",
    "你可以解释当$N \\rightarrow 0$时$|Y_k|$会怎么变？振幅如何变？"
   ]
  },
  {
   "cell_type": "markdown",
   "metadata": {},
   "source": [
    "### 2.9.2 Nyquist-Shannon Sampling Theorem<a id='math:sec:nyquists_sampling_theorem'></a>"
   ]
  },
  {
   "cell_type": "markdown",
   "metadata": {},
   "source": [
    "Hopefully, you will have noticed that the information contained in $Y_k$ is very sensitive to the sampling interval $\\Delta t$. The Nyquist-Shannon sampling theorem explains why it is not possible to recover the frequency information contained in a signal when the sampling becomes：$\\Delta t$ is too large or $N$ is too small. One way to state the theorem is that, when sampling a signal at an interval $\\Delta t$ (equivalently a frequency of $f_s = \\frac{1}{\\Delta t}$), it is not possible to recover any frequency information above a frequency of $f_N = \\frac{1}{2\\Delta t} = \\frac{f_s}{2}$. We call $f_N$ the *Nyquist frequency*. In the above example we kept the sampling interval fixed. Thus, by decreasing $N$, we increase the width of the sampling interval $\\Delta t$ and hence decrease $f_N$. This explains the seemingly erratic behaviour of $|Y_k|$ as $N \\rightarrow 0$. Note that, at $f_1 = 1$Hz, $f_2 = 2$Hz and $f_3 = 3$Hz, the input frequencies remain the same. Decreasing $N$ below a certain limit therefore results in a value of $f_N$ less than the maximum frequency present in the signal. Proving the sampling theorem is trivial once the Poisson summation formula has been established. Recall that, by the Poisson summation formula, the periodic summation of the spectrum $Y(f)$ of the (Schwartz) function $y(t)$ can be obtained as a Fourier series with coefficients $y_n = \\Delta t \\ y(n \\Delta t)$ i.e. \n",
    "\n",
    "希望您已经注意到，$Y_k$中包含的信息对采样间隔$\\Delta t$非常敏感。Nyquist-Shannon采样定理解释了当采样：$\\Delta t$太大或$N$太小时，不可能恢复信号中包含的频率信息。说明这个定理的一种方法是，当在间隔$\\Delta t$处采样信号时(相当于频率为$f_s = \\frac{1}{\\Delta t}$)，不可能恢复超过$f_N = \\frac{1}{2\\Delta t} = \\frac{f_s}{2}$的任何频率信息。我们将$f_N$称为*Nyquist频率*。在上面的例子中，我们保持采样间隔不变。因此，通过减少$N$，我们增加了采样间隔$\\Delta t$的宽度，从而减少了$f_N$。这解释了$|Y_k|$作为$N \\rightarrow 0$时看似不稳定的行为。注意，在$f_1 = 1$Hz、$f_2 = 2$Hz和$f_3 = 3$Hz时，输入频率保持不变。因此，将$N$降低到某个极限以下，将导致$f_N$的值小于信号中出现的最大频率。一旦建立了泊松求和公式，证明抽样定理就变得简单了。记住，根据泊松求和公式，(Schwartz)函数$Y(t)$的频谱$Y(f)$的周期求和可以得到系数为$y_n = \\Delta t \\ y(n \\Delta t)$的傅里叶级数，即"
   ]
  },
  {
   "cell_type": "markdown",
   "metadata": {},
   "source": [
    "$$ Y_{f_s}(f) = \\sum_{k = -\\infty}^{\\infty} Y(f - kf_s) = \\sum_{n = -\\infty}^{\\infty} y_n e^{-2 \\pi \\imath f \\Delta t n} = \\sum_{n = -\\infty}^{\\infty} \\Delta t ~ y(\\Delta t n) e^{-2\\pi\\imath f \\Delta t n}. $$"
   ]
  },
  {
   "cell_type": "markdown",
   "metadata": {},
   "source": [
    "Since our primary aim is to develop an intuition for the effects of finite sampling, we will leave the maths to the mathematicians and take this fact as given. It tells us that, if we sample this signal at equally space intervals of $t_n = n\\Delta t$, we can construct the periodic summation of its spectrum with period $f_s = \\frac{1}{\\Delta t}$ just by summing the series on the RHS of the above equation. Now suppose we have a signal $y(t)$ which contains no frequencies above a certain upper limit called the bandwidth which we denote $B$ (in other words we have a bandlimited signal). The interactive figure below allows you to experiment with what the periodic summation of the signal's spectrum would look like as a function of the bandwidth.\n",
    "\n",
    "由于我们的主要目的是对有限抽样的影响建立一种直观的认识，所以我们将数学留给数学家，并把这个事实作为已知条件。它告诉我们，如果我们在等间距的$t_n = n\\Delta t$采样这个信号，我们可以通过对上面方程的RHS的级数求和来构造它的频谱的周期和，周期为$f_s = \\frac{1}{\\Delta t}$。现在，假设我们有一个信号$y(t)$，它不包含超过某个称为带宽的上限的频率，我们用这个上限表示$B$(换句话说，我们有一个带限信号)。下面的交互图允许您实验信号频谱的周期求和作为带宽的函数是什么样子的。"
   ]
  },
  {
   "cell_type": "code",
   "execution_count": null,
   "metadata": {},
   "outputs": [],
   "source": [
    "def bandlimit_func(f,B,fc):\n",
    "    Y = np.zeros(f.size)\n",
    "    I = np.argwhere(np.abs(f) <= B).squeeze()\n",
    "    fint = f[I[:]]\n",
    "    Il = np.argwhere(f <= fc - B).squeeze()[-1]\n",
    "    Iu = np.argwhere(f <= fc + B).squeeze()[-1]\n",
    "    try:\n",
    "        Y[Il:Iu+1] = 1 - fint**2/B**2\n",
    "    except:\n",
    "        Y[Il:Iu] = 1 - fint**2/B**2\n",
    "    return Y\n",
    "\n",
    "def inter_PerSum(B):\n",
    "    fs = 10\n",
    "    print 'f_s = ', fs\n",
    "    N = 100\n",
    "    m = 4 # half the number of copies\n",
    "    #f = np.linspace(-fs,fs,N)\n",
    "    f = np.linspace(-m*fs,m*fs,2*m*N)\n",
    "    Ys = np.zeros(2*m*N)\n",
    "    plt.figure('x',figsize=(14,7))\n",
    "    for i in xrange(-(m-1),m):\n",
    "        Ys += bandlimit_func(f,B,i*fs)\n",
    "        #plt.xticks([i*fs],[r'$%s f_s0$'%i])\n",
    "    plt.plot(f[-2*(m-1)*N:2*(m-1)*N+1],Ys[-2*(m-1)*N:2*(m-1)*N+1])\n",
    "    plt.ylabel('$|Y_{f_s}(f)|$',fontsize=18)\n",
    "    plt.xlabel('$f / [Hz]$',fontsize=18)\n",
    "    plt.xticks([-fs, -fs/2, 0, fs/2, fs],[r'$-f_s$', r'$-f_N$', r'$0$', r'$f_N$', r'$f_s$'],fontsize=16)\n",
    "    plt.xlim(-2*fs,2*fs)\n",
    "    plt.show()\n",
    "    \n",
    "interact(lambda B:inter_PerSum(B=B),\n",
    "                B=(0,8,1)) and None"
   ]
  },
  {
   "cell_type": "markdown",
   "metadata": {},
   "source": [
    "**Figure 2.9.2:** *Demonstrates the periodic summation with period $f_s$ of a spectrum $|Y(f)|$ as a function of bandwidth $B$. The Nyquist frequency is indicated as $f_N$ in the figure.*"
   ]
  },
  {
   "cell_type": "markdown",
   "metadata": {},
   "source": [
    "Note that, when $B > \\frac{f_s}{2} = f_N$, the individual copies of the spectrum start overlapping and it is becomes impossible to isolate the spectrum $Y(f)$ from $Y_{f_s}(f)$. On the onther hand, when $B < f_N$, we can recover $Y(f)$ by only retaining the part of the spectrum confined to the region $-f_N < f < f_N$. At this point the Nyquist-Shannon sampling theorem is proved since the spectrum $Y(f)$ uniquely determines the signal $y(t)$. All that remains to do is specify how we could go about doing this. Note that, if there are no frequencies greater than $\\frac{f_s}{2} = f_N$ present in the signal, the spectrum $Y(f)$ can be found from $Y_{f_s}(f)$ simply by constructing the filter\n",
    "\n",
    "注意，当$B > \\frac{f_s}{2} = f_N$时，频谱的各个副本开始重叠，因此不可能将频谱$Y(f)$与$ y_{f_s}(f)$分隔开来。另一方面，当$B < f_N$时，我们可以通过仅保留限制在$-f_N < f < f_N$区域的部分频谱来恢复$Y(f)$。此时证明了Nyquist-Shannon采样定理，因为频谱$Y(f)$唯一地决定了信号$Y(t)$。剩下要做的就是指定我们如何着手做这件事。注意，如果信号中没有大于$\\frac{f_s}{2} = f_N$的频率，则仅通过构造过滤器就可以从$ y_{f_s}(f)$中找到频谱$Y(f)$"
   ]
  },
  {
   "cell_type": "markdown",
   "metadata": {},
   "source": [
    "$$ Y(f) = \\sqcap(\\frac{f}{f_s}) Y_{f_s}(f), $$ "
   ]
  },
  {
   "cell_type": "markdown",
   "metadata": {},
   "source": [
    "where $\\sqcap(\\cdot)$ is the rectangle (or boxcar) function. Now we can apply the Poisson summation formula to find\n",
    "\n",
    "其中$\\sqcap(\\cdot)$是矩形窗函数。现在让我们应用Poisson求和公式可以发现"
   ]
  },
  {
   "cell_type": "markdown",
   "metadata": {},
   "source": [
    "\\begin{eqnarray}\n",
    "Y(f) &=& \\sqcap(\\frac{f}{f_s}) Y_{f_s}(f), \\\\ \n",
    "&=& \\sqcap(\\frac{f}{f_s}) \\sum_{n = -\\infty}^{\\infty} \\Delta t ~ y(\\Delta t n) e^{-2\\pi\\imath f \\Delta t n},\\\\\n",
    "&=& \\sum_{n = -\\infty}^{\\infty} y(\\Delta t n) \\Delta t ~ \\sqcap(\\Delta t ~ f) e^{-2\\pi\\imath f \\Delta t n},\\\\\n",
    "&=& \\sum_{n = -\\infty}^{\\infty} y(\\Delta t n) \\mathscr{F}\\{\\text{sinc}\\left(\\frac{t - n\\Delta t}{\\Delta t}\\right)\\},\n",
    "\\end{eqnarray}"
   ]
  },
  {
   "cell_type": "markdown",
   "metadata": {},
   "source": [
    "where we have used the formula for the Fourier transform of the rectangle function. Taking the inverse Fourier transform of both sides results in the Whittaker-Shannon interpolation formula\n",
    "\n",
    "我们用了矩形函数的傅里叶变换公式。对两边进行傅里叶反变换，得到Whittaker-Shannon插值公式"
   ]
  },
  {
   "cell_type": "markdown",
   "metadata": {},
   "source": [
    "$$ y(t) = \\sum_{n =-\\infty}^{\\infty} y(n\\Delta t) ~ \\text{sinc}\\left(\\frac{t - n\\Delta t}{\\Delta t}\\right) = \\sum_{n =-\\infty}^{\\infty} y_n ~ \\text{sinc}\\left(\\frac{t - t_n}{\\Delta t}\\right) . $$ "
   ]
  },
  {
   "cell_type": "markdown",
   "metadata": {},
   "source": [
    "Note that, in order to use this formula, we still need an infinite number of samples of $y(t)$, something which is impossible in practice. The operation of transforming the RHS into the LHS is effectively a digital to analogue conversion since we are going from a finitely sampled signal $y_n$ to a continuous approximation $y(t)$. This could be implemented approximately using, for example, the zero-order hold model (see [here &#10548;](https://en.wikipedia.org/wiki/Zero-order_hold) for example). The approximation error reduces if the signal is sufficiently oversampled (i.e. sampled at intervals $\\Delta t < \\frac{1}{2f_N}$). Undersampling, on the other hand, results in aliasing. \n",
    "\n",
    "注意，为了使用这个公式，我们仍然需要无限个$y(t)$的样本，这在实践中是不可能的。将RHS转换为LHS的操作实际上是一种数字到模拟的转换，因为我们要从有限采样的信号$y_n$转换为连续近似的$y(t)$。这可以实现近似使用,例如,零模型(见[here &#10548;](https://en.wikipedia.org/wiki/Zero-order_hold))。如果信号被充分地过采样(即在$\\Delta t < \\frac{1}{2f_N}$区间采样)，近似误差就会减小。另一方面，欠采样会导致混叠。"
   ]
  },
  {
   "cell_type": "markdown",
   "metadata": {},
   "source": [
    "### 2.9.3 Aliasing <a id='math:sec:aliasing'></a>"
   ]
  },
  {
   "cell_type": "markdown",
   "metadata": {},
   "source": [
    "We have already touched upon the concept of aliasing. Recall that, during our discussion on periodic summation, we noted that the Discrete Time Fourier Transform (DTFT) results in a periodic summation $Y_{f_s}(f)$ of the spectrum $Y(f)$ of the signal $y(t)$. The copies of $Y(f)$ at $k \\neq 0$ were called aliases. From the discussion above, we also know that, when the signal is undersampled, these aliases will start to overlap resulting in a distortion of the spectrum $Y(f)$. This is what is usually refered to as *aliasing*. If we try to reconstruct the signal $y(t)$ from the distorted spectrum we will end up with *artefacts* in the signal $y(t)$. Here we will demonstrate the consequences of aliasing with a simple example and explain the implications this has for practical applications of the DFT.   \n",
    "\n",
    "我们已经接触过混叠的概念。回想一下，在我们讨论周期求和时，我们注意到离散时间傅里叶变换(DTFT)导致频谱$ y_{f_s}(f)$频谱$Y(f)$信号$Y(t)$的周期求和。$Y(f)$在$k \\neq 0$处的副本称为别名。从上面的讨论中，我们还知道，当信号采样不足时，这些别名将开始重叠，导致频谱$Y(f)$失真。这就是通常所说的“混叠”。如果我们试图从失真的频谱中重建信号$y(t)$，我们将在信号$y(t)$中得到*人为效应*。在这里，我们将用一个简单的例子来演示混叠的后果，并解释混叠对DFT实际应用的影响。"
   ]
  },
  {
   "cell_type": "markdown",
   "metadata": {},
   "source": [
    "Going back to our sum of sine functions model above, let's consider what happens if we now allow one of the frequency components to vary i.e. \n",
    "\n",
    "回到上面的正弦函数和模型，让我们考虑一下如果我们现在允许一个频率分量变化会发生什么。"
   ]
  },
  {
   "cell_type": "markdown",
   "metadata": {},
   "source": [
    "$$ y = \\sin(2\\pi f_1 t) + \\sin(2\\pi f_2 t) + \\sin(2\\pi f_i t), $$"
   ]
  },
  {
   "cell_type": "markdown",
   "metadata": {},
   "source": [
    "where $f_i$ is the varaible frequency. If we sample this function in the interval $0< t < 10$s with 256 samples (i.e. $\\Delta t = \\frac{t_f - t_0}{N - 1} = \\frac{10}{255} \\approx 0.0392s$) we obtain a Nyquist frequency of $f_N = \\frac{1}{2\\Delta t} = 12.75$ Hz. In the following demonstration the Nyquist frequency is indicated with the red arrow. The figure on the left shows the resulting $|Y_k|$ from the DFT. The figure on the right shows the input frequencies $f_1$, $f_2$ and $f_i$. Use the slider to investigate the output of the DFT as $f_i$ approaches $f_N$. Can you explain the output when $f_i > f_N$?\n",
    "\n",
    "其中$f_i$是可变频率。如果我们在$0< t < 10$s区间内对这个函数进行采样，其中包含256个样本(即$\\Delta t = \\frac{t_f - t_0}{N - 1} = \\frac{10}{255} \\approx0.0392s$)，我们得到的Nyquist频率为$f_N = \\frac{1}{2\\Delta t} = 12.75$ Hz。在下面的演示中，用红色箭头表示尼奎斯特频率。左边的图显示了DFT生成的$|Y_k|$。右边的图显示了输入频率$f_1$、$f_2$和$f_i$。当$f_i$接近$f_N$时，使用滑块调查DFT的输出。您能解释一下$f_i > f_N$时的输出吗?"
   ]
  },
  {
   "cell_type": "code",
   "execution_count": null,
   "metadata": {},
   "outputs": [],
   "source": [
    "interact(lambda fi:inter_DFT(N=256,t0=0.0,tf=10,f3=fi,plot_interval=26,plot_phase=False,show_Nyquist=True),\n",
    "                fi=(3,25,0.25)) and None"
   ]
  },
  {
   "cell_type": "markdown",
   "metadata": {},
   "source": [
    "**Figure 2.9.3:** *This demo illustrates the effects of aliasing. Note how frequencies $f_i > f_N$ are aliased back into the spectrum at $f < f_N$.*"
   ]
  },
  {
   "cell_type": "markdown",
   "metadata": {},
   "source": [
    "Notice that the spectrum is reflected about $f_N$. As we noted before, this happens because of periodicity and because the DFT of a real valued signal is Hermitian. Since these additional frequency peaks do not contain any new information, they do not present a problem when trying to recover the signal $y(t)$ from its spectrum. Any non-zero frequency components above $f_N$ can safely be discarded. A more troublesome feature of the spectrum is that input frequencies $f_i$ above $f_N$ are folded or aliased back into the spectrum i.e. a frequency at $f_i = f_N + \\epsilon$ appears at $f_k = f_N - \\epsilon$. This effect is referred to as aliasing. It can, in principle, be eliminated by applying anti-aliasing filters to the signal. Unfortunately the details behind practical implementations of anti-aliasing filters is beyond the scope of the current discussion. Here we will simply give a brief illustration of what they do.  \n",
    "\n",
    "请注意，频谱大约反映为$f_N$。正如我们之前所注意到的，这是因为周期性，因为实值信号的DFT是厄米特函数。由于这些额外的频率峰值不包含任何新信息，因此当试图从其频谱中恢复信号$y(t)$时，它们不会出现问题。任何大于$f_N$的非零频率组件都可以安全地丢弃。频谱的一个更麻烦的特性是，$f_N$以上的输入频率$f_i$被折叠或别名化为频谱，即$f_i = f_N + \\epsilon$出现在$f_k = f_N - \\epsilon$处。这种效果称为混叠。原则上，它可以通过对信号应用抗混叠滤波器来消除。不幸的是，反混叠过滤器实际实现背后的细节超出了当前讨论的范围。在这里，我们将简单地介绍一下它们的功能。"
   ]
  },
  {
   "cell_type": "markdown",
   "metadata": {},
   "source": [
    "Suppose we have an input signal whose spectrum is an unnormalised zero mean Gaussian of the form假设我们有一个输入信号，它的频谱是这种形式的非正态零均值高斯分布\n",
    "$$ |Y(f)| = e^{\\frac{-f^2}{2\\sigma^2}}, $$\n",
    "where $\\sigma$ is the standard deviation and $f$ is the frequency in Hertz. If we sampled the original signal with a sampling frequency of $f_s = 10$Hz (i.e. $\\Delta t = 0.1$s) then, regardless of the width $\\sigma$ of $|Y(f)|$, the DTFT repeats itself over frequency intervals $[(k-\\frac{1}{2})f_s,(k+\\frac{1}{2})f_s]$ where $k \\in \\mathbb{Z}$ is any integer. Whether these aliases overlap depends on the width $\\sigma$ of $|Y(f)|$. For example, with $\\sigma = 1$ we get the following output  \n",
    "\n",
    "其中$\\sigma$为标准差，$f$为赫兹频率。如果我们采样原始信号的采样频率为$f_s = 10$Hz(即$\\Delta t = 0.1$s)，那么，无论$|Y(f)|$的宽度为$\\sigma$， DTFT都会在$[(k-\\frac{1}{2})f_s，(k+\\frac{1}{2})f_s]$上重复执行，其中$k \\in \\mathbb{Z}$为任意整数。这些别名是否重叠取决于$|Y(f)|$的宽度$\\sigma$。例如，对于$\\sigma = 1$，我们得到以下输出"
   ]
  },
  {
   "cell_type": "code",
   "execution_count": null,
   "metadata": {},
   "outputs": [],
   "source": [
    "def gaussian(x, mu, sig):\n",
    "    return np.exp(-(x - mu)**2.0 / (2 * sig**2.0))\n",
    "\n",
    "#Set sampling frequency \n",
    "fs = 10\n",
    "#Set frequency domain of DFT\n",
    "f = np.linspace(-fs,fs)\n",
    "Y = gaussian(f,0,1.0)\n",
    "\n",
    "plt.figure('rep_spec',figsize=(14,7))\n",
    "plt.plot(f-0,Y,'b')\n",
    "plt.plot(f-10.,Y, 'k')\n",
    "plt.plot(f+10,Y, 'k')\n",
    "plt.plot(f-20.,Y, 'k')\n",
    "plt.plot(f+20,Y, 'k')\n",
    "#plt.ylim(-0.5,fft_gau.max())\n",
    "plt.ylabel('$|Y_{f_s}(f)|$',fontsize=18)\n",
    "plt.xlabel('$f / [Hz]$',fontsize=18)\n",
    "plt.show()"
   ]
  },
  {
   "cell_type": "markdown",
   "metadata": {},
   "source": [
    "**Figure 2.9.4:** *The spectrum of a sufficiently oversampled signal.*"
   ]
  },
  {
   "cell_type": "markdown",
   "metadata": {},
   "source": [
    "Here we have plotted $|Y(f)|$ (i.e. the $k=0$ component of $|Y_{f_s}(f)|$) in blue. This is the quantity we are actually after. With the stated values of $\\sigma$ and $f_s$ we would have no problem recovering the input signal $y(t)$ from $Y(f)$ because there is almost no overlap between the aliases. If, on the other hand, the width is $\\sigma = 2.5$, the situation changes because the aliases start overlapping as shown below. \n",
    "\n",
    "这里我们用蓝色绘制了$|Y(f)|$(即$| y_{f_s}(f)|$的$k=0$成分)。这就是我们要找的量。使用$\\sigma$和$f_s$的指定值，我们可以很容易地从$y(f)$中恢复输入信号$y(t)$，因为别名之间几乎没有重叠。另一方面，如果宽度为$\\sigma = 2.5$，情况就会发生变化，因为别名开始重叠，如下所示。"
   ]
  },
  {
   "cell_type": "code",
   "execution_count": null,
   "metadata": {},
   "outputs": [],
   "source": [
    "f = np.linspace(-10,10)\n",
    "Y = gaussian(f,0,2.5)\n",
    "\n",
    "plt.figure('rep_spec',figsize=(14,7))\n",
    "plt.plot(f-0,Y,'b')\n",
    "plt.plot(f-10.,Y, 'k')\n",
    "plt.plot(f+10,Y, 'k')\n",
    "plt.plot(f-20.,Y, 'k')\n",
    "plt.plot(f+20,Y, 'k')\n",
    "#plt.ylim(-0.5,fft_gau.max())\n",
    "plt.ylabel('$|Y_{f_s}(f)|$',fontsize=18)\n",
    "plt.xlabel('$f / [Hz]$',fontsize=18)\n",
    "plt.show()"
   ]
  },
  {
   "cell_type": "markdown",
   "metadata": {},
   "source": [
    "**Figure 2.9.5:** *The spectrum of an undersampled signal.*"
   ]
  },
  {
   "cell_type": "markdown",
   "metadata": {},
   "source": [
    "With the specified sampling rate there will always be some loss of information about the signal. Actually the situation is even worse than that since, when computing the DFT, input frequencies at $f_i = f_N + \\epsilon$ (for $\\epsilon > 0$) will also be aliased back into the spectrum at $f_k = f_N - \\epsilon$. Attempting to reconstruct the input signal $y(t)$ from the resulting DFT components $Y_k$ would not return the correct result. An anti-aliasing filter is a form of low-pass filter which prevents the components of $Y_k$ corresponding to input frequencies $f_i > f_N$ from contaminating the reconstructed signal $y(t)$. Its basic operation is illustrated in the following figure. \n",
    "\n",
    "在指定的采样速率下，总是会丢失一些关于信号的信息。实际上，情况甚至更糟，因为在计算DFT时，$f_i = f_N + \\epsilon$(对于$\\epsilon > 0$)处的输入频率也会在$f_k = f_N - \\epsilon$处混叠回频谱中。试图从生成的DFT组件$Y_k$重构输入信号$y(t)$不会返回正确的结果。抗混叠滤波器是一种低通滤波器，它可以防止与输入频率对应的$Y_k$的分量污染重构信号$y(t)$。其基本操作如下图所示。"
   ]
  },
  {
   "cell_type": "code",
   "execution_count": null,
   "metadata": {},
   "outputs": [],
   "source": [
    "f = np.linspace(-5,5,20)\n",
    "f2 = np.hstack((f[0],f, f[-1]))\n",
    "Y = gaussian(f,0,2.5)\n",
    "Y2 = np.hstack((0.0,Y,0.0))\n",
    "\n",
    "plt.figure('rep_spec',figsize=(14,7))\n",
    "plt.plot(f2-0,Y2,'b')\n",
    "plt.plot(f2-10.,Y2, 'k')\n",
    "plt.plot(f2+10,Y2, 'k')\n",
    "plt.plot(f2-20.,Y2, 'k')\n",
    "plt.plot(f2+20,Y2, 'k')\n",
    "\n",
    "#plt.ylim(-0.5,fft_gau.max())\n",
    "plt.ylabel('$|Y_{f_s}(f)|$',fontsize=18)\n",
    "plt.xlabel('$f / [Hz]$',fontsize=18)\n",
    "plt.show()"
   ]
  },
  {
   "cell_type": "markdown",
   "metadata": {},
   "source": [
    "**Figure 2.9.6:** *This figure illustrates the function of an anti-aliasing filter.*"
   ]
  },
  {
   "cell_type": "markdown",
   "metadata": {},
   "source": [
    "An ideal anti-aliasing filter filters out all frequencies above the Nyquist frequency $f_N$. This ensures that the signal $y(t)$ computed from the (possibly truncated) spectrum of $Y(f)$ will not contain any incorrect frequency components. Note that information about frequencies above $f_N$ will still have been lost. For simlicity the above discussion only considered the magnitude $|Y(f)|$ but similar ideas apply to the phase as well. Whereas an ideal anti-aliasing filter blocks out all frequencies above $f_N$ (i.e. has a gain of one when $f \\leq f_N$ and zero otherwise), its frequency response should be linear so that it does not result in any phase distortion. \n",
    "\n",
    "理想的抗混叠滤波器可以滤除Nyquist频率$f_N$以上的所有频率。这确保从(可能截断的)$ y(f)$频谱计算出的信号$y(t)$不会包含任何不正确的频率成分。注意，关于$f_N$以上频率的信息仍然会丢失。对于simlicity，上面的讨论只考虑了$|Y(f)|$的大小，但是类似的思想也适用于阶段。理想的抗混叠滤波器会屏蔽掉$f_N$以上的所有频率(即当$f \\leq f_N$时增益为1，否则为0)，而它的频率响应应该是线性的，这样就不会导致任何相位失真。"
   ]
  },
  {
   "cell_type": "markdown",
   "metadata": {},
   "source": [
    "***\n",
    "\n",
    "* Next: [2.10 Linear Algrebra](2_10_linear_algebra.ipynb)"
   ]
  }
 ],
 "metadata": {
  "kernelspec": {
   "display_name": "Python 3",
   "language": "python",
   "name": "python3"
  },
  "language_info": {
   "codemirror_mode": {
    "name": "ipython",
    "version": 3
   },
   "file_extension": ".py",
   "mimetype": "text/x-python",
   "name": "python",
   "nbconvert_exporter": "python",
   "pygments_lexer": "ipython3",
   "version": "3.7.3"
  },
  "widgets": {
   "state": {
    "1fa9b6fe0410463f9e4c72e8cc29aa5a": {
     "views": [
      {
       "cell_index": 29
      }
     ]
    },
    "e59c326e50794f7cbcc3f0544b38dc26": {
     "views": [
      {
       "cell_index": 12
      }
     ]
    }
   },
   "version": "1.2.0"
  }
 },
 "nbformat": 4,
 "nbformat_minor": 1
}
