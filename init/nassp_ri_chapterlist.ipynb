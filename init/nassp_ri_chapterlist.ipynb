{
 "cells": [
  {
   "cell_type": "code",
   "execution_count": 1,
   "metadata": {
    "collapsed": false,
    "deletable": true,
    "editable": true
   },
   "outputs": [],
   "source": [
    "#Created: sirothia@gmail.com 20170207\n",
    "#for label and ref example\n",
    "\n",
    "##################################\n",
    "#This is the top level notebook that\n",
    "#has all the chapter and section filename \n",
    "#in proper order \n",
    "#Do not change initilizations listed in this box\n",
    "##################################\n",
    "\n",
    "import pickle\n",
    "from incfunc import init_ipyref_filename, ipy_label, ipy_ref\n",
    "\n",
    "init_ipyref = False\n",
    "debug_lvl = 0\n",
    "\n",
    "if init_ipyref :\n",
    "    sdict = {}\n",
    "    sdict['lastchapter_cnt']=sdict['chapter_cnt']=0\n",
    "    sdict['lastsection_cnt']=sdict['section_cnt']=0\n",
    "    sdict['lastsectionl1_cnt']=sdict['sectionl1_cnt']=0\n",
    "    sdict['lastsectionl2_cnt']=sdict['sectionl2_cnt']=0\n",
    "    sdict['lastsectionl3_cnt']=sdict['sectionl3_cnt']=0\n",
    "    sdict['lastequation_cnt']=sdict['equation_cnt']=0\n",
    "    sdict['lastfigure_cnt']=sdict['figure_cnt']=0\n",
    "    sdict['lasttable_cnt']=sdict['table_cnt']=0\n",
    "    sdict['ipyrefname'] = init_ipyref_filename()\n",
    "    sdict['update_ipyref']=init_ipyref\n",
    "    f = open(sdict['ipyrefname'], 'wb')\n",
    "    pickle.dump(sdict, f)\n",
    "    f.close()\n",
    "    if debug_lvl > 10: print 'init', sdict['ipyrefname']\n",
    "\n",
    "ipyrefname=init_ipyref_filename()\n",
    "\n",
    "f = open(ipyrefname, 'rb')\n",
    "sdict = pickle.load(f)\n",
    "f.close()\n",
    "sdict['update_ipyref']=init_ipyref\n",
    "\n",
    "if debug_lvl > 10: print 'loaded', sdict['ipyrefname']    \n"
   ]
  },
  {
   "cell_type": "code",
   "execution_count": 2,
   "metadata": {
    "collapsed": false,
    "deletable": true,
    "editable": true
   },
   "outputs": [],
   "source": [
    "#this is chapter 1\n",
    "%run dummy_chap_f.ipynb"
   ]
  },
  {
   "cell_type": "code",
   "execution_count": 3,
   "metadata": {
    "collapsed": false,
    "deletable": true,
    "editable": true
   },
   "outputs": [],
   "source": [
    "#this is chapter 2\n",
    "%run dummy_chap_e.ipynb"
   ]
  },
  {
   "cell_type": "code",
   "execution_count": 4,
   "metadata": {
    "collapsed": false,
    "deletable": true,
    "editable": true
   },
   "outputs": [],
   "source": [
    "#this is chapter 3\n",
    "%run dummy_chap_g.ipynb"
   ]
  },
  {
   "cell_type": "code",
   "execution_count": 5,
   "metadata": {
    "collapsed": false,
    "deletable": true,
    "editable": true
   },
   "outputs": [],
   "source": [
    "#this is chapter 4\n",
    "%run dummy_chap_d.ipynb"
   ]
  },
  {
   "cell_type": "code",
   "execution_count": 6,
   "metadata": {
    "collapsed": false,
    "deletable": true,
    "editable": true
   },
   "outputs": [],
   "source": [
    "#this is chapter 5\n",
    "%run dummy_chap_c.ipynb"
   ]
  },
  {
   "cell_type": "code",
   "execution_count": 7,
   "metadata": {
    "collapsed": false,
    "deletable": true,
    "editable": true
   },
   "outputs": [],
   "source": [
    "#this is chapter 6\n",
    "%run dummy_chap_h.ipynb"
   ]
  },
  {
   "cell_type": "code",
   "execution_count": 8,
   "metadata": {
    "collapsed": false,
    "deletable": true,
    "editable": true
   },
   "outputs": [],
   "source": [
    "#this is chapter 7\n",
    "%run dummy_chap_b.ipynb"
   ]
  },
  {
   "cell_type": "code",
   "execution_count": 9,
   "metadata": {
    "collapsed": false,
    "deletable": true,
    "editable": true
   },
   "outputs": [],
   "source": [
    "#this is chapter 8\n",
    "%run dummy_chap_a.ipynb"
   ]
  },
  {
   "cell_type": "code",
   "execution_count": 10,
   "metadata": {
    "collapsed": false,
    "deletable": true,
    "editable": true,
    "scrolled": false
   },
   "outputs": [],
   "source": [
    "#this is chapter 9\n",
    "%run ../9_Practical/practical_calib.ipynb"
   ]
  },
  {
   "cell_type": "code",
   "execution_count": 11,
   "metadata": {
    "collapsed": false,
    "deletable": true,
    "editable": true
   },
   "outputs": [],
   "source": [
    "#It may not be new chapter also\n",
    "%run ../9_Practical/practical_im.ipynb"
   ]
  },
  {
   "cell_type": "code",
   "execution_count": 12,
   "metadata": {
    "collapsed": false,
    "deletable": true,
    "editable": true
   },
   "outputs": [],
   "source": [
    "#this is dummy for chapter 10\n",
    "%run dummy_chap_j.ipynb"
   ]
  },
  {
   "cell_type": "code",
   "execution_count": 13,
   "metadata": {
    "collapsed": false,
    "deletable": true,
    "editable": true
   },
   "outputs": [],
   "source": [
    "if init_ipyref :\n",
    "    sdict['update_ipyref'] = False\n",
    "    f = open(sdict['ipyrefname'], 'wb')\n",
    "    pickle.dump(sdict, f)\n",
    "    f.close()\n",
    "    print 'stored', sdict['ipyrefname']"
   ]
  }
 ],
 "metadata": {
  "kernelspec": {
   "display_name": "Python 2",
   "language": "python",
   "name": "python2"
  },
  "language_info": {
   "codemirror_mode": {
    "name": "ipython",
    "version": 2
   },
   "file_extension": ".py",
   "mimetype": "text/x-python",
   "name": "python",
   "nbconvert_exporter": "python",
   "pygments_lexer": "ipython2",
   "version": "2.7.6"
  }
 },
 "nbformat": 4,
 "nbformat_minor": 2
}
