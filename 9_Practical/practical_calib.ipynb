{
 "cells": [
  {
   "cell_type": "code",
   "execution_count": 1,
   "metadata": {
    "collapsed": false,
    "deletable": true,
    "editable": true
   },
   "outputs": [
    {
     "data": {
      "text/html": [
       "<script>            aval=document.getElementById(\"prac_chap\");            aval.href=\"../9_Practical/practical_calib.ipynb#prac_chap\";            aval.innerHTML = \"&#8493 9 Practical Chapter\";            </script>"
      ],
      "text/plain": [
       "<IPython.core.display.HTML object>"
      ]
     },
     "execution_count": 1,
     "metadata": {},
     "output_type": "execute_result"
    }
   ],
   "source": [
    "#Created: sirothia@gmail.com 20170207\n",
    "#for label and ref example\n",
    "\n",
    "##################################\n",
    "#Insert the following text on each notebook\n",
    "import os, sys\n",
    "init_path = os.path.abspath(os.path.join('../init/'))\n",
    "sys.path.append(init_path)\n",
    "\n",
    "import pickle\n",
    "from incfunc import init_ipyref_filename, ipy_label, ipy_ref\n",
    "from IPython.display import HTML \n",
    "\n",
    "lfilename='../9_Practical/practical_calib.ipynb'\n",
    "ipyrefname=init_ipyref_filename()\n",
    "\n",
    "try:\n",
    "    init_ipyref\n",
    "except NameError:\n",
    "    f = open(ipyrefname, 'rb')\n",
    "    sdict = pickle.load(f)\n",
    "    f.close()\n",
    "    debug_lvl=0\n",
    "    if debug_lvl > 10: print 'loaded', ipyrefname\n",
    "else :\n",
    "    if debug_lvl > 10: print \"Running through mainlist for updating reference\"\n",
    "\n",
    "if debug_lvl > 100:\n",
    "    print sdict.keys()\n",
    "    print sdict.values()\n",
    "##################################\n",
    "    \n",
    "#idstr='prac_chap'\n",
    "#titlestr='Chapter Title'\n",
    "#ipy_label(sdict, 'chapter', idstr, titlestr)\n",
    "\n",
    "idstr='prac_chap'\n",
    "titlestr='Practical Chapter'\n",
    "rstr=ipy_label(sdict, 'chapter', idstr, titlestr, lfilename)\n",
    "HTML(rstr)"
   ]
  },
  {
   "cell_type": "markdown",
   "metadata": {
    "deletable": true,
    "editable": true
   },
   "source": [
    "# <a id='prac_chap'></a>\n",
    "\n",
    "Insert the practical chapter text here."
   ]
  },
  {
   "cell_type": "code",
   "execution_count": 2,
   "metadata": {
    "collapsed": false,
    "deletable": true,
    "editable": true
   },
   "outputs": [
    {
     "data": {
      "text/html": [
       "<script>            aval=document.getElementById(\"prac_sec_test1\");            aval.href=\"../9_Practical/practical_calib.ipynb#prac_sec_test1\";            aval.innerHTML = \"&sect 9.1 Practical Section Test1\";            </script>"
      ],
      "text/plain": [
       "<IPython.core.display.HTML object>"
      ]
     },
     "execution_count": 2,
     "metadata": {},
     "output_type": "execute_result"
    }
   ],
   "source": [
    "idstr='prac_sec_test1'\n",
    "\n",
    "#for creating the label use\n",
    "#sdict is internal : not to be used\n",
    "#cntname : chapter, section, subsection, subsubsection, subsubsubsection, equation, figure, table\n",
    "#labelstr : user choice of label, e.g. idstr is used here\n",
    "#           Advised not use semi-colon in labelstr\n",
    "#titlestr: can be a title associated with label\n",
    "\n",
    "#ipy_label(sdict, cntname, labelstr, titlestr)\n",
    "titlestr='Practical Section Test1'\n",
    "rstr=ipy_label(sdict, 'section', idstr, titlestr, lfilename)\n",
    "HTML(rstr)"
   ]
  },
  {
   "cell_type": "markdown",
   "metadata": {
    "deletable": true,
    "editable": true
   },
   "source": [
    "## <a id='prac_sec_test1'></a>\n",
    "\n",
    "Insert the section test1 text here."
   ]
  },
  {
   "cell_type": "code",
   "execution_count": 3,
   "metadata": {
    "collapsed": false,
    "deletable": true,
    "editable": true,
    "scrolled": true
   },
   "outputs": [
    {
     "data": {
      "text/html": [
       "<script>            aval=document.getElementById(\"prac_sec_test2\");            aval.href=\"../9_Practical/practical_calib.ipynb#prac_sec_test2\";            aval.innerHTML = \"&sect 9.2 Practical Section Test2\";            </script>"
      ],
      "text/plain": [
       "<IPython.core.display.HTML object>"
      ]
     },
     "execution_count": 3,
     "metadata": {},
     "output_type": "execute_result"
    }
   ],
   "source": [
    "idstr='prac_sec_test2'\n",
    "titlestr='Practical Section Test2'\n",
    "rstr=ipy_label(sdict, 'section', idstr, titlestr, lfilename)\n",
    "HTML(rstr)\n",
    "#print sdict.keys()"
   ]
  },
  {
   "cell_type": "markdown",
   "metadata": {
    "deletable": true,
    "editable": true
   },
   "source": [
    "## <a id='prac_sec_test2'></a>\n",
    "\n",
    "Insert the section test2 text here."
   ]
  },
  {
   "cell_type": "code",
   "execution_count": 4,
   "metadata": {
    "collapsed": false,
    "deletable": true,
    "editable": true
   },
   "outputs": [
    {
     "data": {
      "text/html": [
       "<script>            aval=document.getElementById(\"prac_eqn_test1\");            aval.href=\"../9_Practical/practical_calib.ipynb#prac_eqn_test1\";            aval.innerHTML = \"Equation 9.1 A 2-dimensional Fourier transform\";            </script>"
      ],
      "text/plain": [
       "<IPython.core.display.HTML object>"
      ]
     },
     "execution_count": 4,
     "metadata": {},
     "output_type": "execute_result"
    }
   ],
   "source": [
    "idstr='prac_eqn_test1'\n",
    "titlestr='A 2-dimensional Fourier transform'\n",
    "rstr=ipy_label(sdict, 'equation', idstr, titlestr, lfilename)\n",
    "HTML(rstr)"
   ]
  },
  {
   "cell_type": "markdown",
   "metadata": {
    "deletable": true,
    "editable": true
   },
   "source": [
    "You may also create id for the equation as shown here <a id='prac_eqn_test1'></a>\n",
    "\n",
    "$$ I(l,m) = \\int_{-\\infty}^{\\infty} V_u(u) e^{-2\\pi iul} \\,du \\int_{-\\infty}^{\\infty} V_v(v) e^{-2\\pi ivm} \\, dv = \\int_{-\\infty}^{\\infty} \\int_{-\\infty}^{\\infty} V(u,v) e^{-2\\pi i(ul+vm)} \\,du\\,dv $$"
   ]
  },
  {
   "cell_type": "code",
   "execution_count": 5,
   "metadata": {
    "collapsed": false,
    "deletable": true,
    "editable": true,
    "scrolled": false
   },
   "outputs": [],
   "source": [
    "if debug_lvl > 100:\n",
    "    for i in range(1,10):\n",
    "        print i\n",
    "        print sdict.keys()\n",
    "        print sdict.values()"
   ]
  },
  {
   "cell_type": "code",
   "execution_count": 6,
   "metadata": {
    "collapsed": false,
    "deletable": true,
    "editable": true
   },
   "outputs": [
    {
     "data": {
      "text/html": [
       "<script>            aval=document.getElementById(\"prac_eqn_test2\");            aval.href=\"../9_Practical/practical_calib.ipynb#prac_eqn_test2\";            aval.innerHTML = \"Equation 9.2 The I-V Fourier Pair\";            </script>"
      ],
      "text/plain": [
       "<IPython.core.display.HTML object>"
      ]
     },
     "execution_count": 6,
     "metadata": {},
     "output_type": "execute_result"
    }
   ],
   "source": [
    "idstr='prac_eqn_test2'\n",
    "titlestr='The I-V Fourier Pair'\n",
    "rstr=ipy_label(sdict, 'equation', idstr, titlestr, lfilename)\n",
    "HTML(rstr)"
   ]
  },
  {
   "cell_type": "code",
   "execution_count": 7,
   "metadata": {
    "collapsed": false,
    "deletable": true,
    "editable": true
   },
   "outputs": [
    {
     "data": {
      "text/html": [
       "<script>            aval=document.getElementById(\"prac_subsec_test2\");            aval.href=\"#prac_subsec_test2\";            aval.innerHTML = \"&sect 9.2.1 Subsection The I-V Fourier Pair\";            </script>"
      ],
      "text/plain": [
       "<IPython.core.display.HTML object>"
      ]
     },
     "execution_count": 7,
     "metadata": {},
     "output_type": "execute_result"
    }
   ],
   "source": [
    "idstr='prac_subsec_test2'\n",
    "titlestr='Subsection The I-V Fourier Pair'\n",
    "rstr=ipy_label(sdict, 'subsection', idstr, titlestr)\n",
    "HTML(rstr)"
   ]
  },
  {
   "cell_type": "markdown",
   "metadata": {
    "deletable": true,
    "editable": true
   },
   "source": [
    "You may also create id for the equation as shown here <a id='prac_eqn_test2'></a>\n",
    "\n",
    "$$ V(u,v) = \\sum_{l=-1}^{1} \\sum_{m=-1}^{1} I(l,m) (\\cos(2\\pi(ul+vm)) + i\\sin(2\\pi(ul+vm))) \\,\\Delta l\\,\\Delta m $$\n",
    "\n",
    "<a id='prac_subsec_test2'></a>"
   ]
  },
  {
   "cell_type": "code",
   "execution_count": 8,
   "metadata": {
    "collapsed": false,
    "deletable": true,
    "editable": true
   },
   "outputs": [
    {
     "data": {
      "text/html": [
       "<script>            aval=document.getElementById(\"prac_sec_test3_xyz\");            aval.href=\"../9_Practical/practical_im.ipynb#prac_sec_test3\";            aval.innerHTML = \"&sect 9.3 Practical Section Test3\";            </script>"
      ],
      "text/plain": [
       "<IPython.core.display.HTML object>"
      ]
     },
     "execution_count": 8,
     "metadata": {},
     "output_type": "execute_result"
    }
   ],
   "source": [
    "idstr='prac_sec_test3'\n",
    "idcntr='_xyz'\n",
    "\n",
    "#for reference use\n",
    "#rstr=ipy_ref(sdict, labelstr, titlestr='', sdisplay='default', idsub='', debug_lvl=0)\n",
    "#sdict : is internal not to be used\n",
    "#labelstr : user choice of label, e.g. idstr is used here \n",
    "#titlestr : can be a title associated with label\n",
    "#idsub : for first call use ''\n",
    "#        use _xxx where xxx is random text that needs to be different every time the reference is used differently\n",
    "#debug_lvl : 0 default, 1 will print the class string to be used for this reference occurance\n",
    "#            which is combination of idstr and idcntr\n",
    "#sdisplay: 'default' reference display\n",
    "#          'intfile' will display reference with internal to file reference symbol\n",
    "#          'extfile' will display reference with external to file reference symbol\n",
    "\n",
    "rstr=ipy_ref(sdict, idstr, titlestr='', sdisplay='default', idsub=idcntr, debug_lvl=0)\n",
    "HTML(rstr)"
   ]
  },
  {
   "cell_type": "markdown",
   "metadata": {
    "deletable": true,
    "editable": true
   },
   "source": [
    "***\n",
    "Next:<a id=\"prac_sec_test3_xyz\" href='Error'></a>"
   ]
  }
 ],
 "metadata": {
  "kernelspec": {
   "display_name": "Python 2",
   "language": "python",
   "name": "python2"
  },
  "language_info": {
   "codemirror_mode": {
    "name": "ipython",
    "version": 2
   },
   "file_extension": ".py",
   "mimetype": "text/x-python",
   "name": "python",
   "nbconvert_exporter": "python",
   "pygments_lexer": "ipython2",
   "version": "2.7.6"
  }
 },
 "nbformat": 4,
 "nbformat_minor": 2
}
