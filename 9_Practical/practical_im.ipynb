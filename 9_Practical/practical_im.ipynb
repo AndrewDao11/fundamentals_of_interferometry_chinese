{
 "cells": [
  {
   "cell_type": "code",
   "execution_count": 1,
   "metadata": {
    "collapsed": false,
    "deletable": true,
    "editable": true
   },
   "outputs": [
    {
     "name": "stdout",
     "output_type": "stream",
     "text": [
      "[Error] ipy_label =>  The key prac_sec_test3 is already present, use unique string in labelstr\n",
      "[Suggestion] ipy_label=> Allowed: chapter, section, sectionl1, sectionl2_cnt, sectionl3_cnt, equation_cnt, figure_cnt, table_cnt\n",
      "[Error] ipy_label\n"
     ]
    }
   ],
   "source": [
    "#Created: sirothia@gmail.com 20170207\n",
    "#for label and ref example\n",
    "\n",
    "##################################\n",
    "#Insert the following text on each notebook\n",
    "import os, sys\n",
    "init_path = os.path.abspath(os.path.join('../init/'))\n",
    "sys.path.append(init_path)\n",
    "\n",
    "import pickle\n",
    "from incfunc import init_ipyref_filename, ipy_label, ipy_ref\n",
    "from ipywidgets import widgets\n",
    "\n",
    "ipyrefname=init_ipyref_filename()\n",
    "\n",
    "try:\n",
    "    init_ipyref\n",
    "except NameError:\n",
    "    f = open(ipyrefname, 'rb')\n",
    "    sdict = pickle.load(f)\n",
    "    f.close()\n",
    "    debug_lvl=0    \n",
    "    if debug_lvl > 10: print 'loaded', ipyrefname\n",
    "else :\n",
    "    if debug_lvl > 10: print \"Running through mainlist for updating reference\"\n",
    "\n",
    "if debug_lvl > 100:\n",
    "    print sdict.keys()\n",
    "    print sdict.values()\n",
    "##################################\n",
    "\n",
    "idstr='prac_sec_test3'\n",
    "titlestr='Practical Section Test3'\n",
    "ipy_label(sdict, 'section', idstr, titlestr)\n",
    "\n",
    "#sval3 = widgets.Label(sdict[idstr])\n",
    "#widgets.PlaceProxy(child=sval3, selector='.foobar3')\n",
    "stval={}\n",
    "ipy_ref(sdict, idstr, stval)\n",
    "widgets.PlaceProxy(child=stval['child'], selector=('.'+stval['class'])) "
   ]
  },
  {
   "cell_type": "markdown",
   "metadata": {
    "deletable": true,
    "editable": true
   },
   "source": [
    "## <a class='prac_sec_test3' id='prac_sec_test3'></a>\n",
    "\n",
    "The section is inserted to test the section updates"
   ]
  },
  {
   "cell_type": "code",
   "execution_count": 2,
   "metadata": {
    "collapsed": false,
    "deletable": true,
    "editable": true
   },
   "outputs": [],
   "source": [
    "idstr='prac_sec_test2'\n",
    "idcntr='_xyz3'\n",
    "\n",
    "#if sdict.has_key(idstr) : print 'Pass:', idstr, 'exist'\n",
    "#sval1 = widgets.Label(sdict[idstr])\n",
    "#widgets.PlaceProxy(child=sval1, selector='.foobar')\n",
    "stval={}\n",
    "ipy_ref(sdict, idstr, stval, idsub=idcntr, debug_lvl=debug_lvl)\n",
    "widgets.PlaceProxy(child=stval['child'], selector=('.'+stval['class']))\n",
    "\n",
    "#var2 = \"Mytext to display\"\n",
    "#text = '<h1>For a moment let us discuss radio interferometry.</h1> <a title=\\\"%s\\\"> %s </a>' % (var2, sdict[idstr]) \n",
    "#HTML(text)"
   ]
  },
  {
   "cell_type": "markdown",
   "metadata": {
    "deletable": true,
    "editable": true
   },
   "source": [
    "For demo we will refer <a class='prac_sec_test2_xyz3' href='../9_Practical/practical_calib.ipynb#prac_sec_test2' title='Text to display'></a>"
   ]
  },
  {
   "cell_type": "code",
   "execution_count": 3,
   "metadata": {
    "collapsed": false,
    "deletable": true,
    "editable": true
   },
   "outputs": [
    {
     "name": "stdout",
     "output_type": "stream",
     "text": [
      "[Error] ipy_label =>  The key prac_sec_test4 is already present, use unique string in labelstr\n",
      "[Suggestion] ipy_label=> Allowed: chapter, section, sectionl1, sectionl2_cnt, sectionl3_cnt, equation_cnt, figure_cnt, table_cnt\n",
      "[Error] ipy_label\n"
     ]
    }
   ],
   "source": [
    "idstr='prac_sec_test4'\n",
    "titlestr='Practical Section Test4'\n",
    "ipy_label(sdict, 'section', idstr, titlestr)\n",
    "\n",
    "#sval3 = widgets.Label(sdict[idstr])\n",
    "#widgets.PlaceProxy(child=sval3, selector='.foobar4')\n",
    "stval={}\n",
    "ipy_ref(sdict, idstr, stval)\n",
    "widgets.PlaceProxy(child=stval['child'], selector=('.'+stval['class'])) "
   ]
  },
  {
   "cell_type": "markdown",
   "metadata": {
    "deletable": true,
    "editable": true
   },
   "source": [
    "# <a class='prac_sec_test4' id='prac_sec_test4'></a>\n",
    "\n",
    "The section is inserted to test the section updates"
   ]
  },
  {
   "cell_type": "code",
   "execution_count": 4,
   "metadata": {
    "collapsed": false,
    "deletable": true,
    "editable": true
   },
   "outputs": [],
   "source": [
    "if debug_lvl > 10:\n",
    "    print sdict.keys()\n",
    "    print sdict.values()\n",
    "\n",
    "idstr='prac_sec_test2'\n",
    "idcntr='_xyz'\n",
    "stval={}\n",
    "ipy_ref(sdict, idstr, stval, titlestr='', sdisplay='intfile', idsub=idcntr, debug_lvl=debug_lvl)\n",
    "widgets.PlaceProxy(child=stval['child'], selector=('.'+stval['class'])) "
   ]
  },
  {
   "cell_type": "markdown",
   "metadata": {
    "deletable": true,
    "editable": true
   },
   "source": [
    "For second demo we will refer <a class='prac_sec_test2_xyz' href='../9_Practical/practical_calib.ipynb#prac_sec_test2' title='Text to display'></a>\n",
    "\n",
    "For external reference you may try arrow $\\looparrowright$"
   ]
  }
 ],
 "metadata": {
  "kernelspec": {
   "display_name": "Python 2",
   "language": "python",
   "name": "python2"
  },
  "language_info": {
   "codemirror_mode": {
    "name": "ipython",
    "version": 2
   },
   "file_extension": ".py",
   "mimetype": "text/x-python",
   "name": "python",
   "nbconvert_exporter": "python",
   "pygments_lexer": "ipython2",
   "version": "2.7.6"
  }
 },
 "nbformat": 4,
 "nbformat_minor": 2
}
