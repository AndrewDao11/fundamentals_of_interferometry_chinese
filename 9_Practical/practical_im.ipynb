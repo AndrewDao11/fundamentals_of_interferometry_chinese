{
 "cells": [
  {
   "cell_type": "code",
   "execution_count": 1,
   "metadata": {
    "collapsed": false,
    "deletable": true,
    "editable": true
   },
   "outputs": [
    {
     "data": {
      "text/html": [
       "<script>            aval=document.getElementById(\"prac_sec_test2_xyz3\");            aval.href=\"../9_Practical/practical_calib.ipynb#prac_sec_test2\";            aval.innerHTML = \"&sect 9.2 Practical Section Test2\";            </script>"
      ],
      "text/plain": [
       "<IPython.core.display.HTML object>"
      ]
     },
     "execution_count": 1,
     "metadata": {},
     "output_type": "execute_result"
    }
   ],
   "source": [
    "#Created: sirothia@gmail.com 20170207\n",
    "#for label and ref example\n",
    "\n",
    "##################################\n",
    "#Insert the following text on each notebook\n",
    "import os, sys\n",
    "init_path = os.path.abspath(os.path.join('../init/'))\n",
    "sys.path.append(init_path)\n",
    "\n",
    "import pickle\n",
    "from incfunc import init_ipyref_filename, ipy_label, ipy_ref\n",
    "from IPython.display import HTML \n",
    "\n",
    "lfilename='../9_Practical/practical_im.ipynb'\n",
    "ipyrefname=init_ipyref_filename()\n",
    "\n",
    "try:\n",
    "    init_ipyref\n",
    "except NameError:\n",
    "    f = open(ipyrefname, 'rb')\n",
    "    sdict = pickle.load(f)\n",
    "    f.close()\n",
    "    debug_lvl=0    \n",
    "    if debug_lvl > 10: print 'loaded', ipyrefname\n",
    "else :\n",
    "    if debug_lvl > 10: print \"Running through mainlist for updating reference\"\n",
    "\n",
    "if debug_lvl > 100:\n",
    "    print sdict.keys()\n",
    "    print sdict.values()\n",
    "##################################\n",
    "\n",
    "idstr='prac_sec_test3'\n",
    "titlestr='Practical Section Test3'\n",
    "rstr=ipy_label(sdict, 'section', idstr, titlestr, lfilename)\n",
    "HTML(rstr)\n",
    "\n",
    "idstr='prac_sec_test2'\n",
    "idcntr='_xyz3'\n",
    "rstr=ipy_ref(sdict, idstr, idsub=idcntr, debug_lvl=debug_lvl)\n",
    "HTML(rstr)"
   ]
  },
  {
   "cell_type": "markdown",
   "metadata": {
    "deletable": true,
    "editable": true
   },
   "source": [
    "## <a id='prac_sec_test3'></a>\n",
    "\n",
    "The section is inserted to test the section updates"
   ]
  },
  {
   "cell_type": "code",
   "execution_count": 2,
   "metadata": {
    "collapsed": false,
    "deletable": true,
    "editable": true
   },
   "outputs": [],
   "source": [
    "#idstr='prac_sec_test2'\n",
    "#idcntr='_xyz3'\n",
    "\n",
    "#rstr=ipy_ref(sdict, idstr, idsub=idcntr, debug_lvl=debug_lvl)\n",
    "#HTML(rstr)"
   ]
  },
  {
   "cell_type": "markdown",
   "metadata": {
    "deletable": true,
    "editable": true
   },
   "source": [
    "For demo we will refer <a id='prac_sec_test2_xyz3'></a>"
   ]
  },
  {
   "cell_type": "code",
   "execution_count": 3,
   "metadata": {
    "collapsed": false,
    "deletable": true,
    "editable": true
   },
   "outputs": [
    {
     "data": {
      "text/html": [
       "<script>            aval=document.getElementById(\"prac_sec_test4\");            aval.href=\"../9_Practical/practical_im.ipynb#prac_sec_test4\";            aval.innerHTML = \"&sect 9.4 Practical Section Test4\";            </script>"
      ],
      "text/plain": [
       "<IPython.core.display.HTML object>"
      ]
     },
     "execution_count": 3,
     "metadata": {},
     "output_type": "execute_result"
    }
   ],
   "source": [
    "idstr='prac_sec_test4';\n",
    "titlestr='Practical Section Test4';\n",
    "rstr=ipy_label(sdict, 'section', idstr, titlestr, lfilename)\n",
    "HTML(rstr)"
   ]
  },
  {
   "cell_type": "markdown",
   "metadata": {
    "deletable": true,
    "editable": true
   },
   "source": [
    "# <a id='prac_sec_test4'></a>\n",
    "\n",
    "The section is inserted to test the section updates"
   ]
  },
  {
   "cell_type": "code",
   "execution_count": 4,
   "metadata": {
    "collapsed": false,
    "deletable": true,
    "editable": true
   },
   "outputs": [
    {
     "data": {
      "text/html": [
       "<script>            aval=document.getElementById(\"prac_sec_test2_xyz\");            aval.href=\"../9_Practical/practical_calib.ipynb#prac_sec_test2\";            aval.innerHTML = \"&sect 9.2 Practical Section Test2\";            </script>"
      ],
      "text/plain": [
       "<IPython.core.display.HTML object>"
      ]
     },
     "execution_count": 4,
     "metadata": {},
     "output_type": "execute_result"
    }
   ],
   "source": [
    "if debug_lvl > 10:\n",
    "    print sdict.keys()\n",
    "    print sdict.values()\n",
    "\n",
    "idstr='prac_sec_test2'\n",
    "idcntr='_xyz'\n",
    "rstr=ipy_ref(sdict, idstr, titlestr='', idsub=idcntr, debug_lvl=debug_lvl)\n",
    "HTML(rstr)"
   ]
  },
  {
   "cell_type": "markdown",
   "metadata": {
    "deletable": true,
    "editable": true
   },
   "source": [
    "For second demo we will refer <a id='prac_sec_test2_xyz'></a>\n",
    "\n",
    "For external reference you may try arrow $\\looparrowright$"
   ]
  }
 ],
 "metadata": {
  "kernelspec": {
   "display_name": "Python 2",
   "language": "python",
   "name": "python2"
  },
  "language_info": {
   "codemirror_mode": {
    "name": "ipython",
    "version": 2
   },
   "file_extension": ".py",
   "mimetype": "text/x-python",
   "name": "python",
   "nbconvert_exporter": "python",
   "pygments_lexer": "ipython2",
   "version": "2.7.6"
  }
 },
 "nbformat": 4,
 "nbformat_minor": 2
}
