{
 "cells": [
  {
   "cell_type": "markdown",
   "metadata": {},
   "source": [
    "***\n",
    "\n",
    "* [Outline](../0_Introduction/0_introduction.ipynb)\n",
    "* [Glossary](../0_Introduction/1_glossary.ipynb)\n",
    "* [5. Imaging](#)  \n",
    "    * Next: [5.1 Spatial Frequencies](5_1_spatial_frequencies.ipynb)\n",
    "\n",
    "***"
   ]
  },
  {
   "cell_type": "markdown",
   "metadata": {},
   "source": [
    "# 第五章 : 成像<a id='imaging:sec:intro'></a>\n",
    "\n",
    "# Chapter 5: Imaging<a id='imaging:sec:intro'></a>"
   ]
  },
  {
   "cell_type": "markdown",
   "metadata": {},
   "source": [
    "我们通常会在射电天文学中设计和构建一套干涉测量阵列，作为一种通过孔径合成来制作天空图像的圆形方法。复杂可见度的测量和*uv*平面的采样最终都会产生一个图像，如果有可以看到射频光的眼睛就能看到天空。本章旨在介绍如何根据干涉测量阵列的可见度测量来形成这些图像。为了了解图像的制作方法，我们必须先采取几个步骤。在本章的第一部分中，我们介绍了图像与其对应空间频率之间的傅立叶关系，以及空间频率的滤波和采样如何影响重建图像。第二部分扩展了空间频率采样，以介绍点源扩散函数（PSF）的概念。从那里我们将处理可见度重新采样到网格上的问题，以便我们可以利用成像中的快速傅里叶变换（FFT）。然后我们将讨论干涉测量阵列采样的复杂性，这会导致区域的过采样和欠采样，以及加权函数如何影响到结果图像。本节中，我们还将介绍脏图的术语，它将在下一章解卷积中发挥重要作用。*最后，我们将讨论范西特-泽尼克可见度/图像傅里叶对关系破坏的位置，以及如何使用额外的近似来校正对结果的影响。*\n",
    "\n",
    "We usually design and build interferometric arrays in radio astronomy as a round-a-bout way to make an image of the sky via aperture synthesis. The measurment of complex visibilities and sampling of the *uv*-plane all eventually lead to producing an image one would see looking up at the sky if they had eyes which could see radio-frequency light. This chapter aims to present how such images are formed from the visibility measurments of an interferometric array. In order to arrive at how the image are made we must first take a few steps. In the first section of this chapter we introduce the Fourier relationship between an image and its corresponding spatial frequencies, and how filtering and sampling of spatial frequencies affects a reconstructed image. The second section expands on spatial frequenecy sampling to introduce the concept of a point spread function (PSF). From there we will deal with the issue of resampling visibilities onto a grid so that we can take advantage of the fast Fourier Transforms (FFT) in imaging. We will then go into the complexity of interferometric array sampling which leads to over and under sampling of regions, and how weighting functions affect the resulting images. In this section we will also introduce the terminology of the dirty image which will play an important role in the next chapter on deconvolution. Finally, we will discuss the situtations in which the Van Cittert-Zernike visibility/image Fourier pair relationship breaks down, and how additional approximations can be used to correct for the resulting effects."
   ]
  },
  {
   "cell_type": "markdown",
   "metadata": {},
   "source": [
    "#### Chapter Outline\n",
    "\n",
    "1. [Spatial Frequencies](5_1_spatial_frequencies.ipynb)\n",
    "2. [Sampling and Point Spread Functions](5_2_sampling_functions_and_psfs.ipynb)\n",
    "3. [Gridding and Degridding for using the FFT](5_3_gridding_and_degridding.ipynb)\n",
    "4. [The Dirty Image and Visibility Weightings](5_4_imaging_weights.ipynb)\n",
    "5. [The Break Down of the Small Angle Approximation and the W-Term](5_5_widefield_effect.ipynb)\n",
    "6. [Further Reading and References](5_x_further_reading_and_references.ipynb)"
   ]
  },
  {
   "cell_type": "markdown",
   "metadata": {},
   "source": [
    "#### Chapter Editors\n",
    "\n",
    "#### Chapter Contributors\n",
    "\n",
    "* Benna Hugo (5.2, **5.3**, **5.5**)\n",
    "* Griffin Foster (**5.0**, **5.1**, **5.2**, 5.3, **5.4**)\n",
    "\n",
    "#### Format status:\n",
    "\n",
    "* <span style=\"background-color:red\">&nbsp;&nbsp;&nbsp;&nbsp;</span> : LF: Date\n",
    "* <span style=\"background-color:red\">&nbsp;&nbsp;&nbsp;&nbsp;</span> : NC: Date\n",
    "* <span style=\"background-color:red\">&nbsp;&nbsp;&nbsp;&nbsp;</span> : RF: Date\n",
    "* <span style=\"background-color:red\">&nbsp;&nbsp;&nbsp;&nbsp;</span> : HF: Date\n",
    "* <span style=\"background-color:red\">&nbsp;&nbsp;&nbsp;&nbsp;</span> : GM: Date\n",
    "* <span style=\"background-color:red\">&nbsp;&nbsp;&nbsp;&nbsp;</span> : CC: Date\n",
    "* <span style=\"background-color:red\">&nbsp;&nbsp;&nbsp;&nbsp;</span> : CL: Date\n",
    "* <span style=\"background-color:red\">&nbsp;&nbsp;&nbsp;&nbsp;</span> : ST: Date\n",
    "* <span style=\"background-color:red\">&nbsp;&nbsp;&nbsp;&nbsp;</span> : FN: Date\n",
    "* <span style=\"background-color:red\">&nbsp;&nbsp;&nbsp;&nbsp;</span> : TC: Date\n",
    "* <span style=\"background-color:red\">&nbsp;&nbsp;&nbsp;&nbsp;</span> : XX: Date"
   ]
  },
  {
   "cell_type": "markdown",
   "metadata": {},
   "source": [
    "***\n",
    "\n",
    "Next: [5.1 Spatial Frequencies](5_1_spatial_frequencies.ipynb)"
   ]
  }
 ],
 "metadata": {
  "kernelspec": {
   "display_name": "Python 3",
   "language": "python",
   "name": "python3"
  },
  "language_info": {
   "codemirror_mode": {
    "name": "ipython",
    "version": 3
   },
   "file_extension": ".py",
   "mimetype": "text/x-python",
   "name": "python",
   "nbconvert_exporter": "python",
   "pygments_lexer": "ipython3",
   "version": "3.7.0"
  }
 },
 "nbformat": 4,
 "nbformat_minor": 1
}
