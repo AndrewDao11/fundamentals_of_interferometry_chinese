{
 "cells": [
  {
   "cell_type": "markdown",
   "metadata": {},
   "source": [
    "***\n",
    "\n",
    "* [Outline](../0_Introduction/0_introduction.ipynb)\n",
    "* [Glossary](../0_Introduction/1_glossary.ipynb)\n",
    "* [7. Observing Systems](7_0_introduction.ipynb)  \n",
    "    * Previous: [7.4 Digital Correlators](7_4_digital.ipynb)\n",
    "    * Next: [7.6 Polarization and Antenna Feeds](7_6_polarization.ipynb)\n",
    "    \n",
    "***"
   ]
  },
  {
   "cell_type": "markdown",
   "metadata": {},
   "source": [
    "Import standard modules:"
   ]
  },
  {
   "cell_type": "code",
   "execution_count": 1,
   "metadata": {},
   "outputs": [
    {
     "data": {
      "text/html": [
       "<style>\n",
       "\n",
       "p.prerequisites {\n",
       "    border:5px;\n",
       "    border-style:none;\n",
       "    background-color:#F0F0F0;\n",
       "    box-shadow: 5px 5px 2px #888888;\n",
       "    border-color:#FF0000;\n",
       "    padding: 1em;\n",
       "    }\n",
       "\n",
       "p.conclusion {\n",
       "    border:5px;\n",
       "    border-style:none;\n",
       "    background-color:#c8ebca;\n",
       "    box-shadow: 5px 5px 2px #888888;\n",
       "    border-color:#c8ebca;\n",
       "    padding: 1em;\n",
       "    }\n",
       "\n",
       "div.warn {    \n",
       "    background-color: #fcf2f2;\n",
       "    border-color: #dFb5b4;\n",
       "    border-left: 5px solid #dfb5b4;\n",
       "    padding: 0.5em;\n",
       "    }\n",
       "\n",
       "div.advice {    \n",
       "    background-color: #ecf8ed;\n",
       "    border-color: #a2dda5;\n",
       "    border-left: 5px solid #a2dda5;\n",
       "    padding: 0.5em;\n",
       "    }\n",
       "\n",
       "</style>\n",
       "\n"
      ],
      "text/plain": [
       "<IPython.core.display.HTML object>"
      ]
     },
     "execution_count": 1,
     "metadata": {},
     "output_type": "execute_result"
    }
   ],
   "source": [
    "import numpy as np\n",
    "import matplotlib.pyplot as plt\n",
    "%matplotlib inline\n",
    "from IPython.display import HTML \n",
    "HTML('../style/course.css') #apply general CSS"
   ]
  },
  {
   "cell_type": "markdown",
   "metadata": {},
   "source": [
    "Import section specific modules:"
   ]
  },
  {
   "cell_type": "code",
   "execution_count": 2,
   "metadata": {
    "collapsed": true
   },
   "outputs": [],
   "source": [
    "from IPython.display import Image"
   ]
  },
  {
   "cell_type": "code",
   "execution_count": 3,
   "metadata": {},
   "outputs": [
    {
     "data": {
      "text/html": [
       "<script>\n",
       "    code_show=false; \n",
       "    function code_toggle() {\n",
       "        if (code_show){\n",
       "            $('div.input').hide();\n",
       "        } else {\n",
       "            $('div.input').show();\n",
       "        }\n",
       "        code_show = !code_show\n",
       "    } \n",
       "    $( document ).ready(code_toggle);\n",
       "</script>\n",
       "\n",
       "The raw code for this notebook is by default hidden for easier reading. To toggle on/off the raw code, click <a href=\"javascript:code_toggle()\">here</a>.\n",
       "\n"
      ],
      "text/plain": [
       "<IPython.core.display.HTML object>"
      ]
     },
     "execution_count": 3,
     "metadata": {},
     "output_type": "execute_result"
    }
   ],
   "source": [
    "HTML('../style/code_toggle.html')"
   ]
  },
  {
   "cell_type": "markdown",
   "metadata": {},
   "source": [
    "**TODO:**\n",
    "\n",
    "* 理解主波束非常重要，为什么？\n",
    "* 方向依赖效应DDE\n",
    "* 当前的E琼斯\n",
    "* 流量的本质跟表征\n",
    "* 例子：有/没有波束衰减的天空场\n",
    "* 波面？源在远场，定义远场距离，定义远/近场\n",
    "* 单碟天线\n",
    "* 主波束的光学直觉：用一个简单的抛物面反射镜把平面波反射到焦点\n",
    "* 一个抛物面盘的简单孔径是一个圆盘》贝塞尔波束模式；傅里叶关系\n",
    "* 电压波束，能束，坐标系统\n",
    "* 主瓣，旁瓣，FWHM/分辨率，方向性，增益\n",
    "* 增加复杂性：光圈阻塞，辅助反射\n",
    "* 孔径效率：表面精度，阻塞，锥度，溢出\n",
    "* 天线类型：主焦，卡塞格林cassegrain，偏移格里高利offset gregorian\n",
    "* 天线安装\n",
    "* 视差角\n",
    "* 例子：Kat-7的主波束（波束模式，频率依赖，空间分割，频率分割）\n",
    "* 例子：meerkat的主波束（波束模式，频率依赖，空间分割，频率分割）\n",
    "* 指向精度，抖动，变形\n",
    "* 单碟主波束与干涉阵列的PSF的关系\n",
    "* 校准和成像中如何使用主波束\n",
    "* https://www.cv.nrao.edu/course/astr534/ReflectorAntennas.html\n",
    "* https://www.cv.nrao.edu/course/astr534/RadioTelescopes.html\n",
    "* 白皮书第3章\n",
    "* 锤天线理论\n",
    "\n",
    "\n",
    "* why is it important to understand the primary beam\n",
    "* a direction-dependent effect\n",
    "* present the E jones\n",
    "* what is intrinsic and apparent flux\n",
    "* example: sky field with and without beam attenuation\n",
    "* why is it a plane wave? source is in the far field, define far-field distance, define far/near field\n",
    "* consider a single dish\n",
    "* optics intution of a primary beam: reflecting a plane wave to a focus using a simple parabolic dish\n",
    "* simple aperture of a parabolic dish is a disc -> bessel beam pattern ; fourier relation\n",
    "* voltage beam, power beam ; coordinate system\n",
    "* primary lobe, sidelobes, FWHM/resolution, directivity, gain\n",
    "* adding complexity: aperture blockage, secondary reflector\n",
    "* aperture efficiency: surface accuracy, blockage, taper, spillover\n",
    "* typical types of dishes: primary focus, cassegrain, offset gregorian (with examples)\n",
    "* antenna mounts\n",
    "* parallactic angle\n",
    "* example: primary beam of kat-7 (beam pattern, freq dependence, spatial slice, freq slice)\n",
    "* example: primary beam of meerkat (beam pattern, freq dependence, spatial slice, freq slice)\n",
    "* extra: pointing accuracy, jitter, deformation\n",
    "* the relation of a primary beam of a single dish to the PSF of an interferometric array\n",
    "* how is the primary beam used in calibration and imaging?\n",
    "\n",
    "* https://www.cv.nrao.edu/course/astr534/ReflectorAntennas.html\n",
    "* https://www.cv.nrao.edu/course/astr534/RadioTelescopes.html\n",
    "* white book chapter 3\n",
    "* malloux antenna theory"
   ]
  },
  {
   "cell_type": "markdown",
   "metadata": {},
   "source": [
    "## 7.5.1 主波束（E-Jones跟P-Jones）The Primary Beam (E- and P-Jones) <a id='instrum:sec:pb'></a><!--\\label{instrum:sec:pb}-->"
   ]
  },
  {
   "cell_type": "raw",
   "metadata": {},
   "source": [
    "天线的“主波束”，也被称为“辐射模式”，跟天线增益的方向依赖有关。\n",
    "\n",
    "The *primary beam* of an antenna (also known as its *radiation pattern*) is the directional dependence of the antenna's gain. \n",
    "\n",
    "天线的主波束非常重要[direction-dependent propagation effect ($\\S$7.3 &#10142;)](7_3_direction_independent_and_dependent_effects.ipynb#instrum:sec:de_dde)。\n",
    "\n",
    "The primary beam of the antenna is the most important [direction-dependent propagation effect ($\\S$7.3 &#10142;)](7_3_direction_independent_and_dependent_effects.ipynb#instrum:sec:de_dde). <span style=\"background-color:red\">Etienne: broken link; no idea where it was initially supposed to point</span>\n",
    "\n",
    "图像平面存在多种效应，而图像跟可见度平面之间存在傅里叶变换关系，相应地，可见度平面存在卷积效应。\n",
    "\n",
    "It has a multiplicative effect in the image plane, and a convolutional effect in the visibility plane, due to the Fourier Transform relationship between the image and visibility planes."
   ]
  },
  {
   "cell_type": "markdown",
   "metadata": {},
   "source": [
    "![](figures/AntennaRadiationDiagram.png)\n",
    "\n",
    "**Figure 7.5.1**:天线辐射模式草图 Schematic diagram of an antenna radiation pattern (Image taken from [Wikipedia &#10142;](https://commons.wikimedia.org/wiki/File:Sidelobes_en.svg)).<a id='instrum:fig:rad_pat'></a><!--\\label{instrum:fig:rad_pat}-->"
   ]
  },
  {
   "cell_type": "markdown",
   "metadata": {},
   "source": [
    "**Example**: JVLA(Jansky Very Large Array) 的主波束 Primary beam of the JVLA (Jansky Very Large Array) "
   ]
  },
  {
   "cell_type": "markdown",
   "metadata": {},
   "source": [
    "![](figures/PrimaryBeam_1410MHz_labeled.png)\n",
    "\n",
    "**Figure 7.5.2**:JVLA在1.41 GHz的主波束 Primary beam of the JVLA at 1.41 GHz. <a id='instrum:fig:jvla_pb'></a> <!--\\label{instrum:fig:jvla_pb}-->"
   ]
  },
  {
   "cell_type": "markdown",
   "metadata": {},
   "source": [
    "在给定频率上，JVLA天线的主波束增益随着方向变化(见图 [7.5.1 &#10549;](#instrum:fig:jvla_pb) and [7.5.2 &#10549;](#instrum:fig:pb_horiz_xsec))，在给定方向上，主波束随着频率改变（见图 [7.5.3 &#10549;](#instrum:fig:pb_freq_gif)），频率越高，主波束越紧凑（[7.5.4 &#10549;](#instrum:fig:pb_gain_freq)）。\n",
    "\n",
    "For a JVLA antenna, the primary beam gain varies with direction at a given frequency (see Figures [7.5.1 &#10549;](#instrum:fig:jvla_pb) and [7.5.2 &#10549;](#instrum:fig:pb_horiz_xsec)), and with frequency towards a given direction (see Figures [7.5.3 &#10549;](#instrum:fig:pb_freq_gif) and [7.5.4 &#10549;](#instrum:fig:pb_gain_freq); the beam pattern scales with frequency, becoming more compact at higher frequencies). "
   ]
  },
  {
   "cell_type": "markdown",
   "metadata": {},
   "source": [
    "![](figures/BGvsRadius.png)\n",
    "\n",
    "**Figure 7.5.3**: 图[Fig 7.5.2 &#10549;](#instrum:fig:jvla_pb)上通过波束中心的水平方向上的增益变化，中间的峰对应“主瓣”，两边分别是“一级无first null”跟“一级旁瓣first sidelobe”。Gain across a horizontal cross section of the centre of the beam pattern shown in [Fig 7.5.2 &#10549;](#instrum:fig:jvla_pb). The peak at the centre corresponds to the *main lobe*, with the *first null* and the *first sidelobe* at larger radii. <a id='instrum:fig:pb_horiz_xsec'></a> <!--\\label{instrum:fig:pb_horiz_xsec}-->\n"
   ]
  },
  {
   "cell_type": "markdown",
   "metadata": {},
   "source": [
    "![](figures/beam_freq_variation.gif)\n",
    "**Figure 7.5.4**: JVLA天线的1.3-1.6GHz的波束增益变化。随着频率增高，波束变得紧凑。Variation of the beam pattern for a JVLA antenna over the frequency range 1.3 $-$ 1.6 GHz. As the frequency increases, the beam pattern becomes more compact.<a id='instrum:fig:pb_freq_gif'></a> <!--\\label{instrum:fig:pb_freq_gif}-->"
   ]
  },
  {
   "cell_type": "markdown",
   "metadata": {},
   "source": [
    "![](figures/BGvsFreq.png)\n",
    "\n",
    "**Figure 7.5.5**: 图[Fig 7.5.4 &#10549;](#instrum:fig:pb_freq_gif).<a id='instrum:fig:pb_gain_freq'></a> <!--\\label{instrum:fig:pb_gain_freq}-->上黑点位置波束的增益随频率的变化。 Frequency-dependent variation of the beam gain at the position of the source marked by a black dot in [Fig 7.5.4 &#10549;](#instrum:fig:pb_freq_gif).<a id='instrum:fig:pb_gain_freq'></a> <!--\\label{instrum:fig:pb_gain_freq}-->"
   ]
  },
  {
   "cell_type": "markdown",
   "metadata": {},
   "source": [
    "地平式的JVLA天线。A JVLA antenna, which has an [alt-azimuth mount](7_5_primary_beam.ipynb#instrum:sec:ant_mounts)<span style=\"background-color:red\">Etienne: finish sentence"
   ]
  },
  {
   "cell_type": "markdown",
   "metadata": {},
   "source": [
    " ![](figures/AltAzAntennaRotation.png)\n",
    "\n",
    "**Figure 7.5.6**: 观测过程中旋转的主波束。蓝色源跟绿色源的增益随着时间发生变化，相位中心位置的红色源的增益维持不变。Relative rotation of the primary beam pattern w.r.t. the sky over the course of an observation. The blue and green sources experience different beam gains at different times, while the beam gain for the red source at the phase centre remains unchanged. <a id='instrum:fig:pb_rot_sky'></a><!--\\label{instrum:fig:pb_rot_sky}-->\n"
   ]
  },
  {
   "cell_type": "markdown",
   "metadata": {},
   "source": [
    "旋转的主波束导致给定方向上的波束增益随着时间发生变化。The rotation of the primary beam causes the beam gain in a given direction to vary with time."
   ]
  },
  {
   "cell_type": "markdown",
   "metadata": {
    "collapsed": true
   },
   "source": [
    " ![](figures/beam_rotate.gif)\n",
    "\n",
    "**Figure 7.5.7**: 观测过程中，[Figure 7.5.2](#instrum:fig:jvla_pb)上波束模式的旋转。Rotation of the beam pattern in [Figure 7.5.2](#instrum:fig:jvla_pb) over the course of an observation. <a id='instrum:fig:pb_rot_gif'></a><!--\\label{instrum:fig:pb_rot_gif}-->"
   ]
  },
  {
   "cell_type": "markdown",
   "metadata": {},
   "source": [
    "![](figures/BGvsHA.png)\n",
    "\n",
    "**Figure 7.5.8**: 图 [Fig 7.5.7 &#10549;](#instrum:fig:pb_rot_gif). <a id='instrum:fig:pb_gain_rot'></a> <!--\\label{instrum:fig:pb_gain_rot}-->上，黑点处的源随观测时角的波束增益变化。  Variation of the beam gain as a function of the hour angle at the position of the source marked by a black dot in [Fig 7.5.7 &#10549;](#instrum:fig:pb_rot_gif). <a id='instrum:fig:pb_gain_rot'></a> <!--\\label{instrum:fig:pb_gain_rot}-->"
   ]
  },
  {
   "cell_type": "markdown",
   "metadata": {},
   "source": [
    "## 7.5.2 天线安装跟视差角 Antenna mounts and parallactic angle <a id='instrum:sec:mounts_and_pa'></a> <!--\\label{instrum:sec:mounts_and_pa}-->\n",
    "\n",
    "\n",
    "**TODO:**\n",
    "\n",
    "* P-Jones\n",
    "* fold into primary beam section\n",
    "* main point: different polarization calibration issues depending on mount\n",
    "* introduce transit arrays here?"
   ]
  },
  {
   "cell_type": "markdown",
   "metadata": {},
   "source": [
    "### 7.5.2.1 天线安装 Antenna mounts <a id='instrum:sec:ant_mounts'></a><!--\\label{instrum:sec:ant_mounts}-->\n",
    "\n",
    "有两种类型的天线安装方法：\n",
    "1. 地平式\n",
    "2. 赤道式\n",
    "\n",
    "Antenna mounts can be of two types:\n",
    "1. Alt-azimuth mount\n",
    "1. Equatorial mount"
   ]
  },
  {
   "cell_type": "markdown",
   "metadata": {},
   "source": [
    "地平式天线沿着两条轴（垂直方向和水平方向）跟踪天空中的源。\n",
    "赤道式天线通过围绕极轴转动，从而跟踪源。\n",
    "\n",
    "An antenna with an *alt-azimuth mount* tracks a source in the sky by rotating along two axes - altitude (vertical) and azimuth (vertical). \n",
    "\n",
    "An antenna with an *equatorial mount* tracks a source by rotating about the polar axis (i.e., an axis which points towards the celestial pole)."
   ]
  },
  {
   "cell_type": "markdown",
   "metadata": {},
   "source": [
    "![](figures/antenna_mounts.png)\n",
    "\n",
    "**Figure 7.7.1**: 地平式和赤道式光学望远镜 Alt-azimuth and equatorial mounts illustrated for the case of an optical telescope (Image taken from [oasi.org &#10142;](http://www.oasi.org.uk/Telescopes/CFTOB/Mounts.gif)). <a id='instrum:fig:ant_mounts'></a><!--\\label{instrum:fig:ant_mounts}-->"
   ]
  },
  {
   "cell_type": "markdown",
   "metadata": {},
   "source": [
    "观测过程中，地平式望远镜天线主波束相对天空旋转，赤道式望远镜天线主波束和天空相对位置保持不变。\n",
    "\n",
    "For an antenna with an alt-azimuth mount, the antenna [primary beam]() <span style=\"background-color:cyan\">Etienne: dead link, no actual destination given?</span> rotates relative to the sky during the course of an observation. For an equatorially-mounted antenna, the relative orientation of the antenna primary beam and the sky remains unchanged throughout the course of an observation."
   ]
  },
  {
   "cell_type": "markdown",
   "metadata": {},
   "source": [
    "![](figures/AltAzAntennaRotation.png)\n",
    "\n",
    "**Figure 7.7.2**: 观测过程中，地平式天线的波束和天空的相对旋转。Relative rotation of the beam and the sky during the course of an observation, for an antenna with an alt-azimuth mount. <a id='instrum:fig:altaz'></a><!--\\label{instrum:fig:altaz}-->\n"
   ]
  },
  {
   "cell_type": "markdown",
   "metadata": {},
   "source": [
    "![](figures/EquatorialAntennaRotation.png)\n",
    "\n",
    "**Figure 7.7.3**: 观测过程中，赤道式天线波束和天空的相对旋转。Relative rotation of the beam and the sky during the course of an observation, for an antenna with an equatorial mount. <a id='instrum:fig:equatorial'></a><!--\\label{instrum:fig:equatorial}-->"
   ]
  },
  {
   "cell_type": "markdown",
   "metadata": {},
   "source": [
    "### 7.7.2 视差角Parallactic angle <a id='instrum:sec:pa'></a><!--\\label{instrum:sec:pa}-->"
   ]
  },
  {
   "cell_type": "markdown",
   "metadata": {},
   "source": [
    "视差角是天球上两个大圆间的夹角：一个是经过源跟天顶的大圆，另一个是经过源跟北天极的大圆。\n",
    "\n",
    "The *parallactic angle* is the spherical angle between two great circles on the celestial sphere - one passing through the source and the zenith, and the other passing through the source and the north celestial pole."
   ]
  },
  {
   "cell_type": "markdown",
   "metadata": {},
   "source": [
    "![](figures/ParallacticAngle.png)\n",
    "\n",
    "**Figure 7.7.4**: 视差角 Parallactic angle <a id='instrum:fig:pa'></a><!--\\label{instrum:fig:pa}-->\n",
    "\n",
    "视差角公式：\n",
    "\n",
    "The parallactic angle is given by\n",
    "\n",
    "$$\n",
    "q = \\arctan \\bigg( \\frac{\\sin(HA)}{\\tan(L_a)\\cos(\\delta)-\\sin(\\delta)\\cos(HA)} \\bigg) \n",
    "$$\n",
    "\n",
    "$q$ 为视差角\n",
    "$HA$ 为源的时角\n",
    "$\\delta$ 为源的赤纬\n",
    "$L_a$ 为望远镜的纬度\n",
    "\n",
    "where \n",
    "\n",
    "$q$ is the parallactic angle,\n",
    "\n",
    "$HA$ is the hour angle of the source,\n",
    "\n",
    "$\\delta$ is the declination of the source,\n",
    "\n",
    "$L_a$ is the latitude of the observer."
   ]
  },
  {
   "cell_type": "markdown",
   "metadata": {},
   "source": [
    "***\n",
    "\n",
    "* [Outline](../0_Introduction/0_introduction.ipynb)\n",
    "* [Glossary](../0_Introduction/1_glossary.ipynb)\n",
    "* [7. Observing Systems](7_0_introduction.ipynb)  \n",
    "    * Previous: [7.4 Digital Correlators](7_4_digital.ipynb)\n",
    "    * Next: [7.6 Polarization and Antenna Feeds](7_6_polarization.ipynb)\n",
    "    \n",
    "***"
   ]
  },
  {
   "cell_type": "code",
   "execution_count": null,
   "metadata": {
    "collapsed": true
   },
   "outputs": [],
   "source": []
  }
 ],
 "metadata": {
  "kernelspec": {
   "display_name": "Python 3",
   "language": "python",
   "name": "python3"
  },
  "language_info": {
   "codemirror_mode": {
    "name": "ipython",
    "version": 3
   },
   "file_extension": ".py",
   "mimetype": "text/x-python",
   "name": "python",
   "nbconvert_exporter": "python",
   "pygments_lexer": "ipython3",
   "version": "3.6.9"
  }
 },
 "nbformat": 4,
 "nbformat_minor": 1
}
