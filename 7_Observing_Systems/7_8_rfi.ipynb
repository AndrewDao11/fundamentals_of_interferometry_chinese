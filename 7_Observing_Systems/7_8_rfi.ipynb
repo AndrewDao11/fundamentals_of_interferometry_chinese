{
 "cells": [
  {
   "cell_type": "markdown",
   "metadata": {},
   "source": [
    "***\n",
    "\n",
    "* [Outline](../0_Introduction/0_introduction.ipynb)\n",
    "* [Glossary](../0_Introduction/1_glossary.ipynb)\n",
    "* [7. Observing Systems](7_0_introduction.ipynb)  \n",
    "    * Previous: [7.7 Propagation Effects](7_7_propagation_effects.ipynb)\n",
    "    * Next: [7.x Further Reading and References](7_x_further_reading_and_references.ipynb)\n",
    "    \n",
    "***"
   ]
  },
  {
   "cell_type": "markdown",
   "metadata": {},
   "source": [
    "Import standard modules:"
   ]
  },
  {
   "cell_type": "code",
   "execution_count": null,
   "metadata": {},
   "outputs": [],
   "source": [
    "import numpy as np\n",
    "import matplotlib.pyplot as plt\n",
    "%matplotlib inline\n",
    "from IPython.display import HTML \n",
    "HTML('../style/course.css') #apply general CSS"
   ]
  },
  {
   "cell_type": "markdown",
   "metadata": {},
   "source": [
    "Import section specific modules:"
   ]
  },
  {
   "cell_type": "code",
   "execution_count": null,
   "metadata": {
    "collapsed": true
   },
   "outputs": [],
   "source": [
    "HTML('../style/code_toggle.html')"
   ]
  },
  {
   "cell_type": "markdown",
   "metadata": {
    "collapsed": true
   },
   "source": [
    "## 7.8 Radio Frequency Interference (RFI) <a id='instrum:sec:rfi'></a> <a id='instrum:sec:7_8'></a><!--\\label{instrum:sec:7_8}-->"
   ]
  },
  {
   "cell_type": "markdown",
   "metadata": {},
   "source": [
    "**TODO:**\n",
    "\n",
    "* introduce RFI\n",
    "* what are the causes of RFI?\n",
    "* what are the typical types? wideband, narrow band, intermittent\n",
    "* example: bandpass RFI plot for auto correlation and cross-correlations\n",
    "* example: amp vs freq plots\n",
    "* example: RFI spectrum of KAT site (chris)\n",
    "* how does it affects electronics\n",
    "* introduce flagging/masking: manual, automated\n",
    "* example: image with RFI source not flagged"
   ]
  },
  {
   "cell_type": "markdown",
   "metadata": {},
   "source": [
    "RFI属于人造无线电信号，有多种不同的呈现方式，但是都会使接收到的天空信号质量降低。许多政府都对无线频谱进行了分配管理，一部分公用，一部分卖给企业，这就在环境中引入了RFI。FM（89-110 MHz）和GSM（900MH和1.8GHz）是典型的RFI源。只覆盖几个频道的RFI是“窄带”RFI，覆盖整个观测波段的RFI是“宽带”RFI。”占空比duty cycle“是RFI源的一个重要参数，是RFI信号时长跟观测时长之比。如果RFI信号一直存在，则占空比为1。如果RFI的占空比为1，窄带，而且频率跟我们关注的天空信号的频率不同，则可以对其进行管理。在模拟信号阶段用陷波滤波器对RFI信号进行衰减，或者在数字化以后，把相应频段“标注flag”为不可用。如果RFI的占空比接近或等于1，宽带，则几乎没有抑制RFI的有效办法，没法从中获得天空信号。然而，如果宽带RFI信号的占空比很低，即RFI的时间很短，则可以把相应时段的整个频段进行标注，尽量减小望远镜灵敏度的损失。飞机雷达是典型的宽带信号，信号很强，但在波束中移动很快。\n",
    "\n",
    "\n",
    "RFI is a class of human-made radio signals which take on a number of different forms, but all of which cause a degradation of the recorded sky signal. Many governments allocate the radio spectrum, and use it as a common utility or sell off sections of the spectrum to companies. The use of these spectrum allocations introduce RFI into the environment. Typical RFI sources are FM radio (89-110 MHz) and GSM mobile (around 900 MHz and 1.8 GHz).\n",
    "RFI is characterized as being 'narrow'-band where the RFI is on the scale of a few frequency channels, and 'wide'-band where the RFI dominates most of the observed spectrum. An RFI source will also have a *duty cycle*, which is the time-averaged ratio of time in which that RFI signal is on or detectable to the observing time.\n",
    "If a signal is always detectable then it will have a duty cycle of 1. An RFI signal with a duty cycle of 1 is manageable if that signal is narrow band, and we are not interested in the sky signal at that frequency. The signal can be managed by either introducing a notch filter to attenuate the signal in the analogue path, or digitize the signal and 'flag' the frequency channels as not usable. If an RFI signal is wide band with a duty cycle near or at 1, then little can be done to suppress that signal and pick out the sky signal. But, if the duty cycle of the wide band signal is low then the entire band can be flagged for that short time period with a minimal loss to the sensitivity. A typical wide band signal is aircraft RADAR, which is very strong, but moves quickly through the beam."
   ]
  },
  {
   "cell_type": "markdown",
   "metadata": {},
   "source": [
    "***\n",
    "\n",
    "* [Outline](../0_Introduction/0_introduction.ipynb)\n",
    "* [Glossary](../0_Introduction/1_glossary.ipynb)\n",
    "* [7. Observing Systems](7_0_introduction.ipynb)  \n",
    "    * Previous: [7.7 Propagation Effects](7_7_propagation_effects.ipynb)\n",
    "    * Next: [7.x Further Reading and References](7_x_further_reading_and_references.ipynb)\n",
    "    \n",
    "***"
   ]
  },
  {
   "cell_type": "code",
   "execution_count": null,
   "metadata": {
    "collapsed": true
   },
   "outputs": [],
   "source": []
  }
 ],
 "metadata": {
  "kernelspec": {
   "display_name": "Python 3",
   "language": "python",
   "name": "python3"
  },
  "language_info": {
   "codemirror_mode": {
    "name": "ipython",
    "version": 3
   },
   "file_extension": ".py",
   "mimetype": "text/x-python",
   "name": "python",
   "nbconvert_exporter": "python",
   "pygments_lexer": "ipython3",
   "version": "3.6.9"
  }
 },
 "nbformat": 4,
 "nbformat_minor": 1
}
