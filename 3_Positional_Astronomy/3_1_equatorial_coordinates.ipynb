{
 "cells": [
  {
   "cell_type": "markdown",
   "metadata": {},
   "source": [
    "***\n",
    "\n",
    "* [Outline](../0_Introduction/0_introduction.ipynb)\n",
    "* [Glossary](../0_Introduction/1_glossary.ipynb)\n",
    "* [Positional Astronomy](3_0_introduction.ipynb)  \n",
    "    * Previous: [Introduction](3_0_introduction.ipynb) \n",
    "    * Next: [Hour Angle and Local Sidereal Time](3_2_hour_angle.ipynb)\n",
    "\n",
    "***"
   ]
  },
  {
   "cell_type": "markdown",
   "metadata": {},
   "source": [
    "Import standard modules:"
   ]
  },
  {
   "cell_type": "code",
   "execution_count": 1,
   "metadata": {},
   "outputs": [
    {
     "data": {
      "text/html": [
       "<style>\n",
       "\n",
       "p.prerequisites {\n",
       "    border:5px;\n",
       "    border-style:none;\n",
       "    background-color:#F0F0F0;\n",
       "    box-shadow: 5px 5px 2px #888888;\n",
       "    border-color:#FF0000;\n",
       "    padding: 1em;\n",
       "    }\n",
       "\n",
       "p.conclusion {\n",
       "    border:5px;\n",
       "    border-style:none;\n",
       "    background-color:#c8ebca;\n",
       "    box-shadow: 5px 5px 2px #888888;\n",
       "    border-color:#c8ebca;\n",
       "    padding: 1em;\n",
       "    }\n",
       "\n",
       "div.warn {    \n",
       "    background-color: #fcf2f2;\n",
       "    border-color: #dFb5b4;\n",
       "    border-left: 5px solid #dfb5b4;\n",
       "    padding: 0.5em;\n",
       "    }\n",
       "\n",
       "div.advice {    \n",
       "    background-color: #ecf8ed;\n",
       "    border-color: #a2dda5;\n",
       "    border-left: 5px solid #a2dda5;\n",
       "    padding: 0.5em;\n",
       "    }\n",
       "\n",
       "</style>\n",
       "\n"
      ],
      "text/plain": [
       "<IPython.core.display.HTML object>"
      ]
     },
     "execution_count": 1,
     "metadata": {},
     "output_type": "execute_result"
    }
   ],
   "source": [
    "import numpy as np\n",
    "import matplotlib.pyplot as plt\n",
    "%matplotlib inline\n",
    "from IPython.display import HTML \n",
    "HTML('../style/course.css') #apply general CSS"
   ]
  },
  {
   "cell_type": "code",
   "execution_count": 2,
   "metadata": {},
   "outputs": [
    {
     "ename": "ModuleNotFoundError",
     "evalue": "No module named 'healpy'",
     "output_type": "error",
     "traceback": [
      "\u001b[0;31m---------------------------------------------------------------------------\u001b[0m",
      "\u001b[0;31mModuleNotFoundError\u001b[0m                       Traceback (most recent call last)",
      "\u001b[0;32m<ipython-input-2-eb99a62f90af>\u001b[0m in \u001b[0;36m<module>\u001b[0;34m()\u001b[0m\n\u001b[1;32m      1\u001b[0m \u001b[0;32mfrom\u001b[0m \u001b[0mIPython\u001b[0m\u001b[0;34m.\u001b[0m\u001b[0mdisplay\u001b[0m \u001b[0;32mimport\u001b[0m \u001b[0mHTML\u001b[0m\u001b[0;34m\u001b[0m\u001b[0;34m\u001b[0m\u001b[0m\n\u001b[1;32m      2\u001b[0m \u001b[0mHTML\u001b[0m\u001b[0;34m(\u001b[0m\u001b[0;34m'../style/code_toggle.html'\u001b[0m\u001b[0;34m)\u001b[0m\u001b[0;34m\u001b[0m\u001b[0;34m\u001b[0m\u001b[0m\n\u001b[0;32m----> 3\u001b[0;31m \u001b[0;32mimport\u001b[0m \u001b[0mhealpy\u001b[0m \u001b[0;32mas\u001b[0m \u001b[0mhp\u001b[0m \u001b[0;31m#处理球面数据的python包\u001b[0m\u001b[0;34m\u001b[0m\u001b[0;34m\u001b[0m\u001b[0m\n\u001b[0m\u001b[1;32m      4\u001b[0m \u001b[0mget_ipython\u001b[0m\u001b[0;34m(\u001b[0m\u001b[0;34m)\u001b[0m\u001b[0;34m.\u001b[0m\u001b[0mmagic\u001b[0m\u001b[0;34m(\u001b[0m\u001b[0;34m'pylab inline'\u001b[0m\u001b[0;34m)\u001b[0m\u001b[0;34m\u001b[0m\u001b[0;34m\u001b[0m\u001b[0m\n\u001b[1;32m      5\u001b[0m \u001b[0mpylab\u001b[0m\u001b[0;34m.\u001b[0m\u001b[0mrcParams\u001b[0m\u001b[0;34m[\u001b[0m\u001b[0;34m'figure.figsize'\u001b[0m\u001b[0;34m]\u001b[0m \u001b[0;34m=\u001b[0m \u001b[0;34m(\u001b[0m\u001b[0;36m15\u001b[0m\u001b[0;34m,\u001b[0m \u001b[0;36m10\u001b[0m\u001b[0;34m)\u001b[0m\u001b[0;34m\u001b[0m\u001b[0;34m\u001b[0m\u001b[0m\n",
      "\u001b[0;31mModuleNotFoundError\u001b[0m: No module named 'healpy'"
     ]
    }
   ],
   "source": [
    "from IPython.display import HTML\n",
    "HTML('../style/code_toggle.html')\n",
    "import healpy as hp #处理球面数据的python包\n",
    "%pylab inline\n",
    "pylab.rcParams['figure.figsize'] = (15, 10)\n",
    "import matplotlib\n",
    "import ephem"
   ]
  },
  {
   "cell_type": "markdown",
   "metadata": {},
   "source": [
    "## 赤道坐标系 Equatorial Coordinates (RA/DEC)"
   ]
  },
  {
   "cell_type": "markdown",
   "metadata": {},
   "source": [
    "### 天球 The Celestial Sphere"
   ]
  },
  {
   "cell_type": "markdown",
   "metadata": {},
   "source": [
    "我们可以用地理坐标系唯一标识地球上的某个位置，通常用“纬度”$L_a$度量南北，“经度” $L_o$ 度量东西。赤道坐标系如图3.1.1。\n",
    "\n",
    "We can use a geographical coordinate system to uniquely identify a position on earth. We normally use the coordinates *latitude* $L_a$ (to measure north and south) and *longitude* $L_o$ (to measure east and west) to accomplish this. The equatorial coordinate system is  depicted in Figure 3.1.1."
   ]
  },
  {
   "cell_type": "markdown",
   "metadata": {},
   "source": [
    "</a> <img src='figures/geo.svg' width=60%>"
   ]
  },
  {
   "cell_type": "markdown",
   "metadata": {},
   "source": [
    "*Figure 3.1.1*: The geographical coordinates latitude $L_a$ and longitude $L_o$."
   ]
  },
  {
   "cell_type": "markdown",
   "metadata": {},
   "source": [
    "同样的，我们也需要用坐标系来映射天体目标。出于各种理由和目的，我们把宇宙投影到任意半径的球体上。该球体环绕在地球周围，被称作“天球”。然而，这并不是宇宙的真实情况，只是一种近似。“天赤道”是地球地球赤道在天球上的投影。恒星本身不会在天球上移动，因此在天球上有一个固定的位置。但太阳是一个例外，它在一年中以周期方式改变位置（类似地球绕太阳的轨道运动），其路径投影到天球上被称为“黄道”。\n",
    "\n",
    "We also require a coordinate system to map the celestial objects. For all intents and purposes we may think of our universe as being projected onto a sphere of arbitrary radius. This sphere surrounds the Earth and is known as the *celestial sphere*. This is not a true representation of our universe, but it is a very useful approximate astronomical construct. The *celestial equator* is obtained by projecting the equator of the earth onto the celestial sphere. The stars themselves do not move on the celestial sphere and therefore have a unique location on it. The Sun is an exception, it changes position in a periodic fashion during the year (as the Earth orbits around the Sun). The path it traverses on the celestial sphere is known as the *ecliptic*.\n",
    "\n",
    "### 北天极NCP和南天极SCP The NCP and SCP\n",
    "\n",
    "北天极“north celestial pole （NCP）” 是天球上的一个重要位置，地球北极投影到天球上得到北天极。“北极星Polaris”非常靠近NCP,可以作为望远镜的参考指向。\n",
    "\n",
    "\n",
    "The *north celestial pole* (NCP) is an important location on the celestial sphere and is obtained by projecting the north pole of the earth onto the celestial sphere. The star *Polaris* is very close to the NCP and serves as a reference when positioning a telescope.\n",
    "\n",
    "同理得到南天极“south celestial pole(SCP)\" 。南天球上跟北极星对应的是“Sigma Octanis\"。天赤道和地球赤道共面，因为天赤道是地球赤道在天球上的投影。\n",
    "\n",
    "The *south celestial pole* (SCP) is obtained in a similar way. The imaginary circle known as the *celestial equator* is in the same plane as the equator of the earth and is obtained by projecting the equator of the earth onto the celestial sphere. The southern hemisphere counterpart of Polaris is *Sigma Octanis*.\n",
    "\n",
    "我们根据天赤道上的一个参考点来测量其它天体的位置，这个点叫\"春分点first point of aries/vernal equinox\"。黄道和天赤道相交，其中黄道由南向北穿过天赤道的点为春分点，由北向南穿过天赤道的点为秋分点。细节见<a class='pos_sec_lst_eq'></a> <!--\\ref{pos:sec:lst}-->。\n",
    "\n",
    "We use a specific point on the celestial equator from which we measure the location of all other celestial objects. This point is known as the *first point of Aries* ($\\gamma$) <!--\\vernal--> or the *vernal equinox*. The *vernal equinox* is the point where \n",
    "the ecliptic intersects the celestial equator (south to north). We discuss the vernal equinox in more detail in <a class='pos_sec_lst_eq'></a> <!--\\ref{pos:sec:lst}-->.  \n",
    "\n",
    "### 坐标系定义 Coordinate Definitions\n",
    "\n",
    "我们用”赤道坐标“来唯一确定与天球一起，以SCP/NCP为轴转动的天体位置。\n",
    "\n",
    "We use the *equatorial coordinates* to uniquely identify the location of celestial objects rotating with the celestial sphere around the SCP/NCP axis.\n",
    "\n",
    "\"赤经 $\\alpha$ \"---在天球上，穿过北天极跟天体的大圆圈称为该天体的”时圈“，时圈跟天赤道垂直相交。春分点时圈跟天体时圈间的角距离（由西向东），称为赤经，用”时分秒“度量，比如 $\\alpha = 03^\\text{h}13^\\text{m}32.5^\\text{s}$。整个天球的赤经范围为360度，从 $\\alpha = 00^\\text{h}00^\\text{m}00^\\text{s}$ (春分点 $\\gamma$) 到 $\\alpha = 23^\\text{h}59^\\text{m}59^\\text{s}$\n",
    "\n",
    "The *Right Ascension* $\\alpha$ - We define the *hour circle* of an object as the circle on the celestial sphere that crosses the NCP and the object itself, while also perpendicularly intersecting with the celestial equator. The right ascension of an object is the angular distance between the vernal equinox and the hour circle of a celestial object measured along the celestial equator and is measured eastward. It is measured in **Hours Minutes Seconds** (e.g. $\\alpha = 03^\\text{h}13^\\text{m}32.5^\\text{s}$) and spans $360^\\circ$ on the celestial sphere from $\\alpha = 00^\\text{h}00^\\text{m}00^\\text{s}$ (the coordinates of $\\gamma$) to $\\alpha = 23^\\text{h}59^\\text{m}59^\\text{s}$. \n",
    "\n",
    "”赤纬 $\\delta$“---天赤道跟天体的时圈相交，交点到该天体的角距离称为赤纬。北天球赤纬为正，南天球赤纬为负。赤纬用”度角分角秒“度量，范围从 $\\delta = -90^\\circ00'00''$ (SCP) 到 $+\\delta = 90^\\circ00'00''$ (NCP)，例如$\\delta = -15^\\circ23'44''$。\n",
    "\n",
    "The *Declination* $\\delta$ - the declination of an object is the angular distance from the celestial equator measured along its hour circle (it is positive in the northern celestial hemisphere and negative in the southern celestial hemisphere). It is measured in **Degrees Arcmin Arcsec** (e.g. $\\delta = -15^\\circ23'44''$) which spans from $\\delta = -90^\\circ00'00''$ (SCP) to $+\\delta = 90^\\circ00'00''$ (NCP).\n",
    "\n",
    "赤道坐标系如图 3.1.2。\n",
    "\n",
    "The equatorial coordinates are presented graphically in Figure 3.1.2. "
   ]
  },
  {
   "cell_type": "markdown",
   "metadata": {},
   "source": [
    "<div class=warn>\n",
    "<b>Warning:</b> As for any spherical system, the Right Ascension of the NCP ($\\delta=+90^ \\circ$) and the SCP ($\\delta=-90^ \\circ$) are ill-defined. And a source close to the any celestial pole can have an unintuitive Right Ascension.\n",
    "</div>"
   ]
  },
  {
   "cell_type": "markdown",
   "metadata": {},
   "source": [
    "<a id='pos:fig:equatorial_coordinates'></a> <!--\\label{pos:fig:equatorial_coordinates}--> <img src='figures/equatorial.svg' width=500>"
   ]
  },
  {
   "cell_type": "markdown",
   "metadata": {},
   "source": [
    "*Figure 3.1.2*: 赤道坐标的赤经$\\alpha$ 和 赤纬$\\delta$，春分点$\\gamma$。 春分点是黄道（太阳在一年中的运行轨迹，即图中的黄圈）跟天赤道的交点，The equatorial coordinates $\\alpha$ and $\\delta$. The vernal equinox $\\gamma$, the equatorial reference point is also depicted. The vernal \n",
    "equinox is the point where the ecliptic (the path the sun traverses over one year) intersects the celestial equator. <span style=\"background-color:cyan\">KT:XX: What are the green circles in the image? </span>"
   ]
  },
  {
   "cell_type": "markdown",
   "metadata": {},
   "source": [
    "<div class=warn>\n",
    "<b>注意:</b> 赤纬的1角分(如 $00^\\circ01'00''$) 不等于赤经的1分 (如 $00^\\text{h}01^\\text{m}00^\\text{s}$)。 <br> 事实上，对于赤经RA，24$^\\text{h}$时周对应的的是360$^\\circ$的圆周，因此是1h=15$^\\circ$。而1$^\\text{h}$ = 60$^\\text{m}$, 因此赤经的 $1^\\text{m} = \\frac{1^\\text{h}}{60}=\\frac{15^\\circ}{60}=0.25^\\circ=15'$。 <br>\n",
    "赤经的分和赤纬的角分不同，这点一定要小心，也就是 $\\text{RA} \\; 00^\\text{h}01^\\text{m}00^\\text{s}\\neq \\text{DEC} \\; 00^\\circ01'00''$)\n",
    "</div>\n",
    "\n",
    "\n",
    "<div class=warn>\n",
    "<b>Warning:</b> One arcminute of the declination axis (e.g. $00^\\circ01'00''$) is not equal to one <em>minute</em> in right ascension axis (e.g. $00^\\text{h}01^\\text{m}00^\\text{s}$). <br>\n",
    "Indeed, in RA, the 24$^\\text{h}$ circle is mapped to a 360$^\\circ$ circle meaning that 1 hour spans over a section of 15$^\\circ$. And as 1$^\\text{h}$ is 60$^\\text{m}$, therefore 1$^\\text{m}$ in RA correspond to $1^\\text{m} = \\frac{1^\\text{h}}{60}=\\frac{15^\\circ}{60}=0.25'$. <br>\n",
    "You should be careful about this **factor of 4 difference between RA min and DEC arcmin** (i.e. $\\text{RA} \\; 00^\\text{h}01^\\text{m}00^\\text{s}\\neq \\text{DEC} \\; 00^\\circ01'00''$)\n",
    "</div>"
   ]
  },
  {
   "cell_type": "markdown",
   "metadata": {},
   "source": [
    "### B1950 and J2000"
   ]
  },
  {
   "cell_type": "markdown",
   "metadata": {},
   "source": [
    "接下来，我们将利用 [<cite data-cite=''>`pyephem` package</cite> &#10548;](http://rhodesmill.org/pyephem/quick.html#body-compute-date)软件包来学习并理解一些理论和概念。用到类有两个：”Observer\"和 \"Body\"，其中\"Observer\"表示射电阵列，\"Body\"表示观测天体。本节我们只用到了\"Body\"类。\n",
    "\n",
    "We will be making use of the [<cite data-cite=''>`pyephem` package</cite> &#10548;](http://rhodesmill.org/pyephem/quick.html#body-compute-date) package in the rest of this chapter to help us clarify and better understand some theoretical concepts. The two classes we will be using are the `Observer` and the `Body` class. The `Observer` class acts as a proxy for an array, while the `Body` class embodies a specific celestial object. In this section we will only make use of the `Body` class.      "
   ]
  },
  {
   "cell_type": "markdown",
   "metadata": {},
   "source": [
    "本节前面提到，天体不会在天球上移动，因此有固定的赤道坐标，但这并不完全正确。由于地球存在“岁差”（地球自转轴指向的缓慢变化），恒星在天球上的位置也会相应发生微小改变。因此，我们在给出星表中某天体的赤道坐标时，还必须说明出自哪个观测历元（一个特定时刻），以该时刻作为起始点，计算出该天体的当前坐标。有两种常用的历元，J2000和B1950，参见 [<cite data-cite=''>UT (世界时)</cite> &#10548;](https://en.wikipedia.org/wiki/Universal_Time)：\n",
    "* B1950 - 1949/12/31 22:09:50 UT,\n",
    "* J2000 - 2000/1/1 12:00:00 UT.\n",
    "\n",
    "Earlier in this section I mentioned that the celestial objects do not move on the celestial sphere and therefore have fixed equatorial coordinates. This is not entirely true. Due to the *precession* (the change in the orientation of the earth's rotational axis) the location of the stars do in fact change minutely during the course of one generation. That is why we need to link the equatorial coordinates of a celestial object in a catalogue to a specific observational epoch (a specific instant in time). We can then easily compute the true coordinates as they would be today given the equatorial coordinates from a specific epoch as a starting point. There are two popular epochs that are often used, namely J2000  and B1950. Expressed in [<cite data-cite=''>UT (Universal Time)</cite> &#10548;](https://en.wikipedia.org/wiki/Universal_Time):\n",
    "* B1950 - 1949/12/31 22:09:50 UT,\n",
    "* J2000 - 2000/1/1 12:00:00 UT.\n",
    "\n",
    "“B\"和”J“分别是”Besselian贝塞耳\"年和\"Julian儒略\"年的缩写。它们暗示了在用J2000和B1950作为计算起点时刻时，一年有多长。Besselian年基于 [<cite data-cite=''>热带年</cite> &#10548;]的概念(https://en.wikipedia.org/wiki/Tropical_year)，现在不再使用，Julian年的一年长度为365.25天。下面用\"pyephem\"代码算出了“Arcturus大角星”的J2000和B1950的赤道坐标。\n",
    "\n",
    "The 'B' and the 'J'  serve as a shorthand for the *Besselian* year and the *Julian* year respectively. They indicate the lenght of time used to measure one year while choosing the exact instant in time associated with J2000 and B1950. The Besselian year is based on the concept of a [<cite data-cite=''>tropical year</cite> &#10548;](https://en.wikipedia.org/wiki/Tropical_year) and is not used anymore. The Julian year consists of 365.25 days. In the code snippet below we use `pyephem` to determine the J2000 and B1950 equatorial coordinates of *Arcturus*.      "
   ]
  },
  {
   "cell_type": "code",
   "execution_count": 1,
   "metadata": {},
   "outputs": [
    {
     "ename": "NameError",
     "evalue": "name 'ephem' is not defined",
     "output_type": "error",
     "traceback": [
      "\u001b[0;31m---------------------------------------------------------------------------\u001b[0m",
      "\u001b[0;31mNameError\u001b[0m                                 Traceback (most recent call last)",
      "\u001b[0;32m<ipython-input-1-f117316a5c48>\u001b[0m in \u001b[0;36m<module>\u001b[0;34m()\u001b[0m\n\u001b[0;32m----> 1\u001b[0;31m \u001b[0marcturus\u001b[0m \u001b[0;34m=\u001b[0m \u001b[0mephem\u001b[0m\u001b[0;34m.\u001b[0m\u001b[0mstar\u001b[0m\u001b[0;34m(\u001b[0m\u001b[0;34m'Arcturus'\u001b[0m\u001b[0;34m)\u001b[0m\u001b[0;34m\u001b[0m\u001b[0;34m\u001b[0m\u001b[0m\n\u001b[0m\u001b[1;32m      2\u001b[0m \u001b[0marcturus\u001b[0m\u001b[0;34m.\u001b[0m\u001b[0mcompute\u001b[0m\u001b[0;34m(\u001b[0m\u001b[0;34m'2016/2/8'\u001b[0m\u001b[0;34m,\u001b[0m\u001b[0mepoch\u001b[0m\u001b[0;34m=\u001b[0m\u001b[0mephem\u001b[0m\u001b[0;34m.\u001b[0m\u001b[0mJ2000\u001b[0m\u001b[0;34m)\u001b[0m\u001b[0;34m\u001b[0m\u001b[0;34m\u001b[0m\u001b[0m\n\u001b[1;32m      3\u001b[0m \u001b[0mprint\u001b[0m\u001b[0;34m(\u001b[0m\u001b[0;34m'J2000: RA:%s DEC:%s'\u001b[0m \u001b[0;34m%\u001b[0m \u001b[0;34m(\u001b[0m\u001b[0marcturus\u001b[0m\u001b[0;34m.\u001b[0m\u001b[0mra\u001b[0m\u001b[0;34m,\u001b[0m \u001b[0marcturus\u001b[0m\u001b[0;34m.\u001b[0m\u001b[0mdec\u001b[0m\u001b[0;34m)\u001b[0m\u001b[0;34m)\u001b[0m\u001b[0;34m\u001b[0m\u001b[0;34m\u001b[0m\u001b[0m\n\u001b[1;32m      4\u001b[0m \u001b[0marcturus\u001b[0m\u001b[0;34m.\u001b[0m\u001b[0mcompute\u001b[0m\u001b[0;34m(\u001b[0m\u001b[0;34m'2016/2/8'\u001b[0m\u001b[0;34m,\u001b[0m \u001b[0mepoch\u001b[0m\u001b[0;34m=\u001b[0m\u001b[0mephem\u001b[0m\u001b[0;34m.\u001b[0m\u001b[0mB1950\u001b[0m\u001b[0;34m)\u001b[0m\u001b[0;34m\u001b[0m\u001b[0;34m\u001b[0m\u001b[0m\n\u001b[1;32m      5\u001b[0m \u001b[0mprint\u001b[0m\u001b[0;34m(\u001b[0m\u001b[0;34m'B1950: RA:%s DEC:%s'\u001b[0m \u001b[0;34m%\u001b[0m \u001b[0;34m(\u001b[0m\u001b[0marcturus\u001b[0m\u001b[0;34m.\u001b[0m\u001b[0ma_ra\u001b[0m\u001b[0;34m,\u001b[0m \u001b[0marcturus\u001b[0m\u001b[0;34m.\u001b[0m\u001b[0ma_dec\u001b[0m\u001b[0;34m)\u001b[0m\u001b[0;34m)\u001b[0m\u001b[0;34m\u001b[0m\u001b[0;34m\u001b[0m\u001b[0m\n",
      "\u001b[0;31mNameError\u001b[0m: name 'ephem' is not defined"
     ]
    }
   ],
   "source": [
    "arcturus = ephem.star('Arcturus')\n",
    "arcturus.compute('2016/2/8',epoch=ephem.J2000)\n",
    "print('J2000: RA:%s DEC:%s' % (arcturus.ra, arcturus.dec))\n",
    "arcturus.compute('2016/2/8', epoch=ephem.B1950)\n",
    "print('B1950: RA:%s DEC:%s' % (arcturus.a_ra, arcturus.a_dec))"
   ]
  },
  {
   "cell_type": "markdown",
   "metadata": {},
   "source": [
    "### 例子：408兆赫兹的Haslam图 Example: The 408 MHz Haslam Map"
   ]
  },
  {
   "cell_type": "markdown",
   "metadata": {},
   "source": [
    "最后，我们用本节所学概念来正确解读射电天图。我们将在 [<cite data-cite=''>Haslam 408 MHz map</cite> &#10548;](https://lambda.gsfc.nasa.gov/product/foreground/fg_haslam_get.cfm)标注出几个射电源。将用到[<cite data-cite=''>`healpy` package</cite> &#10548;](https://healpy.readthedocs.io/en/latest/)的两个函数`read_map`和`cartview`，用`read_map`导入Haslam图，用`cartview`显示。\n",
    "\n",
    "To finish things off, let's make sure that given the concepts we have learned in this section we are able to interpret a radio skymap correctly. We will be plotting and inspecting the [<cite data-cite=''>Haslam 408 MHz map</cite> &#10548;](https://lambda.gsfc.nasa.gov/product/foreground/fg_haslam_get.cfm). We load the Haslam map with `read_map` and view it with `cartview`. These two functions form part of the [<cite data-cite=''>`healpy` package</cite> &#10548;](https://healpy.readthedocs.io/en/latest/).      "
   ]
  },
  {
   "cell_type": "code",
   "execution_count": 4,
   "metadata": {},
   "outputs": [
    {
     "ename": "NameError",
     "evalue": "name 'hp' is not defined",
     "output_type": "error",
     "traceback": [
      "\u001b[0;31m---------------------------------------------------------------------------\u001b[0m",
      "\u001b[0;31mNameError\u001b[0m                                 Traceback (most recent call last)",
      "\u001b[0;32m<ipython-input-4-bec9c809ecac>\u001b[0m in \u001b[0;36m<module>\u001b[0;34m()\u001b[0m\n\u001b[0;32m----> 1\u001b[0;31m \u001b[0mhaslam\u001b[0m \u001b[0;34m=\u001b[0m \u001b[0mhp\u001b[0m\u001b[0;34m.\u001b[0m\u001b[0mread_map\u001b[0m\u001b[0;34m(\u001b[0m\u001b[0;34m'../data/fits/haslam/lambda_haslam408_nofilt.fits'\u001b[0m\u001b[0;34m)\u001b[0m\u001b[0;34m\u001b[0m\u001b[0;34m\u001b[0m\u001b[0m\n\u001b[0m",
      "\u001b[0;31mNameError\u001b[0m: name 'hp' is not defined"
     ]
    }
   ],
   "source": [
    "haslam = hp.read_map('../data/fits/haslam/lambda_haslam408_nofilt.fits')\n"
   ]
  },
  {
   "cell_type": "code",
   "execution_count": null,
   "metadata": {
    "collapsed": true
   },
   "outputs": [],
   "source": [
    "matplotlib.rcParams.update({'font.size': 10})\n",
    "proj_map = hp.cartview(haslam,coord=['G','C'], max=2e5, xsize=2000,return_projected_map=True,title=\"Haslam 408 MHz with no filtering\",cbar=False)\n",
    "hp.graticule()"
   ]
  },
  {
   "cell_type": "markdown",
   "metadata": {},
   "source": [
    "同时，`cartview`能生成一个2维的`numpy`数组的投影图，接下来，我们用`matplotlib` ( <a class='pos_fig_haslam_eq'></a> <!--\\ref{pos:fig:haslam}-->)，重画这个投影图，代码如下：\n",
    "\n",
    "The `cartview` function also produces a projected map as a byproduct (it takes the form of a 2D `numpy` array). We can now replot this projected map using `matplotlib` (see <a class='pos_fig_haslam_eq'></a> <!--\\ref{pos:fig:haslam}-->). We do so in the code snippet that follows. "
   ]
  },
  {
   "cell_type": "code",
   "execution_count": 4,
   "metadata": {},
   "outputs": [
    {
     "ename": "NameError",
     "evalue": "name 'matplotlib' is not defined",
     "output_type": "error",
     "traceback": [
      "\u001b[0;31m---------------------------------------------------------------------------\u001b[0m",
      "\u001b[0;31mNameError\u001b[0m                                 Traceback (most recent call last)",
      "\u001b[0;32m<ipython-input-4-025cfa16a7b1>\u001b[0m in \u001b[0;36m<module>\u001b[0;34m()\u001b[0m\n\u001b[1;32m      1\u001b[0m \u001b[0mfig\u001b[0m \u001b[0;34m=\u001b[0m \u001b[0mplt\u001b[0m\u001b[0;34m.\u001b[0m\u001b[0mfigure\u001b[0m\u001b[0;34m(\u001b[0m\u001b[0;34m)\u001b[0m\u001b[0;34m\u001b[0m\u001b[0;34m\u001b[0m\u001b[0m\n\u001b[1;32m      2\u001b[0m \u001b[0max\u001b[0m \u001b[0;34m=\u001b[0m \u001b[0mfig\u001b[0m\u001b[0;34m.\u001b[0m\u001b[0madd_subplot\u001b[0m\u001b[0;34m(\u001b[0m\u001b[0;36m111\u001b[0m\u001b[0;34m)\u001b[0m\u001b[0;34m\u001b[0m\u001b[0;34m\u001b[0m\u001b[0m\n\u001b[0;32m----> 3\u001b[0;31m \u001b[0mmatplotlib\u001b[0m\u001b[0;34m.\u001b[0m\u001b[0mrcParams\u001b[0m\u001b[0;34m.\u001b[0m\u001b[0mupdate\u001b[0m\u001b[0;34m(\u001b[0m\u001b[0;34m{\u001b[0m\u001b[0;34m'font.size'\u001b[0m\u001b[0;34m:\u001b[0m \u001b[0;36m22\u001b[0m\u001b[0;34m}\u001b[0m\u001b[0;34m)\u001b[0m\u001b[0;34m\u001b[0m\u001b[0;34m\u001b[0m\u001b[0m\n\u001b[0m\u001b[1;32m      4\u001b[0m \u001b[0;34m\u001b[0m\u001b[0m\n\u001b[1;32m      5\u001b[0m \u001b[0;31m#replot the projected healpy map\u001b[0m\u001b[0;34m\u001b[0m\u001b[0;34m\u001b[0m\u001b[0;34m\u001b[0m\u001b[0m\n",
      "\u001b[0;31mNameError\u001b[0m: name 'matplotlib' is not defined"
     ]
    },
    {
     "data": {
      "image/png": "[encoded data removed]",
      "text/plain": [
       "<matplotlib.figure.Figure at 0x7fae905006d8>"
      ]
     },
     "metadata": {},
     "output_type": "display_data"
    }
   ],
   "source": [
    "fig = plt.figure()\n",
    "ax = fig.add_subplot(111)\n",
    "matplotlib.rcParams.update({'font.size': 22})\n",
    "\n",
    "#replot the projected healpy map\n",
    "ax.imshow(proj_map[::-1,:],vmax=2e5, extent=[12,-12,-90,90],aspect='auto')\n",
    "\n",
    "names = np.array([\"Vernal Equinox\",\"Cassiopeia A\",\"Sagitarius A\",\"Cygnus A\",\"Crab Nebula\",\"Fornax A\",\"Pictor A\"])\n",
    "ra = np.array([0,(23 + 23./60 + 24./3600)-24,(17 + 42./60 + 9./3600)-24,(19 + 59./60 + 28./3600)-24,5+34./60+32./3600,3+22./60+41.7/3600,5+19./60+49.7/3600])\n",
    "dec = np.array([0,58+48./60+54./3600,-28-50./60,40+44./60+2./3600,22+52./3600,-37-12./60-30./3600,-45-46./60-44./3600])\n",
    "\n",
    "#mark the positions of important radio sources\n",
    "ax.plot(ra,dec,'ro',ms=20,mfc=\"None\")\n",
    "for k in xrange(len(names)):\n",
    "    ax.annotate(names[k], xy = (ra[k],dec[k]), xytext=(ra[k]+0.8, dec[k]+5))\n",
    "\n",
    "#create userdefined axis labels and ticks\n",
    "ax.set_xlim(12,-12)\n",
    "ax.set_ylim(-90,90)\n",
    "ticks = np.array([-90,-80,-70,-60,-50,-40,-30,-20,-10,0,10,20,30,40,50,60,70,80,90])\n",
    "plt.yticks(ticks)\n",
    "ticks = np.array([12,10,8,6,4,2,0,-2,-4,-8,-6,-10,-12])\n",
    "plt.xticks(ticks)\n",
    "plt.xlabel(\"Right Ascension [$h$]\")\n",
    "plt.ylabel(\"Declination [$^{\\circ}$]\")\n",
    "plt.title(\"Haslam 408 MHz with no filtering\")\n",
    "\n",
    "#relabel the tick values\n",
    "fig.canvas.draw()\n",
    "labels = [item.get_text() for item in ax.get_xticklabels()]\n",
    "labels = np.array([\"12$^h$\",\"10$^h$\",\"8$^h$\",\"6$^h$\",\"4$^h$\",\"2$^h$\",\"0$^h$\",\"22$^h$\",\"20$^h$\",\"18$^h$\",\"16$^h$\",\"14$^h$\",\"12$^h$\"])\n",
    "ax.set_xticklabels(labels)\n",
    "labels = [item.get_text() for item in ax.get_yticklabels()]\n",
    "labels = np.array([\"-90$^{\\circ}$\",\"-80$^{\\circ}$\",\"-70$^{\\circ}$\",\"-60$^{\\circ}$\",\"-50$^{\\circ}$\",\"-40$^{\\circ}$\",\"-30$^{\\circ}$\",\"-20$^{\\circ}$\",\"-10$^{\\circ}$\",\"0$^{\\circ}$\",\"10$^{\\circ}$\",\"20$^{\\circ}$\",\"30$^{\\circ}$\",\"40$^{\\circ}$\",\"50$^{\\circ}$\",\"60$^{\\circ}$\",\"70$^{\\circ}$\",\"80$^{\\circ}$\",\"90$^{\\circ}$\"])\n",
    "ax.set_yticklabels(labels)\n",
    "ax.grid('on')"
   ]
  },
  {
   "cell_type": "markdown",
   "metadata": {},
   "source": [
    "*Figure*: 赤道坐标系的408 MHz Haslam图。大红圈标注出的是一些射电亮源的位置。 The 408 MHz Haslam map in equatorial coordinates. The location of some bright radio sources are pointed out with large black circles."
   ]
  },
  {
   "cell_type": "markdown",
   "metadata": {},
   "source": [
    "\n",
    "\n",
    "To make sure that you are able to interpret <a class='pos_fig_haslam_eq'></a> correctly try to find the \n",
    "location of Pictor A from first principles. The equatorial coordinates of Pictor A is $\\alpha = 5^\\text{h}19^\\text{m}49.7^\\text{s}$ and $\\delta = -45^\\circ 46'44''$. "
   ]
  },
  {
   "cell_type": "markdown",
   "metadata": {},
   "source": [
    "***\n",
    "\n",
    "Next: [Hour Angle and Local Sidereal Time](3_2_hour_angle.ipynb)"
   ]
  },
  {
   "cell_type": "markdown",
   "metadata": {},
   "source": [
    "<div class=warn><b>Future Additions:</b></div>\n",
    "\n",
    "* add section on converting between ECEF and geodetic coordinates, see ecef.py ; introduce ITRF coordinates"
   ]
  }
 ],
 "metadata": {
  "kernelspec": {
   "display_name": "Python 3",
   "language": "python",
   "name": "python3"
  },
  "language_info": {
   "codemirror_mode": {
    "name": "ipython",
    "version": 3
   },
   "file_extension": ".py",
   "mimetype": "text/x-python",
   "name": "python",
   "nbconvert_exporter": "python",
   "pygments_lexer": "ipython3",
   "version": "3.6.9"
  }
 },
 "nbformat": 4,
 "nbformat_minor": 2
}
