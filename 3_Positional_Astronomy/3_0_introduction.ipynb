{
 "cells": [
  {
   "cell_type": "markdown",
   "metadata": {
    "deletable": true,
    "editable": true
   },
   "source": [
    "***\n",
    "\n",
    "* [Outline](../0_Introduction/0_introduction.ipynb)\n",
    "* [Glossary](../0_Introduction/1_glossary.ipynb)\n",
    "* [3. Positional Astronomy](#)\n",
    "    * Next: [3.1 Equatorial Coordinates (RA, Dec)](3_1_equatorial_coordinates.ipynb)\n",
    "\n",
    "***"
   ]
  },
  {
   "cell_type": "markdown",
   "metadata": {
    "deletable": true,
    "editable": true
   },
   "source": [
    "Import standard modules:"
   ]
  },
  {
   "cell_type": "code",
   "execution_count": 69,
   "metadata": {
    "collapsed": false,
    "deletable": true,
    "editable": true
   },
   "outputs": [
    {
     "data": {
      "text/html": [
       "<style>\n",
       "\n",
       "p.prerequisites {\n",
       "    border:5px;\n",
       "    border-style:none;\n",
       "    background-color:#F0F0F0;\n",
       "    box-shadow: 5px 5px 2px #888888;\n",
       "    border-color:#FF0000;\n",
       "    padding: 1em;\n",
       "    }\n",
       "\n",
       "p.conclusion {\n",
       "    border:5px;\n",
       "    border-style:none;\n",
       "    background-color:#c8ebca;\n",
       "    box-shadow: 5px 5px 2px #888888;\n",
       "    border-color:#c8ebca;\n",
       "    padding: 1em;\n",
       "    }\n",
       "\n",
       "div.warn {    \n",
       "    background-color: #fcf2f2;\n",
       "    border-color: #dFb5b4;\n",
       "    border-left: 5px solid #dfb5b4;\n",
       "    padding: 0.5em;\n",
       "    }\n",
       "\n",
       "div.advice {    \n",
       "    background-color: #ecf8ed;\n",
       "    border-color: #a2dda5;\n",
       "    border-left: 5px solid #a2dda5;\n",
       "    padding: 0.5em;\n",
       "    }\n",
       "\n",
       "</style>\n",
       "\n"
      ],
      "text/plain": [
       "<IPython.core.display.HTML object>"
      ]
     },
     "execution_count": 69,
     "metadata": {},
     "output_type": "execute_result"
    }
   ],
   "source": [
    "import numpy as np\n",
    "import matplotlib.pyplot as plt\n",
    "%matplotlib inline\n",
    "from IPython.display import HTML \n",
    "HTML('../style/course.css') #apply general CSS"
   ]
  },
  {
   "cell_type": "markdown",
   "metadata": {
    "deletable": true,
    "editable": true
   },
   "source": [
    "Import section specific modules:"
   ]
  },
  {
   "cell_type": "markdown",
   "metadata": {
    "deletable": true,
    "editable": true
   },
   "source": [
    "Automatic referencing code:"
   ]
  },
  {
   "cell_type": "code",
   "execution_count": 70,
   "metadata": {
    "collapsed": false
   },
   "outputs": [],
   "source": [
    "import os, sys\n",
    "init_path = os.path.abspath(os.path.join('../init/'))\n",
    "sys.path.append(init_path)\n",
    "\n",
    "import pickle\n",
    "from incfunc import init_ipyref_filename, ipy_label, ipy_ref\n",
    "from ipywidgets import widgets\n",
    "\n",
    "ipyrefname=init_ipyref_filename()\n",
    "\n",
    "try:\n",
    "    init_ipyref\n",
    "except NameError:\n",
    "    f = open(ipyrefname, 'rb')\n",
    "    sdict = pickle.load(f)\n",
    "    f.close()\n",
    "    debug_lvl=0    \n",
    "    if debug_lvl > 10: print 'loaded', ipyrefname\n",
    "else :\n",
    "    if debug_lvl > 10: print \"Running through mainlist for updating reference\"\n",
    "\n",
    "if debug_lvl > 100:\n",
    "    print sdict.keys()\n",
    "    print sdict.values()"
   ]
  },
  {
   "cell_type": "code",
   "execution_count": 71,
   "metadata": {
    "collapsed": false
   },
   "outputs": [],
   "source": [
    "idstr='pos_chp'\n",
    "titlestr='Positional Astronomy'\n",
    "ipy_label(sdict, 'chapter', idstr, titlestr)\n",
    "idcntr='_xyz'\n",
    "stval={}\n",
    "ipy_ref(sdict, idstr, stval, idsub=idcntr, debug_lvl=debug_lvl)\n",
    "widgets.PlaceProxy(child=stval['child'], selector=('.'+stval['class']))"
   ]
  },
  {
   "cell_type": "markdown",
   "metadata": {},
   "source": [
    "# <a class='pos_chp_xyz' id='pos_chp'></a>"
   ]
  },
  {
   "cell_type": "code",
   "execution_count": 83,
   "metadata": {
    "collapsed": true
   },
   "outputs": [],
   "source": [
    "idstr='pos_sec_eq'\n",
    "idcntr='_intro'\n",
    "stval={}\n",
    "ipy_ref(sdict, idstr, stval, titlestr='', sdisplay='extfile', idsub=idcntr, debug_lvl=debug_lvl)\n",
    "widgets.PlaceProxy(child=stval['child'], selector=('.'+stval['class']))\n",
    "idstr='pos_sec_halst'\n",
    "idcntr='_intro'\n",
    "stval={}\n",
    "ipy_ref(sdict, idstr, stval, titlestr='', sdisplay='extfile', idsub=idcntr, debug_lvl=debug_lvl)\n",
    "widgets.PlaceProxy(child=stval['child'], selector=('.'+stval['class']))"
   ]
  },
  {
   "cell_type": "markdown",
   "metadata": {
    "deletable": true,
    "editable": true
   },
   "source": [
    "In this chapter we present the positional astronomy we will need to comprehend interferometry. We discuss three useful astronomical coordinate systems in this chapter.\n",
    "\n",
    "<p class=conclusion>\n",
    "  <font size=4><b> Astronomical coordinate systems </b></font>\n",
    "  <br>\n",
    "  <br>\n",
    "&bull; the <em>equatorial coordinate system</em> in <a class='pos_sec_eq_intro' href='../3_Positional_Astronomy/3_1_equatorial_coordinates.ipynb#pos_sec_eq'></a>: the equatorial coordinate system enables us to create \n",
    "<a class='pos_sec_halst_intro' href='../3_Positional_Astronomy/3_2_hour_angle.ipynb#pos_sec_halst'></a>\n",
    "astronomical catalogues, so that we can easily locate celestial objects in the night sky.\n",
    "<br><br>\n",
    "&bull; the <em>horizontal coordinate system</em> in <a href='../3_Positional_Astronomy/3_3_horizontal_coordinates.ipynb'>$\\S$ 3.3 &#10142;</a>: the horizontal coordinate system is used to point a telescope to a specific location in an observer's local sky. <br><br> \n",
    "&bull; the <em>direction cosine coordinate system</em> in <a href='../3_Positional_Astronomy/3_4_direction_cosine_coordinates.ipynb'>$\\S$ 3.4 &#10142;</a>: the direction cosine coordinate system is used to make local sky-maps around a direction of interest. It is also important in radio interferometry as it allows us to define a Fourier relationship between the sky brightness and interferometric measurements (see <a href='../4_Visibility_Space/4_0_introduction.ipynb'>$\\S$ 4 &#10142;</a>).\n",
    "</p>\n",
    "\n",
    "There are two additional concepts that are also discussed: *hour angle* and *local sidereal time*. \n",
    "\n",
    "<p class=conclusion>\n",
    "  <font size=4><b> Hour angle </b></font>\n",
    "  <br>\n",
    "  <br>\n",
    "The equatorial coordinate system is static, i.e. the positions of the stars changes very slowly. The longitude equivalent equatorial coordinate is known as <em>right ascension</em>. The stars do however move across the sky of an earth-bound observer all the time, we therefore need a mutable longitude equivalent equatorial coordinate if we wish to keep track of the stars from earth. This is exactly what the hour angle provides. The hour angle is discussed in more detail in <a href='../3_Positional_Astronomy/3_2_hour_angle.ipynb#pos:sec:ha'>$\\S$ 3.2.1 &#10142;</a>.\n",
    "</p>\n",
    "\n",
    "<p class=conclusion>\n",
    "  <font size=4><b> Local sidereal time </b></font>\n",
    "  <br>\n",
    "  <br>\n",
    "The <em>local sidereal time</em>, is the current star time of a local observer. We need a separate \"star\" clock as our normal civil clocks keep track of the Sun. The Sun and an arbitrary star take different amounts of time to reappear at the same position in the sky. We discuss this in greater detail in <a href='../3_Positional_Astronomy/3_2_hour_angle.ipynb#pos:sec:lst'>$\\S$ 3.2.2 &#10142;</a>. We use the local sidereal time to obtain the hour angle of a source from its right ascension coordinate.\n",
    "</p>\n",
    "\n",
    "In general, we do not explicitly reference any outside material in this chapter, but the reader is referred to [<cite data-cite='Duffett2011'>Practical Astronomy with your calculator or spreadsheet </cite> &#10548;](https://books.google.co.za/books?id=MTGYxQyW998C&dq=astronomy+with+your+calculator+or+spreadsheet) as it provides an in depth review of astronomical coordinate systems. It is the main (mostly silent) reference of this chapter."
   ]
  },
  {
   "cell_type": "markdown",
   "metadata": {
    "deletable": true,
    "editable": true
   },
   "source": [
    "#### Chapter Sections\n",
    "\n",
    "1. [Equatorial Coordinates (RA, Dec)](3_1_equatorial_coordinates.ipynb)\n",
    "2. [Hour Angle (HA) and Local Sidereal Time (LST)](3_2_hour_angle.ipynb)\n",
    "3. [Horizontal Coordinates (ALT,AZ)](3_3_horizontal_coordinates.ipynb)\n",
    "4. [Direction Cosine Coordinates ($l$,$m$,$n$)](3_4_direction_cosine_coordinates.ipynb)\n",
    "5. [Further Reading and References](3_x_further_reading_and_references.ipynb)"
   ]
  },
  {
   "cell_type": "markdown",
   "metadata": {
    "deletable": true,
    "editable": true
   },
   "source": [
    "#### Chapter Contributors\n",
    "\n",
    "* Trienko Grobler (3.1, 3.2, 3.3, 3.4, 3.5) <span style=\"background-color:cyan\">KT:CC:Is section 3.5 the same as 3.x, i.e. further reading and references?</span>\n",
    "* Julien Girard (3.2, Figures)"
   ]
  },
  {
   "cell_type": "markdown",
   "metadata": {
    "deletable": true,
    "editable": true
   },
   "source": [
    "#### Chapter Editors\n",
    "\n",
    "* Kshitij Thorat (2017)"
   ]
  },
  {
   "cell_type": "markdown",
   "metadata": {
    "deletable": true,
    "editable": true
   },
   "source": [
    "#### Format status:\n",
    "\n",
    "* <span style=\"background-color:green\">&nbsp;&nbsp;&nbsp;&nbsp;</span> : LF: 06/02/2017\n",
    "* <span style=\"background-color:green\">&nbsp;&nbsp;&nbsp;&nbsp;</span> : NC: 06/02/2017\n",
    "* <span style=\"background-color:green\">&nbsp;&nbsp;&nbsp;&nbsp;</span> : RF: 06/02/2017\n",
    "* <span style=\"background-color:green\">&nbsp;&nbsp;&nbsp;&nbsp;</span> : HF: 06/02/2017\n",
    "* <span style=\"background-color:green\">&nbsp;&nbsp;&nbsp;&nbsp;</span> : GM: 06/02/2017\n",
    "* <span style=\"background-color:green\">&nbsp;&nbsp;&nbsp;&nbsp;</span> : CC: 06/02/2017\n",
    "* <span style=\"background-color:green\">&nbsp;&nbsp;&nbsp;&nbsp;</span> : CL: 06/02/2017\n",
    "* <span style=\"background-color:green\">&nbsp;&nbsp;&nbsp;&nbsp;</span> : ST: 06/02/2017\n",
    "* <span style=\"background-color:green\">&nbsp;&nbsp;&nbsp;&nbsp;</span> : FN: 06/02/2017\n",
    "* <span style=\"background-color:green\">&nbsp;&nbsp;&nbsp;&nbsp;</span> : TC: 06/02/2017\n",
    "* <span style=\"background-color:green\">&nbsp;&nbsp;&nbsp;&nbsp;</span> : XX: 07/02/2017"
   ]
  },
  {
   "cell_type": "markdown",
   "metadata": {
    "deletable": true,
    "editable": true
   },
   "source": [
    "***\n",
    "\n",
    "Next: [3.1 Equatorial Coordinates (RA, Dec)](3_1_equatorial_coordinates.ipynb)"
   ]
  },
  {
   "cell_type": "markdown",
   "metadata": {
    "deletable": true,
    "editable": true
   },
   "source": [
    "<div class=warn><b>Future Additions:</b></div>\n",
    "\n",
    "* Stellarium example to show movement of sky sources from different locations on the Earth"
   ]
  }
 ],
 "metadata": {
  "kernelspec": {
   "display_name": "Python 2",
   "language": "python",
   "name": "python2"
  },
  "language_info": {
   "codemirror_mode": {
    "name": "ipython",
    "version": 2
   },
   "file_extension": ".py",
   "mimetype": "text/x-python",
   "name": "python",
   "nbconvert_exporter": "python",
   "pygments_lexer": "ipython2",
   "version": "2.7.3"
  },
  "widgets": {
   "state": {
    "3127040718aa4f3880d5436944826488": {
     "views": [
      {
       "cell_index": 6
      }
     ]
    },
    "db54a84737144126b37871be4cdacdb7": {
     "views": [
      {
       "cell_index": 8
      }
     ]
    }
   },
   "version": "1.2.0"
  }
 },
 "nbformat": 4,
 "nbformat_minor": 0
}
