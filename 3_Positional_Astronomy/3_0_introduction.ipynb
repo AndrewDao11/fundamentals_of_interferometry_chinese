{
 "cells": [
  {
   "cell_type": "markdown",
   "metadata": {},
   "source": [
    "***\n",
    "\n",
    "* [Outline](../0_Introduction/0_introduction.ipynb)\n",
    "* [Glossary](../0_Introduction/1_glossary.ipynb)\n",
    "* [Positional Astronomy](#)\n",
    "    * Next: [Equatorial Coordinates](3_1_equatorial_coordinates.ipynb)\n",
    "\n",
    "***"
   ]
  },
  {
   "cell_type": "markdown",
   "metadata": {},
   "source": [
    "Import standard modules:"
   ]
  },
  {
   "cell_type": "code",
   "execution_count": 1,
   "metadata": {},
   "outputs": [
    {
     "data": {
      "text/html": [
       "<style>\n",
       "\n",
       "p.prerequisites {\n",
       "    border:5px;\n",
       "    border-style:none;\n",
       "    background-color:#F0F0F0;\n",
       "    box-shadow: 5px 5px 2px #888888;\n",
       "    border-color:#FF0000;\n",
       "    padding: 1em;\n",
       "    }\n",
       "\n",
       "p.conclusion {\n",
       "    border:5px;\n",
       "    border-style:none;\n",
       "    background-color:#c8ebca;\n",
       "    box-shadow: 5px 5px 2px #888888;\n",
       "    border-color:#c8ebca;\n",
       "    padding: 1em;\n",
       "    }\n",
       "\n",
       "div.warn {    \n",
       "    background-color: #fcf2f2;\n",
       "    border-color: #dFb5b4;\n",
       "    border-left: 5px solid #dfb5b4;\n",
       "    padding: 0.5em;\n",
       "    }\n",
       "\n",
       "div.advice {    \n",
       "    background-color: #ecf8ed;\n",
       "    border-color: #a2dda5;\n",
       "    border-left: 5px solid #a2dda5;\n",
       "    padding: 0.5em;\n",
       "    }\n",
       "\n",
       "</style>\n",
       "\n"
      ],
      "text/plain": [
       "<IPython.core.display.HTML object>"
      ]
     },
     "execution_count": 1,
     "metadata": {},
     "output_type": "execute_result"
    }
   ],
   "source": [
    "import numpy as np\n",
    "import matplotlib.pyplot as plt\n",
    "%matplotlib inline\n",
    "from IPython.display import HTML \n",
    "HTML('../style/course.css') #apply general CSS"
   ]
  },
  {
   "cell_type": "markdown",
   "metadata": {},
   "source": [
    "Import section specific modules:"
   ]
  },
  {
   "cell_type": "code",
   "execution_count": 2,
   "metadata": {},
   "outputs": [
    {
     "data": {
      "text/html": [
       "<script>\n",
       "    code_show=false; \n",
       "    function code_toggle() {\n",
       "        if (code_show){\n",
       "            $('div.input').hide();\n",
       "        } else {\n",
       "            $('div.input').show();\n",
       "        }\n",
       "        code_show = !code_show\n",
       "    } \n",
       "    $( document ).ready(code_toggle);\n",
       "</script>\n",
       "\n",
       "The raw code for this notebook is by default hidden for easier reading. To toggle on/off the raw code, click <a href=\"javascript:code_toggle()\">here</a>.\n",
       "\n"
      ],
      "text/plain": [
       "<IPython.core.display.HTML object>"
      ]
     },
     "execution_count": 2,
     "metadata": {},
     "output_type": "execute_result"
    }
   ],
   "source": [
    "from IPython.display import HTML\n",
    "HTML('../style/code_toggle.html')"
   ]
  },
  {
   "cell_type": "markdown",
   "metadata": {},
   "source": [
    "# 位置天文学 Positional Astronomy"
   ]
  },
  {
   "cell_type": "markdown",
   "metadata": {},
   "source": [
    "本章介绍干涉测量中需要用到的位置天文学知识，我们将讨论三种非常有用的天文坐标系统。\n",
    "\n",
    "In this chapter we present the positional astronomy we will need to comprehend interferometry. We discuss three useful astronomical coordinate systems in this chapter.\n",
    "\n",
    "<p class=conclusion>\n",
    "  <font size=4><b> 天文坐标系统 Astronomical coordinate systems </b></font>\n",
    "  <br>\n",
    "  <br>\n",
    "&bull; the <em> 赤道坐标系 equatorial coordinate system</em> in <a class='pos_sec_eq_intro'></a>: 利用赤道坐标系生成的星表，我们可以轻松定位夜空中的天体  the equatorial coordinate system enables us to create \n",
    "astronomical catalogues, so that we can easily locate celestial objects in the night sky.\n",
    "<br><br>\n",
    "&bull; the <em> 地平坐标系 horizontal coordinate system</em> in <a class='pos_sec_hoz_intro'></a>: 利用地平坐标系，望远镜指向当地天空的特定位置 the horizontal coordinate system is used to point a telescope to a specific location in an observer's local sky. <br><br> \n",
    "&bull; the <em> 方向余弦坐标系 direction cosine coordinate system</em> in <a class='pos_sec_dir_intro'></a>: 方向余弦坐标系用于生成观测方向上的当地天图，在射电天文中很重要，因为利用它可以建立天空亮度和干涉测量结果之间的关系。the direction cosine coordinate system is used to make local sky-maps around a direction of interest. It is also important in radio interferometry as it allows us to define a Fourier relationship between the sky brightness and interferometric measurements (see <a href='../4_Visibility_Space/4_0_introduction.ipynb'>$\\S$ 4 &#10142;</a>).\n",
    "</p>\n",
    "\n",
    "还有两个概念需要讨论：*时角* 和 *地方恒星时*\n",
    "\n",
    "There are two additional concepts that are also discussed: *hour angle* and *local sidereal time*. \n",
    "\n",
    "<p class=conclusion>\n",
    "  <font size=4><b> 时角 Hour angle </b></font>\n",
    "  <br>\n",
    "  <br>\n",
    "\n",
    "赤道坐标系是静止的，即在该坐标系下，恒星位置变动非常缓慢。在赤道坐标系里，跟经度类似的坐标称作赤经<em>right ascension</em>。然而，从地面观测者的角度来看，星星一直在空中移动，因此，如果我们要在地面上跟踪恒星，就需要一个可变的跟经度等效的赤道坐标，而时角恰好具备这个特点。时角的有关细节会在 <a class='pos_sec_ha_intro'></a> 进一步讨论到。\n",
    "    \n",
    "The equatorial coordinate system is static, i.e. the positions of the stars changes very slowly. The longitude equivalent equatorial coordinate is known as <em>right ascension</em>. The stars do however move across the sky of an earth-bound observer all the time, we therefore need a mutable longitude equivalent equatorial coordinate if we wish to keep track of the stars from earth. This is exactly what the hour angle provides. The hour angle is discussed in more detail in <a class='pos_sec_ha_intro'></a>.\n",
    "</p>\n",
    "\n",
    "<p class=conclusion>\n",
    "  <font size=4><b> 地方恒星时 Local sidereal time </b></font>\n",
    "  <br>\n",
    "  <br>\n",
    "\n",
    "<em>地方恒星时</em>是观测当地的当前恒星时间。我们需要一个单独的恒星时钟来跟踪太阳，太阳以及任意一颗恒星再次出现在天空同一位置所需要的时间不同。我们将根据源的赤经和地方恒星时算出时角，地方恒星时会<a class='pos_sec_lst_intro'></a>进一步讨论。\n",
    "    \n",
    "The <em>local sidereal time</em>, is the current star time of a local observer. We need a separate \"star\" clock as our normal civil clocks keep track of the Sun. The Sun and an arbitrary star take different amounts of time to reappear at the same position in the sky. We discuss this in greater detail in <a class='pos_sec_lst_intro'></a>. We use the local sidereal time to obtain the hour angle of a source from its right ascension coordinate.\n",
    "</p>\n",
    "\n",
    "一般来讲，本章我们不会显式参考外部文献，读者可以自行参考[<cite data-cite='Duffett2011'>Practical Astronomy with your calculator or spreadsheet </cite> &#10548;]。\n",
    "\n",
    "In general, we do not explicitly reference any outside material in this chapter, but the reader is referred to [<cite data-cite='Duffett2011'>Practical Astronomy with your calculator or spreadsheet </cite> &#10548;](https://books.google.co.za/books?id=MTGYxQyW998C&dq=astronomy+with+your+calculator+or+spreadsheet) as it provides an in depth review of astronomical coordinate systems. It is the main (mostly silent) reference of this chapter."
   ]
  },
  {
   "cell_type": "markdown",
   "metadata": {},
   "source": [
    "#### Chapter Sections\n",
    "\n",
    "* [Equatorial Coordinates](3_1_equatorial_coordinates.ipynb)\n",
    "* [Hour Angle and Local Sidereal Time](3_2_hour_angle.ipynb)\n",
    "* [Horizontal Coordinates](3_3_horizontal_coordinates.ipynb)\n",
    "* [Direction Cosine Coordinates](3_4_direction_cosine_coordinates.ipynb)\n",
    "* [Further Reading](3_x_further_reading_and_references.ipynb)"
   ]
  },
  {
   "cell_type": "markdown",
   "metadata": {},
   "source": [
    "#### Chapter Contributors\n",
    "\n",
    "* Trienko Grobler (3.1, 3.2, 3.3, 3.4, 3.5) <span style=\"background-color:cyan\">KT:CC:Is section 3.5 the same as 3.x, i.e. further reading and references?</span>\n",
    "* Julien Girard (3.2, Figures)"
   ]
  },
  {
   "cell_type": "markdown",
   "metadata": {},
   "source": [
    "#### Chapter Editors\n",
    "\n",
    "* Kshitij Thorat (2017)"
   ]
  },
  {
   "cell_type": "markdown",
   "metadata": {},
   "source": [
    "#### Format status:\n",
    "\n",
    "* <span style=\"background-color:green\">&nbsp;&nbsp;&nbsp;&nbsp;</span> : LF: 06/02/2017\n",
    "* <span style=\"background-color:green\">&nbsp;&nbsp;&nbsp;&nbsp;</span> : NC: 06/02/2017\n",
    "* <span style=\"background-color:green\">&nbsp;&nbsp;&nbsp;&nbsp;</span> : RF: 06/02/2017\n",
    "* <span style=\"background-color:green\">&nbsp;&nbsp;&nbsp;&nbsp;</span> : HF: 06/02/2017\n",
    "* <span style=\"background-color:green\">&nbsp;&nbsp;&nbsp;&nbsp;</span> : GM: 06/02/2017\n",
    "* <span style=\"background-color:green\">&nbsp;&nbsp;&nbsp;&nbsp;</span> : CC: 06/02/2017\n",
    "* <span style=\"background-color:green\">&nbsp;&nbsp;&nbsp;&nbsp;</span> : CL: 06/02/2017\n",
    "* <span style=\"background-color:green\">&nbsp;&nbsp;&nbsp;&nbsp;</span> : ST: 06/02/2017\n",
    "* <span style=\"background-color:green\">&nbsp;&nbsp;&nbsp;&nbsp;</span> : FN: 06/02/2017\n",
    "* <span style=\"background-color:green\">&nbsp;&nbsp;&nbsp;&nbsp;</span> : TC: 06/02/2017\n",
    "* <span style=\"background-color:green\">&nbsp;&nbsp;&nbsp;&nbsp;</span> : XX: 07/02/2017"
   ]
  },
  {
   "cell_type": "markdown",
   "metadata": {},
   "source": [
    "***\n",
    "\n",
    "Next: [Equatorial Coordinates](3_1_equatorial_coordinates.ipynb)"
   ]
  },
  {
   "cell_type": "markdown",
   "metadata": {},
   "source": [
    "<div class=warn><b>Future Additions:</b></div>\n",
    "\n",
    "* Stellarium example to show movement of sky sources from different locations on the Earth"
   ]
  }
 ],
 "metadata": {
  "kernelspec": {
   "display_name": "Python 3",
   "language": "python",
   "name": "python3"
  },
  "language_info": {
   "codemirror_mode": {
    "name": "ipython",
    "version": 3
   },
   "file_extension": ".py",
   "mimetype": "text/x-python",
   "name": "python",
   "nbconvert_exporter": "python",
   "pygments_lexer": "ipython3",
   "version": "3.7.0"
  }
 },
 "nbformat": 4,
 "nbformat_minor": 1
}
